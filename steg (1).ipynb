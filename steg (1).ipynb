{
  "cells": [
    {
      "cell_type": "code",
      "execution_count": 1,
      "metadata": {
        "colab": {
          "base_uri": "https://localhost:8080/"
        },
        "id": "B4h73oUzEJ_L",
        "outputId": "6b00324c-bbdc-4e5c-a8da-1eb738212fe6"
      },
      "outputs": [
        {
          "output_type": "stream",
          "name": "stdout",
          "text": [
            "mkdir: cannot create directory ‘div2k’: File exists\n",
            "/content/div2k\n",
            "--2022-03-12 08:50:07--  http://data.vision.ee.ethz.ch/cvl/DIV2K/DIV2K_valid_HR.zip\n",
            "Resolving data.vision.ee.ethz.ch (data.vision.ee.ethz.ch)... 129.132.52.178, 2001:67c:10ec:36c2::178\n",
            "Connecting to data.vision.ee.ethz.ch (data.vision.ee.ethz.ch)|129.132.52.178|:80... connected.\n",
            "HTTP request sent, awaiting response... 302 Found\n",
            "Location: https://data.vision.ee.ethz.ch/cvl/DIV2K/DIV2K_valid_HR.zip [following]\n",
            "--2022-03-12 08:50:07--  https://data.vision.ee.ethz.ch/cvl/DIV2K/DIV2K_valid_HR.zip\n",
            "Connecting to data.vision.ee.ethz.ch (data.vision.ee.ethz.ch)|129.132.52.178|:443... connected.\n",
            "HTTP request sent, awaiting response... 200 OK\n",
            "Length: 448993893 (428M) [application/zip]\n",
            "Saving to: ‘DIV2K_valid_HR.zip’\n",
            "\n",
            "DIV2K_valid_HR.zip  100%[===================>] 428.19M  20.5MB/s    in 22s     \n",
            "\n",
            "2022-03-12 08:50:29 (19.5 MB/s) - ‘DIV2K_valid_HR.zip’ saved [448993893/448993893]\n",
            "\n",
            "mkdir: cannot create directory ‘val’: File exists\n",
            "Archive:  DIV2K_valid_HR.zip\n",
            "replace val/_/0897.png? [y]es, [n]o, [A]ll, [N]one, [r]ename: n\n",
            "replace val/_/0887.png? [y]es, [n]o, [A]ll, [N]one, [r]ename: A\n",
            "  inflating: val/_/0887.png          \n",
            "  inflating: val/_/0806.png          \n",
            "  inflating: val/_/0834.png          \n",
            "  inflating: val/_/0896.png          \n",
            "  inflating: val/_/0881.png          \n",
            "  inflating: val/_/0828.png          \n",
            "  inflating: val/_/0833.png          \n",
            "  inflating: val/_/0877.png          \n",
            "  inflating: val/_/0826.png          \n",
            "  inflating: val/_/0879.png          \n",
            "  inflating: val/_/0812.png          \n",
            "  inflating: val/_/0809.png          \n",
            "  inflating: val/_/0865.png          \n",
            "  inflating: val/_/0882.png          \n",
            "  inflating: val/_/0830.png          \n",
            "  inflating: val/_/0892.png          \n",
            "  inflating: val/_/0859.png          \n",
            "  inflating: val/_/0858.png          \n",
            "  inflating: val/_/0816.png          \n",
            "  inflating: val/_/0836.png          \n",
            "  inflating: val/_/0857.png          \n",
            "  inflating: val/_/0824.png          \n",
            "  inflating: val/_/0823.png          \n",
            "  inflating: val/_/0810.png          \n",
            "  inflating: val/_/0900.png          \n",
            "  inflating: val/_/0884.png          \n",
            "  inflating: val/_/0890.png          \n",
            "  inflating: val/_/0835.png          \n",
            "  inflating: val/_/0848.png          \n",
            "  inflating: val/_/0869.png          \n",
            "  inflating: val/_/0878.png          \n",
            "  inflating: val/_/0860.png          \n",
            "  inflating: val/_/0851.png          \n",
            "  inflating: val/_/0870.png          \n",
            "  inflating: val/_/0867.png          \n",
            "  inflating: val/_/0898.png          \n",
            "  inflating: val/_/0818.png          \n",
            "  inflating: val/_/0814.png          \n",
            "  inflating: val/_/0895.png          \n",
            "  inflating: val/_/0856.png          \n",
            "  inflating: val/_/0891.png          \n",
            "  inflating: val/_/0829.png          \n",
            "  inflating: val/_/0825.png          \n",
            "  inflating: val/_/0853.png          \n",
            "  inflating: val/_/0894.png          \n",
            "  inflating: val/_/0863.png          \n",
            "  inflating: val/_/0883.png          \n",
            "  inflating: val/_/0822.png          \n",
            "  inflating: val/_/0837.png          \n",
            "  inflating: val/_/0849.png          \n",
            "  inflating: val/_/0899.png          \n",
            "  inflating: val/_/0807.png          \n",
            "  inflating: val/_/0864.png          \n",
            "  inflating: val/_/0845.png          \n",
            "  inflating: val/_/0871.png          \n",
            "  inflating: val/_/0804.png          \n",
            "  inflating: val/_/0815.png          \n",
            "  inflating: val/_/0813.png          \n",
            "  inflating: val/_/0868.png          \n",
            "  inflating: val/_/0893.png          \n",
            "  inflating: val/_/0876.png          \n",
            "  inflating: val/_/0889.png          \n",
            "  inflating: val/_/0843.png          \n",
            "  inflating: val/_/0862.png          \n",
            "  inflating: val/_/0875.png          \n",
            "  inflating: val/_/0885.png          \n",
            "  inflating: val/_/0866.png          \n",
            "  inflating: val/_/0839.png          \n",
            "  inflating: val/_/0873.png          \n",
            "  inflating: val/_/0820.png          \n",
            "  inflating: val/_/0852.png          \n",
            "  inflating: val/_/0819.png          \n",
            "  inflating: val/_/0808.png          \n",
            "  inflating: val/_/0802.png          \n",
            "  inflating: val/_/0821.png          \n",
            "  inflating: val/_/0811.png          \n",
            "  inflating: val/_/0847.png          \n",
            "  inflating: val/_/0838.png          \n",
            "  inflating: val/_/0827.png          \n",
            "  inflating: val/_/0844.png          \n",
            "  inflating: val/_/0872.png          \n",
            "  inflating: val/_/0880.png          \n",
            "  inflating: val/_/0854.png          \n",
            "  inflating: val/_/0831.png          \n",
            "  inflating: val/_/0841.png          \n",
            "  inflating: val/_/0832.png          \n",
            "  inflating: val/_/0801.png          \n",
            "  inflating: val/_/0805.png          \n",
            "  inflating: val/_/0888.png          \n",
            "  inflating: val/_/0861.png          \n",
            "  inflating: val/_/0817.png          \n",
            "  inflating: val/_/0803.png          \n",
            "  inflating: val/_/0842.png          \n",
            "  inflating: val/_/0855.png          \n",
            "  inflating: val/_/0840.png          \n",
            "  inflating: val/_/0874.png          \n",
            "  inflating: val/_/0846.png          \n",
            "  inflating: val/_/0886.png          \n",
            "  inflating: val/_/0850.png          \n",
            "--2022-03-12 08:51:12--  http://data.vision.ee.ethz.ch/cvl/DIV2K/DIV2K_train_HR.zip\n",
            "Resolving data.vision.ee.ethz.ch (data.vision.ee.ethz.ch)... 129.132.52.178, 2001:67c:10ec:36c2::178\n",
            "Connecting to data.vision.ee.ethz.ch (data.vision.ee.ethz.ch)|129.132.52.178|:80... connected.\n",
            "HTTP request sent, awaiting response... 302 Found\n",
            "Location: https://data.vision.ee.ethz.ch/cvl/DIV2K/DIV2K_train_HR.zip [following]\n",
            "--2022-03-12 08:51:12--  https://data.vision.ee.ethz.ch/cvl/DIV2K/DIV2K_train_HR.zip\n",
            "Connecting to data.vision.ee.ethz.ch (data.vision.ee.ethz.ch)|129.132.52.178|:443... connected.\n",
            "HTTP request sent, awaiting response... 200 OK\n",
            "Length: 3530603713 (3.3G) [application/zip]\n",
            "Saving to: ‘DIV2K_train_HR.zip’\n",
            "\n",
            "DIV2K_train_HR.zip  100%[===================>]   3.29G  20.0MB/s    in 2m 47s  \n",
            "\n",
            "2022-03-12 08:54:00 (20.2 MB/s) - ‘DIV2K_train_HR.zip’ saved [3530603713/3530603713]\n",
            "\n",
            "mkdir: cannot create directory ‘train’: File exists\n",
            "Archive:  DIV2K_train_HR.zip\n",
            "replace train/_/0103.png? [y]es, [n]o, [A]ll, [N]one, [r]ename: n\n",
            "replace train/_/0413.png? [y]es, [n]o, [A]ll, [N]one, [r]ename: A\n",
            "  inflating: train/_/0413.png        \n",
            "  inflating: train/_/0031.png        \n",
            "  inflating: train/_/0660.png        \n",
            "  inflating: train/_/0126.png        \n",
            "  inflating: train/_/0793.png        \n",
            "  inflating: train/_/0764.png        \n",
            "  inflating: train/_/0550.png        \n",
            "  inflating: train/_/0437.png        \n",
            "  inflating: train/_/0374.png        \n",
            "  inflating: train/_/0755.png        \n",
            "  inflating: train/_/0614.png        \n",
            "  inflating: train/_/0646.png        \n",
            "  inflating: train/_/0371.png        \n",
            "  inflating: train/_/0312.png        \n",
            "  inflating: train/_/0108.png        \n",
            "  inflating: train/_/0556.png        \n",
            "  inflating: train/_/0794.png        \n",
            "  inflating: train/_/0722.png        \n",
            "  inflating: train/_/0780.png        \n",
            "  inflating: train/_/0555.png        \n",
            "  inflating: train/_/0439.png        \n",
            "  inflating: train/_/0396.png        \n",
            "  inflating: train/_/0666.png        \n",
            "  inflating: train/_/0254.png        \n",
            "  inflating: train/_/0344.png        \n",
            "  inflating: train/_/0062.png        \n",
            "  inflating: train/_/0657.png        \n",
            "  inflating: train/_/0117.png        \n",
            "  inflating: train/_/0395.png        \n",
            "  inflating: train/_/0015.png        \n",
            "  inflating: train/_/0335.png        \n",
            "  inflating: train/_/0578.png        \n",
            "  inflating: train/_/0142.png        \n",
            "  inflating: train/_/0719.png        \n",
            "  inflating: train/_/0101.png        \n",
            "  inflating: train/_/0579.png        \n",
            "  inflating: train/_/0504.png        \n",
            "  inflating: train/_/0576.png        \n",
            "  inflating: train/_/0590.png        \n",
            "  inflating: train/_/0158.png        \n",
            "  inflating: train/_/0384.png        \n",
            "  inflating: train/_/0795.png        \n",
            "  inflating: train/_/0668.png        \n",
            "  inflating: train/_/0144.png        \n",
            "  inflating: train/_/0642.png        \n",
            "  inflating: train/_/0427.png        \n",
            "  inflating: train/_/0593.png        \n",
            "  inflating: train/_/0080.png        \n",
            "  inflating: train/_/0050.png        \n",
            "  inflating: train/_/0617.png        \n",
            "  inflating: train/_/0608.png        \n",
            "  inflating: train/_/0118.png        \n",
            "  inflating: train/_/0082.png        \n",
            "  inflating: train/_/0788.png        \n",
            "  inflating: train/_/0042.png        \n",
            "  inflating: train/_/0333.png        \n",
            "  inflating: train/_/0346.png        \n",
            "  inflating: train/_/0705.png        \n",
            "  inflating: train/_/0195.png        \n",
            "  inflating: train/_/0671.png        \n",
            "  inflating: train/_/0213.png        \n",
            "  inflating: train/_/0692.png        \n",
            "  inflating: train/_/0253.png        \n",
            "  inflating: train/_/0191.png        \n",
            "  inflating: train/_/0628.png        \n",
            "  inflating: train/_/0354.png        \n",
            "  inflating: train/_/0003.png        \n",
            "  inflating: train/_/0393.png        \n",
            "  inflating: train/_/0336.png        \n",
            "  inflating: train/_/0674.png        \n",
            "  inflating: train/_/0586.png        \n",
            "  inflating: train/_/0074.png        \n",
            "  inflating: train/_/0116.png        \n",
            "  inflating: train/_/0270.png        \n",
            "  inflating: train/_/0376.png        \n",
            "  inflating: train/_/0650.png        \n",
            "  inflating: train/_/0462.png        \n",
            "  inflating: train/_/0046.png        \n",
            "  inflating: train/_/0545.png        \n",
            "  inflating: train/_/0347.png        \n",
            "  inflating: train/_/0187.png        \n",
            "  inflating: train/_/0713.png        \n",
            "  inflating: train/_/0558.png        \n",
            "  inflating: train/_/0319.png        \n",
            "  inflating: train/_/0073.png        \n",
            "  inflating: train/_/0033.png        \n",
            "  inflating: train/_/0207.png        \n",
            "  inflating: train/_/0290.png        \n",
            "  inflating: train/_/0194.png        \n",
            "  inflating: train/_/0246.png        \n",
            "  inflating: train/_/0034.png        \n",
            "  inflating: train/_/0621.png        \n",
            "  inflating: train/_/0768.png        \n",
            "  inflating: train/_/0366.png        \n",
            "  inflating: train/_/0490.png        \n",
            "  inflating: train/_/0471.png        \n",
            "  inflating: train/_/0475.png        \n",
            "  inflating: train/_/0152.png        \n",
            "  inflating: train/_/0636.png        \n",
            "  inflating: train/_/0338.png        \n",
            "  inflating: train/_/0358.png        \n",
            "  inflating: train/_/0523.png        \n",
            "  inflating: train/_/0456.png        \n",
            "  inflating: train/_/0470.png        \n",
            "  inflating: train/_/0522.png        \n",
            "  inflating: train/_/0426.png        \n",
            "  inflating: train/_/0587.png        \n",
            "  inflating: train/_/0465.png        \n",
            "  inflating: train/_/0236.png        \n",
            "  inflating: train/_/0192.png        \n",
            "  inflating: train/_/0458.png        \n",
            "  inflating: train/_/0438.png        \n",
            "  inflating: train/_/0176.png        \n",
            "  inflating: train/_/0016.png        \n",
            "  inflating: train/_/0392.png        \n",
            "  inflating: train/_/0054.png        \n",
            "  inflating: train/_/0063.png        \n",
            "  inflating: train/_/0537.png        \n",
            "  inflating: train/_/0271.png        \n",
            "  inflating: train/_/0409.png        \n",
            "  inflating: train/_/0328.png        \n",
            "  inflating: train/_/0582.png        \n",
            "  inflating: train/_/0532.png        \n",
            "  inflating: train/_/0706.png        \n",
            "  inflating: train/_/0153.png        \n",
            "  inflating: train/_/0401.png        \n",
            "  inflating: train/_/0110.png        \n",
            "  inflating: train/_/0316.png        \n",
            "  inflating: train/_/0069.png        \n",
            "  inflating: train/_/0209.png        \n",
            "  inflating: train/_/0351.png        \n",
            "  inflating: train/_/0433.png        \n",
            "  inflating: train/_/0534.png        \n",
            "  inflating: train/_/0525.png        \n",
            "  inflating: train/_/0353.png        \n",
            "  inflating: train/_/0018.png        \n",
            "  inflating: train/_/0592.png        \n",
            "  inflating: train/_/0041.png        \n",
            "  inflating: train/_/0398.png        \n",
            "  inflating: train/_/0355.png        \n",
            "  inflating: train/_/0492.png        \n",
            "  inflating: train/_/0258.png        \n",
            "  inflating: train/_/0051.png        \n",
            "  inflating: train/_/0339.png        \n",
            "  inflating: train/_/0156.png        \n",
            "  inflating: train/_/0174.png        \n",
            "  inflating: train/_/0526.png        \n",
            "  inflating: train/_/0168.png        \n",
            "  inflating: train/_/0515.png        \n",
            "  inflating: train/_/0289.png        \n",
            "  inflating: train/_/0700.png        \n",
            "  inflating: train/_/0711.png        \n",
            "  inflating: train/_/0317.png        \n",
            "  inflating: train/_/0310.png        \n",
            "  inflating: train/_/0075.png        \n",
            "  inflating: train/_/0533.png        \n",
            "  inflating: train/_/0345.png        \n",
            "  inflating: train/_/0238.png        \n",
            "  inflating: train/_/0493.png        \n",
            "  inflating: train/_/0019.png        \n",
            "  inflating: train/_/0559.png        \n",
            "  inflating: train/_/0268.png        \n",
            "  inflating: train/_/0746.png        \n",
            "  inflating: train/_/0648.png        \n",
            "  inflating: train/_/0112.png        \n",
            "  inflating: train/_/0639.png        \n",
            "  inflating: train/_/0216.png        \n",
            "  inflating: train/_/0170.png        \n",
            "  inflating: train/_/0408.png        \n",
            "  inflating: train/_/0461.png        \n",
            "  inflating: train/_/0774.png        \n",
            "  inflating: train/_/0308.png        \n",
            "  inflating: train/_/0368.png        \n",
            "  inflating: train/_/0341.png        \n",
            "  inflating: train/_/0535.png        \n",
            "  inflating: train/_/0585.png        \n",
            "  inflating: train/_/0004.png        \n",
            "  inflating: train/_/0496.png        \n",
            "  inflating: train/_/0662.png        \n",
            "  inflating: train/_/0173.png        \n",
            "  inflating: train/_/0200.png        \n",
            "  inflating: train/_/0752.png        \n",
            "  inflating: train/_/0106.png        \n",
            "  inflating: train/_/0520.png        \n",
            "  inflating: train/_/0519.png        \n",
            "  inflating: train/_/0157.png        \n",
            "  inflating: train/_/0552.png        \n",
            "  inflating: train/_/0735.png        \n",
            "  inflating: train/_/0362.png        \n",
            "  inflating: train/_/0410.png        \n",
            "  inflating: train/_/0286.png        \n",
            "  inflating: train/_/0627.png        \n",
            "  inflating: train/_/0557.png        \n",
            "  inflating: train/_/0266.png        \n",
            "  inflating: train/_/0252.png        \n",
            "  inflating: train/_/0206.png        \n",
            "  inflating: train/_/0330.png        \n",
            "  inflating: train/_/0088.png        \n",
            "  inflating: train/_/0728.png        \n",
            "  inflating: train/_/0641.png        \n",
            "  inflating: train/_/0350.png        \n",
            "  inflating: train/_/0083.png        \n",
            "  inflating: train/_/0682.png        \n",
            "  inflating: train/_/0549.png        \n",
            "  inflating: train/_/0564.png        \n",
            "  inflating: train/_/0476.png        \n",
            "  inflating: train/_/0760.png        \n",
            "  inflating: train/_/0629.png        \n",
            "  inflating: train/_/0630.png        \n",
            "  inflating: train/_/0032.png        \n",
            "  inflating: train/_/0581.png        \n",
            "  inflating: train/_/0056.png        \n",
            "  inflating: train/_/0040.png        \n",
            "  inflating: train/_/0169.png        \n",
            "  inflating: train/_/0400.png        \n",
            "  inflating: train/_/0172.png        \n",
            "  inflating: train/_/0182.png        \n",
            "  inflating: train/_/0269.png        \n",
            "  inflating: train/_/0612.png        \n",
            "  inflating: train/_/0649.png        \n",
            "  inflating: train/_/0311.png        \n",
            "  inflating: train/_/0723.png        \n",
            "  inflating: train/_/0166.png        \n",
            "  inflating: train/_/0155.png        \n",
            "  inflating: train/_/0072.png        \n",
            "  inflating: train/_/0149.png        \n",
            "  inflating: train/_/0425.png        \n",
            "  inflating: train/_/0715.png        \n",
            "  inflating: train/_/0670.png        \n",
            "  inflating: train/_/0460.png        \n",
            "  inflating: train/_/0748.png        \n",
            "  inflating: train/_/0147.png        \n",
            "  inflating: train/_/0602.png        \n",
            "  inflating: train/_/0610.png        \n",
            "  inflating: train/_/0479.png        \n",
            "  inflating: train/_/0603.png        \n",
            "  inflating: train/_/0043.png        \n",
            "  inflating: train/_/0190.png        \n",
            "  inflating: train/_/0503.png        \n",
            "  inflating: train/_/0055.png        \n",
            "  inflating: train/_/0337.png        \n",
            "  inflating: train/_/0453.png        \n",
            "  inflating: train/_/0219.png        \n",
            "  inflating: train/_/0548.png        \n",
            "  inflating: train/_/0661.png        \n",
            "  inflating: train/_/0718.png        \n",
            "  inflating: train/_/0489.png        \n",
            "  inflating: train/_/0775.png        \n",
            "  inflating: train/_/0323.png        \n",
            "  inflating: train/_/0664.png        \n",
            "  inflating: train/_/0002.png        \n",
            "  inflating: train/_/0127.png        \n",
            "  inflating: train/_/0322.png        \n",
            "  inflating: train/_/0640.png        \n",
            "  inflating: train/_/0473.png        \n",
            "  inflating: train/_/0730.png        \n",
            "  inflating: train/_/0008.png        \n",
            "  inflating: train/_/0486.png        \n",
            "  inflating: train/_/0597.png        \n",
            "  inflating: train/_/0064.png        \n",
            "  inflating: train/_/0068.png        \n",
            "  inflating: train/_/0510.png        \n",
            "  inflating: train/_/0594.png        \n",
            "  inflating: train/_/0685.png        \n",
            "  inflating: train/_/0497.png        \n",
            "  inflating: train/_/0637.png        \n",
            "  inflating: train/_/0332.png        \n",
            "  inflating: train/_/0208.png        \n",
            "  inflating: train/_/0241.png        \n",
            "  inflating: train/_/0201.png        \n",
            "  inflating: train/_/0044.png        \n",
            "  inflating: train/_/0141.png        \n",
            "  inflating: train/_/0381.png        \n",
            "  inflating: train/_/0412.png        \n",
            "  inflating: train/_/0035.png        \n",
            "  inflating: train/_/0049.png        \n",
            "  inflating: train/_/0181.png        \n",
            "  inflating: train/_/0340.png        \n",
            "  inflating: train/_/0272.png        \n",
            "  inflating: train/_/0279.png        \n",
            "  inflating: train/_/0307.png        \n",
            "  inflating: train/_/0733.png        \n",
            "  inflating: train/_/0250.png        \n",
            "  inflating: train/_/0739.png        \n",
            "  inflating: train/_/0654.png        \n",
            "  inflating: train/_/0343.png        \n",
            "  inflating: train/_/0422.png        \n",
            "  inflating: train/_/0297.png        \n",
            "  inflating: train/_/0360.png        \n",
            "  inflating: train/_/0099.png        \n",
            "  inflating: train/_/0541.png        \n",
            "  inflating: train/_/0616.png        \n",
            "  inflating: train/_/0352.png        \n",
            "  inflating: train/_/0092.png        \n",
            "  inflating: train/_/0528.png        \n",
            "  inflating: train/_/0483.png        \n",
            "  inflating: train/_/0631.png        \n",
            "  inflating: train/_/0134.png        \n",
            "  inflating: train/_/0625.png        \n",
            "  inflating: train/_/0530.png        \n",
            "  inflating: train/_/0454.png        \n",
            "  inflating: train/_/0624.png        \n",
            "  inflating: train/_/0501.png        \n",
            "  inflating: train/_/0038.png        \n",
            "  inflating: train/_/0365.png        \n",
            "  inflating: train/_/0789.png        \n",
            "  inflating: train/_/0010.png        \n",
            "  inflating: train/_/0543.png        \n",
            "  inflating: train/_/0635.png        \n",
            "  inflating: train/_/0418.png        \n",
            "  inflating: train/_/0159.png        \n",
            "  inflating: train/_/0689.png        \n",
            "  inflating: train/_/0429.png        \n",
            "  inflating: train/_/0276.png        \n",
            "  inflating: train/_/0255.png        \n",
            "  inflating: train/_/0293.png        \n",
            "  inflating: train/_/0327.png        \n",
            "  inflating: train/_/0488.png        \n",
            "  inflating: train/_/0244.png        \n",
            "  inflating: train/_/0721.png        \n",
            "  inflating: train/_/0652.png        \n",
            "  inflating: train/_/0779.png        \n",
            "  inflating: train/_/0687.png        \n",
            "  inflating: train/_/0326.png        \n",
            "  inflating: train/_/0161.png        \n",
            "  inflating: train/_/0498.png        \n",
            "  inflating: train/_/0264.png        \n",
            "  inflating: train/_/0136.png        \n",
            "  inflating: train/_/0006.png        \n",
            "  inflating: train/_/0741.png        \n",
            "  inflating: train/_/0421.png        \n",
            "  inflating: train/_/0229.png        \n",
            "  inflating: train/_/0373.png        \n",
            "  inflating: train/_/0703.png        \n",
            "  inflating: train/_/0516.png        \n",
            "  inflating: train/_/0234.png        \n",
            "  inflating: train/_/0405.png        \n",
            "  inflating: train/_/0763.png        \n",
            "  inflating: train/_/0619.png        \n",
            "  inflating: train/_/0138.png        \n",
            "  inflating: train/_/0513.png        \n",
            "  inflating: train/_/0432.png        \n",
            "  inflating: train/_/0177.png        \n",
            "  inflating: train/_/0017.png        \n",
            "  inflating: train/_/0736.png        \n",
            "  inflating: train/_/0459.png        \n",
            "  inflating: train/_/0505.png        \n",
            "  inflating: train/_/0397.png        \n",
            "  inflating: train/_/0591.png        \n",
            "  inflating: train/_/0196.png        \n",
            "  inflating: train/_/0724.png        \n",
            "  inflating: train/_/0740.png        \n",
            "  inflating: train/_/0223.png        \n",
            "  inflating: train/_/0442.png        \n",
            "  inflating: train/_/0165.png        \n",
            "  inflating: train/_/0302.png        \n",
            "  inflating: train/_/0386.png        \n",
            "  inflating: train/_/0601.png        \n",
            "  inflating: train/_/0370.png        \n",
            "  inflating: train/_/0647.png        \n",
            "  inflating: train/_/0267.png        \n",
            "  inflating: train/_/0380.png        \n",
            "  inflating: train/_/0441.png        \n",
            "  inflating: train/_/0037.png        \n",
            "  inflating: train/_/0678.png        \n",
            "  inflating: train/_/0304.png        \n",
            "  inflating: train/_/0494.png        \n",
            "  inflating: train/_/0028.png        \n",
            "  inflating: train/_/0613.png        \n",
            "  inflating: train/_/0257.png        \n",
            "  inflating: train/_/0100.png        \n",
            "  inflating: train/_/0097.png        \n",
            "  inflating: train/_/0604.png        \n",
            "  inflating: train/_/0023.png        \n",
            "  inflating: train/_/0782.png        \n",
            "  inflating: train/_/0446.png        \n",
            "  inflating: train/_/0378.png        \n",
            "  inflating: train/_/0411.png        \n",
            "  inflating: train/_/0320.png        \n",
            "  inflating: train/_/0390.png        \n",
            "  inflating: train/_/0148.png        \n",
            "  inflating: train/_/0577.png        \n",
            "  inflating: train/_/0684.png        \n",
            "  inflating: train/_/0595.png        \n",
            "  inflating: train/_/0765.png        \n",
            "  inflating: train/_/0203.png        \n",
            "  inflating: train/_/0288.png        \n",
            "  inflating: train/_/0058.png        \n",
            "  inflating: train/_/0790.png        \n",
            "  inflating: train/_/0605.png        \n",
            "  inflating: train/_/0248.png        \n",
            "  inflating: train/_/0467.png        \n",
            "  inflating: train/_/0210.png        \n",
            "  inflating: train/_/0517.png        \n",
            "  inflating: train/_/0707.png        \n",
            "  inflating: train/_/0566.png        \n",
            "  inflating: train/_/0224.png        \n",
            "  inflating: train/_/0114.png        \n",
            "  inflating: train/_/0761.png        \n",
            "  inflating: train/_/0468.png        \n",
            "  inflating: train/_/0716.png        \n",
            "  inflating: train/_/0420.png        \n",
            "  inflating: train/_/0669.png        \n",
            "  inflating: train/_/0375.png        \n",
            "  inflating: train/_/0140.png        \n",
            "  inflating: train/_/0792.png        \n",
            "  inflating: train/_/0240.png        \n",
            "  inflating: train/_/0546.png        \n",
            "  inflating: train/_/0235.png        \n",
            "  inflating: train/_/0077.png        \n",
            "  inflating: train/_/0260.png        \n",
            "  inflating: train/_/0212.png        \n",
            "  inflating: train/_/0584.png        \n",
            "  inflating: train/_/0633.png        \n",
            "  inflating: train/_/0060.png        \n",
            "  inflating: train/_/0164.png        \n",
            "  inflating: train/_/0622.png        \n",
            "  inflating: train/_/0105.png        \n",
            "  inflating: train/_/0005.png        \n",
            "  inflating: train/_/0679.png        \n",
            "  inflating: train/_/0089.png        \n",
            "  inflating: train/_/0466.png        \n",
            "  inflating: train/_/0645.png        \n",
            "  inflating: train/_/0301.png        \n",
            "  inflating: train/_/0499.png        \n",
            "  inflating: train/_/0020.png        \n",
            "  inflating: train/_/0070.png        \n",
            "  inflating: train/_/0404.png        \n",
            "  inflating: train/_/0749.png        \n",
            "  inflating: train/_/0770.png        \n",
            "  inflating: train/_/0772.png        \n",
            "  inflating: train/_/0450.png        \n",
            "  inflating: train/_/0120.png        \n",
            "  inflating: train/_/0653.png        \n",
            "  inflating: train/_/0563.png        \n",
            "  inflating: train/_/0171.png        \n",
            "  inflating: train/_/0784.png        \n",
            "  inflating: train/_/0688.png        \n",
            "  inflating: train/_/0045.png        \n",
            "  inflating: train/_/0066.png        \n",
            "  inflating: train/_/0583.png        \n",
            "  inflating: train/_/0632.png        \n",
            "  inflating: train/_/0512.png        \n",
            "  inflating: train/_/0767.png        \n",
            "  inflating: train/_/0623.png        \n",
            "  inflating: train/_/0406.png        \n",
            "  inflating: train/_/0419.png        \n",
            "  inflating: train/_/0273.png        \n",
            "  inflating: train/_/0198.png        \n",
            "  inflating: train/_/0750.png        \n",
            "  inflating: train/_/0220.png        \n",
            "  inflating: train/_/0482.png        \n",
            "  inflating: train/_/0407.png        \n",
            "  inflating: train/_/0704.png        \n",
            "  inflating: train/_/0547.png        \n",
            "  inflating: train/_/0589.png        \n",
            "  inflating: train/_/0012.png        \n",
            "  inflating: train/_/0150.png        \n",
            "  inflating: train/_/0481.png        \n",
            "  inflating: train/_/0357.png        \n",
            "  inflating: train/_/0677.png        \n",
            "  inflating: train/_/0315.png        \n",
            "  inflating: train/_/0394.png        \n",
            "  inflating: train/_/0160.png        \n",
            "  inflating: train/_/0667.png        \n",
            "  inflating: train/_/0568.png        \n",
            "  inflating: train/_/0435.png        \n",
            "  inflating: train/_/0606.png        \n",
            "  inflating: train/_/0464.png        \n",
            "  inflating: train/_/0364.png        \n",
            "  inflating: train/_/0245.png        \n",
            "  inflating: train/_/0508.png        \n",
            "  inflating: train/_/0356.png        \n",
            "  inflating: train/_/0135.png        \n",
            "  inflating: train/_/0146.png        \n",
            "  inflating: train/_/0574.png        \n",
            "  inflating: train/_/0698.png        \n",
            "  inflating: train/_/0222.png        \n",
            "  inflating: train/_/0261.png        \n",
            "  inflating: train/_/0444.png        \n",
            "  inflating: train/_/0078.png        \n",
            "  inflating: train/_/0123.png        \n",
            "  inflating: train/_/0797.png        \n",
            "  inflating: train/_/0274.png        \n",
            "  inflating: train/_/0225.png        \n",
            "  inflating: train/_/0180.png        \n",
            "  inflating: train/_/0325.png        \n",
            "  inflating: train/_/0372.png        \n",
            "  inflating: train/_/0029.png        \n",
            "  inflating: train/_/0318.png        \n",
            "  inflating: train/_/0452.png        \n",
            "  inflating: train/_/0115.png        \n",
            "  inflating: train/_/0423.png        \n",
            "  inflating: train/_/0615.png        \n",
            "  inflating: train/_/0672.png        \n",
            "  inflating: train/_/0231.png        \n",
            "  inflating: train/_/0731.png        \n",
            "  inflating: train/_/0389.png        \n",
            "  inflating: train/_/0680.png        \n",
            "  inflating: train/_/0329.png        \n",
            "  inflating: train/_/0663.png        \n",
            "  inflating: train/_/0659.png        \n",
            "  inflating: train/_/0292.png        \n",
            "  inflating: train/_/0284.png        \n",
            "  inflating: train/_/0133.png        \n",
            "  inflating: train/_/0727.png        \n",
            "  inflating: train/_/0445.png        \n",
            "  inflating: train/_/0139.png        \n",
            "  inflating: train/_/0298.png        \n",
            "  inflating: train/_/0282.png        \n",
            "  inflating: train/_/0778.png        \n",
            "  inflating: train/_/0565.png        \n",
            "  inflating: train/_/0485.png        \n",
            "  inflating: train/_/0495.png        \n",
            "  inflating: train/_/0215.png        \n",
            "  inflating: train/_/0694.png        \n",
            "  inflating: train/_/0321.png        \n",
            "  inflating: train/_/0094.png        \n",
            "  inflating: train/_/0598.png        \n",
            "  inflating: train/_/0430.png        \n",
            "  inflating: train/_/0021.png        \n",
            "  inflating: train/_/0036.png        \n",
            "  inflating: train/_/0188.png        \n",
            "  inflating: train/_/0334.png        \n",
            "  inflating: train/_/0759.png        \n",
            "  inflating: train/_/0217.png        \n",
            "  inflating: train/_/0562.png        \n",
            "  inflating: train/_/0124.png        \n",
            "  inflating: train/_/0690.png        \n",
            "  inflating: train/_/0385.png        \n",
            "  inflating: train/_/0695.png        \n",
            "  inflating: train/_/0708.png        \n",
            "  inflating: train/_/0745.png        \n",
            "  inflating: train/_/0007.png        \n",
            "  inflating: train/_/0226.png        \n",
            "  inflating: train/_/0256.png        \n",
            "  inflating: train/_/0673.png        \n",
            "  inflating: train/_/0451.png        \n",
            "  inflating: train/_/0143.png        \n",
            "  inflating: train/_/0403.png        \n",
            "  inflating: train/_/0125.png        \n",
            "  inflating: train/_/0132.png        \n",
            "  inflating: train/_/0644.png        \n",
            "  inflating: train/_/0796.png        \n",
            "  inflating: train/_/0076.png        \n",
            "  inflating: train/_/0211.png        \n",
            "  inflating: train/_/0676.png        \n",
            "  inflating: train/_/0121.png        \n",
            "  inflating: train/_/0415.png        \n",
            "  inflating: train/_/0536.png        \n",
            "  inflating: train/_/0620.png        \n",
            "  inflating: train/_/0331.png        \n",
            "  inflating: train/_/0277.png        \n",
            "  inflating: train/_/0611.png        \n",
            "  inflating: train/_/0262.png        \n",
            "  inflating: train/_/0305.png        \n",
            "  inflating: train/_/0521.png        \n",
            "  inflating: train/_/0221.png        \n",
            "  inflating: train/_/0699.png        \n",
            "  inflating: train/_/0743.png        \n",
            "  inflating: train/_/0742.png        \n",
            "  inflating: train/_/0111.png        \n",
            "  inflating: train/_/0480.png        \n",
            "  inflating: train/_/0720.png        \n",
            "  inflating: train/_/0402.png        \n",
            "  inflating: train/_/0561.png        \n",
            "  inflating: train/_/0729.png        \n",
            "  inflating: train/_/0296.png        \n",
            "  inflating: train/_/0379.png        \n",
            "  inflating: train/_/0014.png        \n",
            "  inflating: train/_/0714.png        \n",
            "  inflating: train/_/0754.png        \n",
            "  inflating: train/_/0634.png        \n",
            "  inflating: train/_/0725.png        \n",
            "  inflating: train/_/0309.png        \n",
            "  inflating: train/_/0197.png        \n",
            "  inflating: train/_/0039.png        \n",
            "  inflating: train/_/0696.png        \n",
            "  inflating: train/_/0758.png        \n",
            "  inflating: train/_/0599.png        \n",
            "  inflating: train/_/0228.png        \n",
            "  inflating: train/_/0712.png        \n",
            "  inflating: train/_/0539.png        \n",
            "  inflating: train/_/0781.png        \n",
            "  inflating: train/_/0009.png        \n",
            "  inflating: train/_/0145.png        \n",
            "  inflating: train/_/0527.png        \n",
            "  inflating: train/_/0263.png        \n",
            "  inflating: train/_/0122.png        \n",
            "  inflating: train/_/0506.png        \n",
            "  inflating: train/_/0363.png        \n",
            "  inflating: train/_/0249.png        \n",
            "  inflating: train/_/0104.png        \n",
            "  inflating: train/_/0800.png        \n",
            "  inflating: train/_/0214.png        \n",
            "  inflating: train/_/0658.png        \n",
            "  inflating: train/_/0399.png        \n",
            "  inflating: train/_/0572.png        \n",
            "  inflating: train/_/0204.png        \n",
            "  inflating: train/_/0651.png        \n",
            "  inflating: train/_/0061.png        \n",
            "  inflating: train/_/0026.png        \n",
            "  inflating: train/_/0300.png        \n",
            "  inflating: train/_/0162.png        \n",
            "  inflating: train/_/0478.png        \n",
            "  inflating: train/_/0022.png        \n",
            "  inflating: train/_/0079.png        \n",
            "  inflating: train/_/0285.png        \n",
            "  inflating: train/_/0511.png        \n",
            "  inflating: train/_/0025.png        \n",
            "  inflating: train/_/0428.png        \n",
            "  inflating: train/_/0436.png        \n",
            "  inflating: train/_/0324.png        \n",
            "  inflating: train/_/0447.png        \n",
            "  inflating: train/_/0457.png        \n",
            "  inflating: train/_/0424.png        \n",
            "  inflating: train/_/0675.png        \n",
            "  inflating: train/_/0469.png        \n",
            "  inflating: train/_/0090.png        \n",
            "  inflating: train/_/0179.png        \n",
            "  inflating: train/_/0771.png        \n",
            "  inflating: train/_/0431.png        \n",
            "  inflating: train/_/0726.png        \n",
            "  inflating: train/_/0609.png        \n",
            "  inflating: train/_/0184.png        \n",
            "  inflating: train/_/0747.png        \n",
            "  inflating: train/_/0154.png        \n",
            "  inflating: train/_/0391.png        \n",
            "  inflating: train/_/0573.png        \n",
            "  inflating: train/_/0071.png        \n",
            "  inflating: train/_/0798.png        \n",
            "  inflating: train/_/0693.png        \n",
            "  inflating: train/_/0280.png        \n",
            "  inflating: train/_/0414.png        \n",
            "  inflating: train/_/0119.png        \n",
            "  inflating: train/_/0757.png        \n",
            "  inflating: train/_/0762.png        \n",
            "  inflating: train/_/0734.png        \n",
            "  inflating: train/_/0001.png        \n",
            "  inflating: train/_/0265.png        \n",
            "  inflating: train/_/0643.png        \n",
            "  inflating: train/_/0567.png        \n",
            "  inflating: train/_/0130.png        \n",
            "  inflating: train/_/0580.png        \n",
            "  inflating: train/_/0463.png        \n",
            "  inflating: train/_/0218.png        \n",
            "  inflating: train/_/0769.png        \n",
            "  inflating: train/_/0507.png        \n",
            "  inflating: train/_/0013.png        \n",
            "  inflating: train/_/0233.png        \n",
            "  inflating: train/_/0087.png        \n",
            "  inflating: train/_/0093.png        \n",
            "  inflating: train/_/0709.png        \n",
            "  inflating: train/_/0027.png        \n",
            "  inflating: train/_/0570.png        \n",
            "  inflating: train/_/0342.png        \n",
            "  inflating: train/_/0011.png        \n",
            "  inflating: train/_/0287.png        \n",
            "  inflating: train/_/0524.png        \n",
            "  inflating: train/_/0791.png        \n",
            "  inflating: train/_/0701.png        \n",
            "  inflating: train/_/0783.png        \n",
            "  inflating: train/_/0349.png        \n",
            "  inflating: train/_/0766.png        \n",
            "  inflating: train/_/0232.png        \n",
            "  inflating: train/_/0314.png        \n",
            "  inflating: train/_/0303.png        \n",
            "  inflating: train/_/0697.png        \n",
            "  inflating: train/_/0514.png        \n",
            "  inflating: train/_/0377.png        \n",
            "  inflating: train/_/0085.png        \n",
            "  inflating: train/_/0113.png        \n",
            "  inflating: train/_/0540.png        \n",
            "  inflating: train/_/0383.png        \n",
            "  inflating: train/_/0243.png        \n",
            "  inflating: train/_/0086.png        \n",
            "  inflating: train/_/0091.png        \n",
            "  inflating: train/_/0151.png        \n",
            "  inflating: train/_/0502.png        \n",
            "  inflating: train/_/0294.png        \n",
            "  inflating: train/_/0281.png        \n",
            "  inflating: train/_/0656.png        \n",
            "  inflating: train/_/0500.png        \n",
            "  inflating: train/_/0237.png        \n",
            "  inflating: train/_/0387.png        \n",
            "  inflating: train/_/0178.png        \n",
            "  inflating: train/_/0518.png        \n",
            "  inflating: train/_/0239.png        \n",
            "  inflating: train/_/0131.png        \n",
            "  inflating: train/_/0655.png        \n",
            "  inflating: train/_/0417.png        \n",
            "  inflating: train/_/0776.png        \n",
            "  inflating: train/_/0560.png        \n",
            "  inflating: train/_/0737.png        \n",
            "  inflating: train/_/0048.png        \n",
            "  inflating: train/_/0128.png        \n",
            "  inflating: train/_/0052.png        \n",
            "  inflating: train/_/0137.png        \n",
            "  inflating: train/_/0686.png        \n",
            "  inflating: train/_/0053.png        \n",
            "  inflating: train/_/0665.png        \n",
            "  inflating: train/_/0691.png        \n",
            "  inflating: train/_/0167.png        \n",
            "  inflating: train/_/0313.png        \n",
            "  inflating: train/_/0531.png        \n",
            "  inflating: train/_/0569.png        \n",
            "  inflating: train/_/0553.png        \n",
            "  inflating: train/_/0047.png        \n",
            "  inflating: train/_/0096.png        \n",
            "  inflating: train/_/0756.png        \n",
            "  inflating: train/_/0440.png        \n",
            "  inflating: train/_/0199.png        \n",
            "  inflating: train/_/0283.png        \n",
            "  inflating: train/_/0247.png        \n",
            "  inflating: train/_/0024.png        \n",
            "  inflating: train/_/0193.png        \n",
            "  inflating: train/_/0084.png        \n",
            "  inflating: train/_/0102.png        \n",
            "  inflating: train/_/0551.png        \n",
            "  inflating: train/_/0575.png        \n",
            "  inflating: train/_/0477.png        \n",
            "  inflating: train/_/0098.png        \n",
            "  inflating: train/_/0554.png        \n",
            "  inflating: train/_/0189.png        \n",
            "  inflating: train/_/0717.png        \n",
            "  inflating: train/_/0732.png        \n",
            "  inflating: train/_/0702.png        \n",
            "  inflating: train/_/0183.png        \n",
            "  inflating: train/_/0448.png        \n",
            "  inflating: train/_/0455.png        \n",
            "  inflating: train/_/0367.png        \n",
            "  inflating: train/_/0251.png        \n",
            "  inflating: train/_/0744.png        \n",
            "  inflating: train/_/0785.png        \n",
            "  inflating: train/_/0067.png        \n",
            "  inflating: train/_/0163.png        \n",
            "  inflating: train/_/0751.png        \n",
            "  inflating: train/_/0299.png        \n",
            "  inflating: train/_/0129.png        \n",
            "  inflating: train/_/0291.png        \n",
            "  inflating: train/_/0607.png        \n",
            "  inflating: train/_/0242.png        \n",
            "  inflating: train/_/0107.png        \n",
            "  inflating: train/_/0175.png        \n",
            "  inflating: train/_/0753.png        \n",
            "  inflating: train/_/0278.png        \n",
            "  inflating: train/_/0369.png        \n",
            "  inflating: train/_/0571.png        \n",
            "  inflating: train/_/0202.png        \n",
            "  inflating: train/_/0030.png        \n",
            "  inflating: train/_/0799.png        \n",
            "  inflating: train/_/0474.png        \n",
            "  inflating: train/_/0491.png        \n",
            "  inflating: train/_/0638.png        \n",
            "  inflating: train/_/0600.png        \n",
            "  inflating: train/_/0596.png        \n",
            "  inflating: train/_/0059.png        \n",
            "  inflating: train/_/0186.png        \n",
            "  inflating: train/_/0509.png        \n",
            "  inflating: train/_/0529.png        \n",
            "  inflating: train/_/0787.png        \n",
            "  inflating: train/_/0382.png        \n",
            "  inflating: train/_/0777.png        \n",
            "  inflating: train/_/0109.png        \n",
            "  inflating: train/_/0227.png        \n",
            "  inflating: train/_/0388.png        \n",
            "  inflating: train/_/0618.png        \n",
            "  inflating: train/_/0681.png        \n",
            "  inflating: train/_/0205.png        \n",
            "  inflating: train/_/0472.png        \n",
            "  inflating: train/_/0306.png        \n",
            "  inflating: train/_/0361.png        \n",
            "  inflating: train/_/0738.png        \n",
            "  inflating: train/_/0230.png        \n",
            "  inflating: train/_/0081.png        \n",
            "  inflating: train/_/0095.png        \n",
            "  inflating: train/_/0449.png        \n",
            "  inflating: train/_/0626.png        \n",
            "  inflating: train/_/0065.png        \n",
            "  inflating: train/_/0443.png        \n",
            "  inflating: train/_/0275.png        \n",
            "  inflating: train/_/0542.png        \n",
            "  inflating: train/_/0484.png        \n",
            "  inflating: train/_/0359.png        \n",
            "  inflating: train/_/0773.png        \n",
            "  inflating: train/_/0434.png        \n",
            "  inflating: train/_/0544.png        \n",
            "  inflating: train/_/0416.png        \n",
            "  inflating: train/_/0295.png        \n",
            "  inflating: train/_/0538.png        \n",
            "  inflating: train/_/0259.png        \n",
            "  inflating: train/_/0348.png        \n",
            "  inflating: train/_/0588.png        \n",
            "  inflating: train/_/0710.png        \n",
            "  inflating: train/_/0786.png        \n",
            "  inflating: train/_/0185.png        \n",
            "  inflating: train/_/0057.png        \n",
            "  inflating: train/_/0487.png        \n",
            "  inflating: train/_/0683.png        \n",
            "/content\n"
          ]
        }
      ],
      "source": [
        "#!/usr/bin/env bash\n",
        "\n",
        "# Div2K\n",
        "# -------------------------\n",
        "! mkdir div2k\n",
        "% cd div2k\n",
        "\n",
        "! wget http://data.vision.ee.ethz.ch/cvl/DIV2K/DIV2K_valid_HR.zip\n",
        "! mkdir val\n",
        "! unzip -j DIV2K_valid_HR.zip -d val/_\n",
        "! rm DIV2K_valid_HR.zip\n",
        "\n",
        "! wget http://data.vision.ee.ethz.ch/cvl/DIV2K/DIV2K_train_HR.zip\n",
        "! mkdir train\n",
        "! unzip -j DIV2K_train_HR.zip -d train/_\n",
        "! rm DIV2K_train_HR.zip\n",
        "\n",
        "% cd ..\n",
        "\n",
        "# MSCOCO\n",
        "# -------------------------\n",
        "#mkdir mscoco\n",
        "#cd mscoco\n",
        "\n",
        "#wget http://images.cocodataset.org/zips/test2017.zip\n",
        "#unzip test2017.zip\n",
        "#mkdir val\n",
        "#mv test2017 val/_\n",
        "#rm test2017.zip\n",
        "\n",
        "#wget http://images.cocodataset.org/zips/train2017.zip\n",
        "#unzip train2017.zip\n",
        "#mkdir train\n",
        "#mv train2017 train/_\n",
        "#rm train2017.zip\n",
        "\n",
        "#cd ..\n"
      ]
    },
    {
      "cell_type": "code",
      "execution_count": 2,
      "metadata": {
        "colab": {
          "base_uri": "https://localhost:8080/"
        },
        "id": "Zp9zApxK755n",
        "outputId": "22a03040-815f-4cee-d938-5c6c4856c071"
      },
      "outputs": [
        {
          "output_type": "stream",
          "name": "stdout",
          "text": [
            "/content\n"
          ]
        }
      ],
      "source": [
        "!pwd"
      ]
    },
    {
      "cell_type": "code",
      "execution_count": 3,
      "metadata": {
        "colab": {
          "base_uri": "https://localhost:8080/"
        },
        "id": "G1S1_Sn4Fz8R",
        "outputId": "b167abb9-2c3d-495c-8418-29893b865466"
      },
      "outputs": [
        {
          "output_type": "stream",
          "name": "stdout",
          "text": [
            "/bin/bash: 2.5.0: No such file or directory\n",
            "Requirement already satisfied: reedsolo==0.3 in /usr/local/lib/python3.7/dist-packages (0.3)\n",
            "/bin/bash: 1.2.0: No such file or directory\n",
            "/bin/bash: 1.16.0: No such file or directory\n",
            "/bin/bash: 7.0.0: No such file or directory\n",
            "Requirement already satisfied: torch==1.0.0 in /usr/local/lib/python3.7/dist-packages (1.0.0)\n",
            "Requirement already satisfied: torchvision==0.2.1 in /usr/local/lib/python3.7/dist-packages (0.2.1)\n",
            "Requirement already satisfied: pillow>=4.1.1 in /usr/local/lib/python3.7/dist-packages (from torchvision==0.2.1) (7.1.2)\n",
            "Requirement already satisfied: six in /usr/local/lib/python3.7/dist-packages (from torchvision==0.2.1) (1.15.0)\n",
            "Requirement already satisfied: torch in /usr/local/lib/python3.7/dist-packages (from torchvision==0.2.1) (1.0.0)\n",
            "Requirement already satisfied: numpy in /usr/local/lib/python3.7/dist-packages (from torchvision==0.2.1) (1.21.5)\n"
          ]
        }
      ],
      "source": [
        "!pip install imageio>=2.4.1,<2.5.0\n",
        "!pip install reedsolo==0.3\n",
        "!pip install scipy>=1.1.0,<1.2.0\n",
        "!pip install tqdm>=4.28.1\n",
        "!pip install numpy>=1.15.4<1.16.0\n",
        "!pip install Pillow>=5.0.0,<7.0.0\n",
        "!pip install torch==1.0.0\n",
        "!pip install torchvision==0.2.1"
      ]
    },
    {
      "cell_type": "code",
      "execution_count": 4,
      "metadata": {
        "id": "G8OulSvhUYGs"
      },
      "outputs": [],
      "source": [
        "# -*- coding: utf-8 -*-\n",
        "\n",
        "import zlib\n",
        "from math import exp\n",
        "\n",
        "import torch\n",
        "from reedsolo import RSCodec\n",
        "from torch.nn.functional import conv2d\n",
        "\n",
        "rs = RSCodec(250)\n",
        "\n",
        "\n",
        "def text_to_bits(text):\n",
        "    \"\"\"Convert text to a list of ints in {0, 1}\"\"\"\n",
        "    return bytearray_to_bits(text_to_bytearray(text))\n",
        "\n",
        "def bits_to_text(bits):\n",
        "    \"\"\"Convert a list of ints in {0, 1} to text\"\"\"\n",
        "    return bytearray_to_text(bits_to_bytearray(bits))\n",
        "\n",
        "\n",
        "def bytearray_to_bits(x):\n",
        "    \"\"\"Convert bytearray to a list of bits\"\"\"\n",
        "    result = []\n",
        "    for i in x:\n",
        "        bits = bin(i)[2:]\n",
        "        bits = '00000000'[len(bits):] + bits\n",
        "        result.extend([int(b) for b in bits])\n",
        "\n",
        "    return result\n",
        "\n",
        "\n",
        "def bits_to_bytearray(bits):\n",
        "    \"\"\"Convert a list of bits to a bytearray\"\"\"\n",
        "    ints = []\n",
        "    for b in range(len(bits) // 8):\n",
        "        byte = bits[b * 8:(b + 1) * 8]\n",
        "        ints.append(int(''.join([str(bit) for bit in byte]), 2))\n",
        "\n",
        "    return bytearray(ints)\n",
        "\n",
        "\n",
        "def text_to_bytearray(text):\n",
        "    \"\"\"Compress and add error correction\"\"\"\n",
        "    assert isinstance(text, str), \"expected a string\"\n",
        "    x = zlib.compress(text.encode(\"utf-8\"))\n",
        "    x = rs.encode(bytearray(x))\n",
        "\n",
        "    return x\n",
        "\n",
        "\n",
        "def bytearray_to_text(x):\n",
        "    \"\"\"Apply error correction and decompress\"\"\"\n",
        "    try:\n",
        "        text = rs.decode(x)\n",
        "        text = zlib.decompress(text)\n",
        "        return text.decode(\"utf-8\")\n",
        "    except BaseException:\n",
        "        return False\n",
        "\n",
        "\n",
        "def first_element(storage, loc):\n",
        "    \"\"\"Returns the first element of two\"\"\"\n",
        "    return storage\n",
        "\n",
        "\n",
        "def gaussian(window_size, sigma):\n",
        "    \"\"\"Gaussian window.\n",
        "\n",
        "    https://en.wikipedia.org/wiki/Window_function#Gaussian_window\n",
        "    \"\"\"\n",
        "    _exp = [exp(-(x - window_size // 2) ** 2 / float(2 * sigma ** 2)) for x in range(window_size)]\n",
        "    gauss = torch.Tensor(_exp)\n",
        "    return gauss / gauss.sum()\n",
        "\n",
        "\n",
        "def create_window(window_size, channel):\n",
        "    _1D_window = gaussian(window_size, 1.5).unsqueeze(1)\n",
        "    _2D_window = _1D_window.mm(_1D_window.t()).float().unsqueeze(0).unsqueeze(0)\n",
        "    window = _2D_window.expand(channel, 1, window_size, window_size).contiguous()\n",
        "    return window\n",
        "\n",
        "\n",
        "def _ssim(img1, img2, window, window_size, channel, size_average=True):\n",
        "\n",
        "    padding_size = window_size // 2\n",
        "\n",
        "    mu1 = conv2d(img1, window, padding=padding_size, groups=channel)\n",
        "    mu2 = conv2d(img2, window, padding=padding_size, groups=channel)\n",
        "\n",
        "    mu1_sq = mu1.pow(2)\n",
        "    mu2_sq = mu2.pow(2)\n",
        "    mu1_mu2 = mu1 * mu2\n",
        "\n",
        "    sigma1_sq = conv2d(img1 * img1, window, padding=padding_size, groups=channel) - mu1_sq\n",
        "    sigma2_sq = conv2d(img2 * img2, window, padding=padding_size, groups=channel) - mu2_sq\n",
        "    sigma12 = conv2d(img1 * img2, window, padding=padding_size, groups=channel) - mu1_mu2\n",
        "\n",
        "    C1 = 0.01**2\n",
        "    C2 = 0.03**2\n",
        "\n",
        "    _ssim_quotient = ((2 * mu1_mu2 + C1) * (2 * sigma12 + C2))\n",
        "    _ssim_divident = ((mu1_sq + mu2_sq + C1) * (sigma1_sq + sigma2_sq + C2))\n",
        "\n",
        "    ssim_map = _ssim_quotient / _ssim_divident\n",
        "\n",
        "    if size_average:\n",
        "        return ssim_map.mean()\n",
        "    else:\n",
        "        return ssim_map.mean(1).mean(1).mean(1)\n",
        "\n",
        "\n",
        "def ssim(img1, img2, window_size=11, size_average=True):\n",
        "    (_, channel, _, _) = img1.size()\n",
        "    window = create_window(window_size, channel)\n",
        "\n",
        "    if img1.is_cuda:\n",
        "        window = window.cuda(img1.get_device())\n",
        "    window = window.type_as(img1)\n",
        "\n",
        "    return _ssim(img1, img2, window, window_size, channel, size_average)"
      ]
    },
    {
      "cell_type": "code",
      "execution_count": 5,
      "metadata": {
        "id": "cqG3FAQ4759-"
      },
      "outputs": [],
      "source": [
        "# -*- coding: utf-8 -*-\n",
        "import gc\n",
        "import inspect\n",
        "import json\n",
        "import os\n",
        "from collections import Counter\n",
        "\n",
        "import imageio\n",
        "import torch\n",
        "from imageio import imread, imwrite\n",
        "from torch.nn.functional import binary_cross_entropy_with_logits, mse_loss\n",
        "from torch.optim import Adam\n",
        "from tqdm import tqdm\n",
        "\n",
        "#DEFAULT_PATH = os.path.join(\n",
        "#    os.path.dirname(os.path.abspath(__file__)),\n",
        "#    'train')\n",
        "\n",
        "METRIC_FIELDS = [\n",
        "    'val.encoder_mse',\n",
        "    'val.decoder_loss',\n",
        "    'val.decoder_acc',\n",
        "    'val.cover_score',\n",
        "    'val.generated_score',\n",
        "    'val.ssim',\n",
        "    'val.psnr',\n",
        "    'val.bpp',\n",
        "    'train.encoder_mse',\n",
        "    'train.decoder_loss',\n",
        "    'train.decoder_acc',\n",
        "    'train.cover_score',\n",
        "    'train.generated_score',\n",
        "]\n",
        "\n",
        "\n",
        "class Steganography(object):\n",
        "\n",
        "    def _get_instance(self, class_or_instance, kwargs):\n",
        "        \"\"\"Returns an instance of the class\"\"\"\n",
        "\n",
        "        if not inspect.isclass(class_or_instance):\n",
        "            return class_or_instance\n",
        "\n",
        "        argspec = inspect.getfullargspec(class_or_instance.__init__).args\n",
        "        argspec.remove('self')\n",
        "        init_args = {arg: kwargs[arg] for arg in argspec}\n",
        "\n",
        "        return class_or_instance(**init_args)\n",
        "\n",
        "    def set_device(self, cuda=True):\n",
        "        \"\"\"Sets the torch device depending on whether cuda is avaiable or not.\"\"\"\n",
        "        if cuda and torch.cuda.is_available():\n",
        "            self.cuda = True\n",
        "            self.device = torch.device('cuda')\n",
        "        else:\n",
        "            self.cuda = False\n",
        "            self.device = torch.device('cpu')\n",
        "\n",
        "        if self.verbose:\n",
        "            if not cuda:\n",
        "                print('Using CPU device')\n",
        "            elif not self.cuda:\n",
        "                print('CUDA is not available. Defaulting to CPU device')\n",
        "            else:\n",
        "                print('Using CUDA device')\n",
        "\n",
        "        self.encoder.to(self.device)\n",
        "        self.decoder.to(self.device)\n",
        "        self.critic.to(self.device)\n",
        "\n",
        "    def __init__(self, data_depth, encoder, decoder, critic,\n",
        "                 cuda=False, verbose=False, log_dir=None, **kwargs):\n",
        "\n",
        "        self.verbose = verbose\n",
        "\n",
        "        self.data_depth = data_depth\n",
        "        kwargs['data_depth'] = data_depth\n",
        "        self.encoder = self._get_instance(encoder, kwargs)\n",
        "        self.decoder = self._get_instance(decoder, kwargs)\n",
        "        self.critic = self._get_instance(critic, kwargs)\n",
        "        self.set_device(cuda)\n",
        "\n",
        "        self.critic_optimizer = None\n",
        "        self.decoder_optimizer = None\n",
        "\n",
        "        # Misc\n",
        "        self.fit_metrics = None\n",
        "        self.history = list()\n",
        "\n",
        "        self.log_dir = log_dir\n",
        "        if log_dir:\n",
        "            os.makedirs(self.log_dir, exist_ok=True)\n",
        "            self.samples_path = os.path.join(self.log_dir, 'samples')\n",
        "            os.makedirs(self.samples_path, exist_ok=True)\n",
        "\n",
        "    def _random_data(self, cover):\n",
        "        \"\"\"Generate random data ready to be hidden inside the cover image.\n",
        "\n",
        "        Args:\n",
        "            cover (image): Image to use as cover.\n",
        "\n",
        "        Returns:\n",
        "            generated (image): Image generated with the encoded message.\n",
        "        \"\"\"\n",
        "        N, _, H, W = cover.size()\n",
        "        return torch.zeros((N, self.data_depth, H, W), device=self.device).random_(0, 2)\n",
        "\n",
        "    def _encode_decode(self, cover, quantize=False):\n",
        "        \"\"\"Encode random data and then decode it.\n",
        "\n",
        "        Args:\n",
        "            cover (image): Image to use as cover.\n",
        "            quantize (bool): whether to quantize the generated image or not.\n",
        "\n",
        "        Returns:\n",
        "            generated (image): Image generated with the encoded message.\n",
        "            payload (bytes): Random data that has been encoded in the image.\n",
        "            decoded (bytes): Data decoded from the generated image.\n",
        "        \"\"\"\n",
        "        payload = self._random_data(cover)\n",
        "        generated = self.encoder(cover, payload)\n",
        "        if quantize:\n",
        "            generated = (255.0 * (generated + 1.0) / 2.0).long()\n",
        "            generated = 2.0 * generated.float() / 255.0 - 1.0\n",
        "\n",
        "        decoded = self.decoder(generated)\n",
        "\n",
        "        return generated, payload, decoded\n",
        "\n",
        "    def _critic(self, image):\n",
        "        \"\"\"Evaluate the image using the critic\"\"\"\n",
        "        return torch.mean(self.critic(image))\n",
        "\n",
        "    def _get_optimizers(self):\n",
        "        _dec_list = list(self.decoder.parameters()) + list(self.encoder.parameters())\n",
        "        critic_optimizer = Adam(self.critic.parameters(), lr=1e-3)\n",
        "        decoder_optimizer = Adam(_dec_list, lr=1e-3)\n",
        "\n",
        "        return critic_optimizer, decoder_optimizer\n",
        "\n",
        "    def _fit_critic(self, train, metrics):\n",
        "        \"\"\"Critic process\"\"\"\n",
        "        for cover, _ in tqdm(train, disable=not self.verbose):\n",
        "            gc.collect()\n",
        "            cover = cover.to(self.device)\n",
        "            payload = self._random_data(cover)\n",
        "            generated = self.encoder(cover, payload)\n",
        "            cover_score = self._critic(cover)\n",
        "            generated_score = self._critic(generated)\n",
        "\n",
        "            self.critic_optimizer.zero_grad()\n",
        "            (cover_score - generated_score).backward(retain_graph=False)\n",
        "            self.critic_optimizer.step()\n",
        "\n",
        "            for p in self.critic.parameters():\n",
        "                p.data.clamp_(-0.1, 0.1)\n",
        "\n",
        "            metrics['train.cover_score'].append(cover_score.item())\n",
        "            metrics['train.generated_score'].append(generated_score.item())\n",
        "\n",
        "    def _fit_coders(self, train, metrics):\n",
        "        \"\"\"Fit the encoder and the decoder on the train images.\"\"\"\n",
        "        for cover, _ in tqdm(train, disable=not self.verbose):\n",
        "            gc.collect()\n",
        "            cover = cover.to(self.device)\n",
        "            generated, payload, decoded = self._encode_decode(cover)\n",
        "            encoder_mse, decoder_loss, decoder_acc = self._coding_scores(\n",
        "                cover, generated, payload, decoded)\n",
        "            generated_score = self._critic(generated)\n",
        "\n",
        "            self.decoder_optimizer.zero_grad()\n",
        "            (100.0 * encoder_mse + decoder_loss + generated_score).backward()\n",
        "            self.decoder_optimizer.step()\n",
        "\n",
        "    def _coding_scores(self, cover, generated, payload, decoded):\n",
        "        encoder_mse = mse_loss(generated, cover)\n",
        "        decoder_loss = binary_cross_entropy_with_logits(decoded, payload)\n",
        "        decoder_acc = (decoded >= 0.0).eq(payload >= 0.5).sum().float() / payload.numel()\n",
        "\n",
        "        return encoder_mse, decoder_loss, decoder_acc\n",
        "\n",
        "    def _validate(self, validate, metrics):\n",
        "        \"\"\"Validation process\"\"\"\n",
        "        for cover, _ in tqdm(validate, disable=not self.verbose):\n",
        "            gc.collect()\n",
        "            cover = cover.to(self.device)\n",
        "            generated, payload, decoded = self._encode_decode(cover, quantize=True)\n",
        "            encoder_mse, decoder_loss, decoder_acc = self._coding_scores(\n",
        "                cover, generated, payload, decoded)\n",
        "            generated_score = self._critic(generated)\n",
        "            cover_score = self._critic(cover)\n",
        "\n",
        "        metrics['val.decoder_loss'].append(decoder_loss.item())\n",
        "        print('Loss:',decoder_loss.item())\n",
        "        metrics['val.decoder_acc'].append(decoder_acc.item())\n",
        "        print('Accuracy:',decoder_acc.item())\n",
        "        metrics['val.ssim'].append(ssim(cover, generated).item())\n",
        "        print('SSIM:',ssim(cover, generated).item())\n",
        "        metrics['val.psnr'].append(10 * torch.log10(4 / encoder_mse).item())\n",
        "        print('PSNR:',10 * torch.log10(4 / encoder_mse).item())\n",
        "        metrics['val.bpp'].append(self.data_depth * (2 * decoder_acc.item() - 1))\n",
        "        print('bpp:',self.data_depth * (2 * decoder_acc.item() - 1))\n",
        "\n",
        "    def _generate_samples(self, samples_path, cover, epoch):\n",
        "        cover = cover.to(self.device)\n",
        "        generated, payload, decoded = self._encode_decode(cover)\n",
        "        samples = generated.size(0)\n",
        "        for sample in range(samples):\n",
        "            cover_path = os.path.join(samples_path, '{}.cover.png'.format(sample))\n",
        "            sample_name = '{}.generated-{:2d}.png'.format(sample, epoch)\n",
        "            sample_path = os.path.join(samples_path, sample_name)\n",
        "\n",
        "            image = (cover[sample].permute(1, 2, 0).detach().cpu().numpy() + 1.0) / 2.0\n",
        "            imageio.imwrite(cover_path, (255.0 * image).astype('uint8'))\n",
        "\n",
        "            sampled = generated[sample].clamp(-1.0, 1.0).permute(1, 2, 0)\n",
        "            sampled = sampled.detach().cpu().numpy() + 1.0\n",
        "\n",
        "            image = sampled / 2.0\n",
        "            imageio.imwrite(sample_path, (255.0 * image).astype('uint8'))\n",
        "\n",
        "    def fit(self, train, validate, epochs=5):\n",
        "        \"\"\"Train a new model with the given ImageLoader class.\"\"\"\n",
        "\n",
        "        if self.critic_optimizer is None:\n",
        "            self.critic_optimizer, self.decoder_optimizer = self._get_optimizers()\n",
        "            self.epochs = 0\n",
        "\n",
        "        if self.log_dir:\n",
        "            sample_cover = next(iter(validate))[0]\n",
        "\n",
        "        # Start training\n",
        "        total = self.epochs + epochs\n",
        "        for epoch in range(1, epochs + 1):\n",
        "            # Count how many epochs we have trained for this steganography\n",
        "            self.epochs += 1\n",
        "\n",
        "            metrics = {field: list() for field in METRIC_FIELDS}\n",
        "\n",
        "            if self.verbose:\n",
        "                print('Epoch {}/{}'.format(self.epochs, total))\n",
        "\n",
        "            self._fit_critic(train, metrics)\n",
        "            self._fit_coders(train, metrics)\n",
        "            self._validate(validate, metrics)\n",
        "\n",
        "            self.fit_metrics = {k: sum(v) / len(v) for k, v in metrics.items() if len(v)}\n",
        "            self.fit_metrics['epoch'] = epoch\n",
        "\n",
        "            if self.log_dir:\n",
        "                self.history.append(self.fit_metrics)\n",
        "\n",
        "                metrics_path = os.path.join(self.log_dir, 'metrics.log')\n",
        "                with open(metrics_path, 'w') as metrics_file:\n",
        "                    json.dump(self.history, metrics_file, indent=4)\n",
        "\n",
        "                save_name = '{}.bpp-{:03f}.p'.format(\n",
        "                    self.epochs, self.fit_metrics['val.bpp'])\n",
        "\n",
        "                self.save(os.path.join(self.log_dir, save_name))\n",
        "                self._generate_samples(self.samples_path, sample_cover, epoch)\n",
        "\n",
        "            # Empty cuda cache (this may help for memory leaks)\n",
        "            if self.cuda:\n",
        "                torch.cuda.empty_cache()\n",
        "\n",
        "            gc.collect()\n",
        "\n",
        "    def _make_payload(self, width, height, depth, text):\n",
        "        \"\"\"\n",
        "        This takes a piece of text and encodes it into a bit vector. It then\n",
        "        fills a matrix of size (width, height) with copies of the bit vector.\n",
        "        \"\"\"\n",
        "        message = text_to_bits(text) + [0] * 32\n",
        "\n",
        "        payload = message\n",
        "        while len(payload) < width * height * depth:\n",
        "            payload += message\n",
        "\n",
        "        payload = payload[:width * height * depth]\n",
        "\n",
        "        return torch.FloatTensor(payload).view(1, depth, height, width)\n",
        "\n",
        "    def encode(self, cover, output, text):\n",
        "        \"\"\"Encode an image.\n",
        "        Args:\n",
        "            cover (str): Path to the image to be used as cover.\n",
        "            output (str): Path where the generated image will be saved.\n",
        "            text (str): Message to hide inside the image.\n",
        "        \"\"\"\n",
        "        cover = imread(cover, pilmode='RGB') / 127.5 - 1.0\n",
        "        cover = torch.FloatTensor(cover).permute(2, 1, 0).unsqueeze(0)\n",
        "\n",
        "        cover_size = cover.size()\n",
        "        # _, _, height, width = cover.size()\n",
        "        payload = self._make_payload(cover_size[3], cover_size[2], self.data_depth, text)\n",
        "\n",
        "        cover = cover.to(self.device)\n",
        "        payload = payload.to(self.device)\n",
        "        generated = self.encoder(cover, payload)[0].clamp(-1.0, 1.0)\n",
        "\n",
        "        generated = (generated.permute(2, 1, 0).detach().cpu().numpy() + 1.0) * 127.5\n",
        "        imwrite(output, generated.astype('uint8'))\n",
        "\n",
        "        if self.verbose:\n",
        "            print('Encoding completed.')\n",
        "\n",
        "    def decode(self, image):\n",
        "\n",
        "        if not os.path.exists(image):\n",
        "            raise ValueError('Unable to read %s.' % image)\n",
        "\n",
        "        # extract a bit vector\n",
        "        image = imread(image, pilmode='RGB') / 255.0\n",
        "        image = torch.FloatTensor(image).permute(2, 1, 0).unsqueeze(0)\n",
        "        image = image.to(self.device)\n",
        "\n",
        "        image = self.decoder(image).view(-1) > 0\n",
        "\n",
        "        # split and decode messages\n",
        "        candidates = Counter()\n",
        "        bits = image.data.cpu().numpy().tolist()\n",
        "        for candidate in bits_to_bytearray(bits).split(b'\\x00\\x00\\x00\\x00'):\n",
        "            candidate = bytearray_to_text(bytearray(candidate))\n",
        "            if candidate:\n",
        "                candidates[candidate] += 1\n",
        "\n",
        "        # choose most common message\n",
        "        if len(candidates) == 0:\n",
        "            raise ValueError('Failed to find message.')\n",
        "\n",
        "        candidate, count = candidates.most_common(1)[0]\n",
        "        return candidate\n",
        "\n",
        "    def save(self, path):\n",
        "        \"\"\"Save the fitted model in the given path. Raises an exception if there is no model.\"\"\"\n",
        "        torch.save(self, path)\n",
        "\n",
        "    @classmethod\n",
        "    def load(cls, architecture=None, path=None, cuda=True, verbose=False):\n",
        "        \"\"\"Loads an instance of Steganography for the given architecture (default pretrained models)\n",
        "        or loads a pretrained model from a given path.\n",
        "\n",
        "        Args:\n",
        "            architecture(str): Name of a pretrained model to be loaded from the default models.\n",
        "            path(str): Path to custom pretrained model. *Architecture must be None.\n",
        "            cuda(bool): Force loaded model to use cuda (if available).\n",
        "            verbose(bool): Force loaded model to use or not verbose.\n",
        "        \"\"\"\n",
        "\n",
        "        if architecture and not path:\n",
        "            model_name = '{}.steg'.format(architecture)\n",
        "            pretrained_path = os.path.join(os.path.dirname(__file__), 'pretrained')\n",
        "            path = os.path.join(pretrained_path, model_name)\n",
        "\n",
        "        elif (architecture is None and path is None) or (architecture and path):\n",
        "            raise ValueError(\n",
        "                'Please provide either an architecture or a path to pretrained model.')\n",
        "\n",
        "        steganography = torch.load(path, map_location='cpu')\n",
        "        steganography.verbose = verbose\n",
        "\n",
        "        steganography.encoder.upgrade_legacy()\n",
        "        steganography.decoder.upgrade_legacy()\n",
        "        steganography.critic.upgrade_legacy()\n",
        "\n",
        "        steganography.set_device(cuda)\n",
        "        return steganography\n"
      ]
    },
    {
      "cell_type": "code",
      "execution_count": 6,
      "metadata": {
        "id": "8esUm8F8O5TJ"
      },
      "outputs": [],
      "source": [
        "# -*- coding: utf-8 -*-\n",
        "\n",
        "import torch\n",
        "from torch import nn\n",
        "\n",
        "\n",
        "class Critic(nn.Module):\n",
        "    \"\"\"\n",
        "    The Critic module takes an image and predicts whether it is a cover\n",
        "    image or a steganographic image (N, 1).\n",
        "\n",
        "    Input: (N, 3, H, W)\n",
        "    Output: (N, 1)\n",
        "    \"\"\"\n",
        "\n",
        "    def _conv2d(self, in_channels, out_channels):\n",
        "        return nn.Conv2d(\n",
        "            in_channels=in_channels,\n",
        "            out_channels=out_channels,\n",
        "            kernel_size=3\n",
        "        )\n",
        "\n",
        "    def _build_models(self):\n",
        "        return nn.Sequential(\n",
        "            self._conv2d(3, self.hidden_size),\n",
        "            nn.LeakyReLU(inplace=True),\n",
        "            nn.BatchNorm2d(self.hidden_size),\n",
        "\n",
        "            self._conv2d(self.hidden_size, self.hidden_size),\n",
        "            nn.LeakyReLU(inplace=True),\n",
        "            nn.BatchNorm2d(self.hidden_size),\n",
        "\n",
        "            self._conv2d(self.hidden_size, self.hidden_size),\n",
        "            nn.LeakyReLU(inplace=True),\n",
        "            nn.BatchNorm2d(self.hidden_size),\n",
        "\n",
        "            self._conv2d(self.hidden_size, 1)\n",
        "        )\n",
        "\n",
        "    def __init__(self, hidden_size):\n",
        "        super().__init__()\n",
        "        self.version = '1'\n",
        "        self.hidden_size = hidden_size\n",
        "        self._models = self._build_models()\n",
        "\n",
        "    def upgrade_legacy(self):\n",
        "        \"\"\"Transform legacy pretrained models to make them usable with new code versions.\"\"\"\n",
        "        # Transform to version 1\n",
        "        if not hasattr(self, 'version'):\n",
        "            self._models = self.layers\n",
        "            self.version = '1'\n",
        "\n",
        "    def forward(self, x):\n",
        "        x = self._models(x)\n",
        "        x = torch.mean(x.view(x.size(0), -1), dim=1)\n",
        "\n",
        "        return x"
      ]
    },
    {
      "cell_type": "code",
      "execution_count": 7,
      "metadata": {
        "id": "8WkajFrKPYmV"
      },
      "outputs": [],
      "source": [
        "# -*- coding: utf-8 -*-\n",
        "\n",
        "import torch\n",
        "from torch import nn\n",
        "\n",
        "class Encoder(nn.Module):\n",
        "    \"\"\"\n",
        "    The Encoder module takes an cover image and a data tensor and combines\n",
        "    them into a steganographic image.\n",
        "\n",
        "    Input: (N, 3, H, W), (N, D, H, W)\n",
        "    Output: (N, 3, H, W)\n",
        "    \"\"\"\n",
        "\n",
        "    add_image = False\n",
        "\n",
        "    def _conv2d(self, in_channels, out_channels):\n",
        "        return nn.Conv2d(\n",
        "            in_channels=in_channels,\n",
        "            out_channels=out_channels,\n",
        "            kernel_size=3,\n",
        "            padding=1\n",
        "        )\n",
        "\n",
        "    def _build_models(self):\n",
        "        self.features = nn.Sequential(\n",
        "            self._conv2d(3, self.hidden_size),\n",
        "            nn.LeakyReLU(inplace=True),\n",
        "            nn.BatchNorm2d(self.hidden_size),\n",
        "        )\n",
        "        self.layers = nn.Sequential(\n",
        "            self._conv2d(self.hidden_size + self.data_depth, self.hidden_size),\n",
        "            nn.LeakyReLU(inplace=True),\n",
        "            nn.BatchNorm2d(self.hidden_size),\n",
        "            self._conv2d(self.hidden_size, self.hidden_size),\n",
        "            nn.LeakyReLU(inplace=True),\n",
        "            nn.BatchNorm2d(self.hidden_size),\n",
        "            self._conv2d(self.hidden_size, 3),\n",
        "            nn.Tanh(),\n",
        "        )\n",
        "        return self.features, self.layers\n",
        "\n",
        "    def __init__(self, data_depth, hidden_size):\n",
        "        super().__init__()\n",
        "        self.version = '1'\n",
        "        self.data_depth = data_depth\n",
        "        self.hidden_size = hidden_size\n",
        "        self._models = self._build_models()\n",
        "\n",
        "    def upgrade_legacy(self):\n",
        "        \"\"\"Transform legacy pretrained models to make them usable with new code versions.\"\"\"\n",
        "        # Transform to version 1\n",
        "        if not hasattr(self, 'version'):\n",
        "            self.version = '1'\n",
        "\n",
        "    def forward(self, image, data):\n",
        "        x = self._models[0](image)\n",
        "        x_list = [x]\n",
        "\n",
        "        for layer in self._models[1:]:\n",
        "            x = layer(torch.cat(x_list + [data], dim=1))\n",
        "            x_list.append(x)\n",
        "\n",
        "        if self.add_image:\n",
        "            x = image + x\n",
        "\n",
        "        return x\n",
        "\n",
        "class EnhancedEncoder(Encoder):\n",
        "    \"\"\"\n",
        "    The DenseEncoder module takes an cover image and a data tensor and combines\n",
        "    them into a steganographic image.\n",
        "\n",
        "    Input: (N, 3, H, W), (N, D, H, W)\n",
        "    Output: (N, 3, H, W)\n",
        "    \"\"\"\n",
        "\n",
        "    add_image = True\n",
        "\n",
        "    def _build_models(self):\n",
        "        self.conv1 = nn.Sequential(\n",
        "            self._conv2d(3, self.hidden_size),\n",
        "            nn.LeakyReLU(inplace=True),\n",
        "            nn.BatchNorm2d(self.hidden_size),\n",
        "        )\n",
        "        self.conv2 = nn.Sequential(\n",
        "            self._conv2d(self.hidden_size + self.data_depth, self.hidden_size),\n",
        "            nn.LeakyReLU(inplace=True),\n",
        "            nn.BatchNorm2d(self.hidden_size),\n",
        "        )\n",
        "        self.conv3 = nn.Sequential(\n",
        "            self._conv2d(self.hidden_size * 2 + self.data_depth, self.hidden_size),\n",
        "            nn.LeakyReLU(inplace=True),\n",
        "            nn.BatchNorm2d(self.hidden_size),\n",
        "        )\n",
        "        self.conv4 = nn.Sequential(\n",
        "            self._conv2d(self.hidden_size * 3 + self.data_depth, 3)\n",
        "        )\n",
        "\n",
        "        return self.conv1, self.conv2, self.conv3, self.conv4        "
      ]
    },
    {
      "cell_type": "code",
      "execution_count": 8,
      "metadata": {
        "id": "xgwPnuoDgWSi"
      },
      "outputs": [],
      "source": [
        "# -*- coding: utf-8 -*-\n",
        "\n",
        "import torch\n",
        "from torch import nn\n",
        "\n",
        "class Decoder(nn.Module):\n",
        "    \"\"\"\n",
        "    The Decoder module takes an steganographic image and attempts to decode\n",
        "    the embedded data tensor.\n",
        "\n",
        "    Input: (N, 3, H, W)\n",
        "    Output: (N, D, H, W)\n",
        "    \"\"\"\n",
        "\n",
        "    def _conv2d(self, in_channels, out_channels):\n",
        "        return nn.Conv2d(\n",
        "            in_channels=in_channels,\n",
        "            out_channels=out_channels,\n",
        "            kernel_size=3,\n",
        "            padding=1\n",
        "        )\n",
        "\n",
        "    def _build_models(self):\n",
        "        self.layers = nn.Sequential(\n",
        "            self._conv2d(3, self.hidden_size),\n",
        "            nn.LeakyReLU(inplace=True),\n",
        "            nn.BatchNorm2d(self.hidden_size),\n",
        "\n",
        "            self._conv2d(self.hidden_size, self.hidden_size),\n",
        "            nn.LeakyReLU(inplace=True),\n",
        "            nn.BatchNorm2d(self.hidden_size),\n",
        "\n",
        "            self._conv2d(self.hidden_size, self.hidden_size),\n",
        "            nn.LeakyReLU(inplace=True),\n",
        "            nn.BatchNorm2d(self.hidden_size),\n",
        "\n",
        "            self._conv2d(self.hidden_size, self.data_depth)\n",
        "        )\n",
        "\n",
        "        return [self.layers]\n",
        "\n",
        "    def __init__(self, data_depth, hidden_size):\n",
        "        super().__init__()\n",
        "        self.version = '1'\n",
        "        self.data_depth = data_depth\n",
        "        self.hidden_size = hidden_size\n",
        "\n",
        "        self._models = self._build_models()\n",
        "\n",
        "    def upgrade_legacy(self):\n",
        "        \"\"\"Transform legacy pretrained models to make them usable with new code versions.\"\"\"\n",
        "        # Transform to version 1\n",
        "        if not hasattr(self, 'version'):\n",
        "            self._models = [self.layers]\n",
        "\n",
        "            self.version = '1'\n",
        "\n",
        "    def forward(self, x):\n",
        "        x = self._models[0](x)\n",
        "\n",
        "        if len(self._models) > 1:\n",
        "            x_list = [x]\n",
        "            for layer in self._models[1:]:\n",
        "                x = layer(torch.cat(x_list, dim=1))\n",
        "                x_list.append(x)\n",
        "\n",
        "        return x\n",
        "\n",
        "class EnhancedDecoder(Decoder):\n",
        "    \"\"\"\n",
        "    The DenseDecoder module takes an steganographic image and attempts to decode\n",
        "    the embedded data tensor.\n",
        "\n",
        "    Input: (N, 3, H, W)\n",
        "    Output: (N, D, H, W)\n",
        "    \"\"\"\n",
        "    def _build_models(self):\n",
        "        self.conv1 = nn.Sequential(\n",
        "            self._conv2d(3, self.hidden_size),\n",
        "            nn.LeakyReLU(inplace=True),\n",
        "            nn.BatchNorm2d(self.hidden_size)\n",
        "        )\n",
        "\n",
        "        self.conv2 = nn.Sequential(\n",
        "            self._conv2d(self.hidden_size, self.hidden_size),\n",
        "            nn.LeakyReLU(inplace=True),\n",
        "            nn.BatchNorm2d(self.hidden_size)\n",
        "        )\n",
        "\n",
        "        self.conv3 = nn.Sequential(\n",
        "            self._conv2d(self.hidden_size * 2, self.hidden_size),\n",
        "            nn.LeakyReLU(inplace=True),\n",
        "            nn.BatchNorm2d(self.hidden_size)\n",
        "        )\n",
        "\n",
        "        self.conv4 = nn.Sequential(self._conv2d(self.hidden_size * 3, self.data_depth))\n",
        "\n",
        "        return self.conv1, self.conv2, self.conv3, self.conv4\n",
        "\n",
        "    def upgrade_legacy(self):\n",
        "        \"\"\"Transform legacy pretrained models to make them usable with new code versions.\"\"\"\n",
        "        # Transform to version 1\n",
        "        if not hasattr(self, 'version'):\n",
        "            self._models = [\n",
        "                self.conv1,\n",
        "                self.conv2,\n",
        "                self.conv3,\n",
        "                self.conv4\n",
        "            ]\n",
        "\n",
        "            self.version = '1'\n"
      ]
    },
    {
      "cell_type": "code",
      "execution_count": 9,
      "metadata": {
        "id": "IyODGFCHPp15"
      },
      "outputs": [],
      "source": [
        "# -*- coding: utf-8 -*-\n",
        "\n",
        "import numpy as np\n",
        "import torch\n",
        "import torchvision\n",
        "from torchvision import transforms\n",
        "\n",
        "_DEFAULT_MU = [.5, .5, .5]\n",
        "_DEFAULT_SIGMA = [.5, .5, .5]\n",
        "\n",
        "DEFAULT_TRANSFORM = transforms.Compose([\n",
        "    transforms.RandomHorizontalFlip(),\n",
        "    transforms.RandomCrop(360, pad_if_needed=True),\n",
        "    transforms.ToTensor(),\n",
        "    transforms.Normalize(_DEFAULT_MU, _DEFAULT_SIGMA),\n",
        "])\n",
        "\n",
        "\n",
        "class ImageFolder(torchvision.datasets.ImageFolder):\n",
        "    def __init__(self, path, transform, limit=np.inf):\n",
        "        super().__init__(path, transform=transform)\n",
        "        self.limit = limit\n",
        "\n",
        "    def __len__(self):\n",
        "        length = super().__len__()\n",
        "        return min(length, self.limit)\n",
        "\n",
        "\n",
        "class DataLoader(torch.utils.data.DataLoader):\n",
        "\n",
        "    def __init__(self, path, transform=None, limit=np.inf, shuffle=True,\n",
        "                 num_workers=8, batch_size=4, *args, **kwargs):\n",
        "\n",
        "        if transform is None:\n",
        "            transform = DEFAULT_TRANSFORM\n",
        "\n",
        "        super().__init__(\n",
        "            ImageFolder(path, transform, limit),\n",
        "            batch_size=batch_size,\n",
        "            shuffle=shuffle,\n",
        "            num_workers=num_workers,\n",
        "            *args,\n",
        "            **kwargs\n",
        "        )"
      ]
    },
    {
      "cell_type": "code",
      "execution_count": 10,
      "metadata": {
        "id": "ziFJkjaCPyha"
      },
      "outputs": [],
      "source": [
        "# Load the data\n",
        "train = DataLoader('div2k/train/')\n",
        "validation = DataLoader('div2k/val/')"
      ]
    },
    {
      "cell_type": "code",
      "execution_count": 11,
      "metadata": {
        "colab": {
          "base_uri": "https://localhost:8080/"
        },
        "id": "VWpCGguI77ob",
        "outputId": "a006027e-b2ff-4c94-bd8a-06ba4c6860fd"
      },
      "outputs": [
        {
          "output_type": "stream",
          "name": "stdout",
          "text": [
            "Using CUDA device\n"
          ]
        }
      ],
      "source": [
        "\n",
        "# Create the Steganography instance\n",
        "steganography = Steganography(6, EnhancedEncoder, EnhancedDecoder, Critic, hidden_size=32, cuda=True, verbose=True)"
      ]
    },
    {
      "cell_type": "code",
      "execution_count": 12,
      "metadata": {
        "colab": {
          "base_uri": "https://localhost:8080/"
        },
        "id": "CI4YKMc977qy",
        "outputId": "581060b9-3e4d-4ac7-9cb6-32c94eb30324"
      },
      "outputs": [
        {
          "output_type": "stream",
          "name": "stdout",
          "text": [
            "Epoch 1/100\n"
          ]
        },
        {
          "output_type": "stream",
          "name": "stderr",
          "text": [
            "100%|██████████| 200/200 [00:39<00:00,  5.02it/s]\n",
            "100%|██████████| 200/200 [00:36<00:00,  5.49it/s]\n",
            "100%|██████████| 25/25 [00:04<00:00,  5.21it/s]\n"
          ]
        },
        {
          "output_type": "stream",
          "name": "stdout",
          "text": [
            "Loss: 0.5712165832519531\n",
            "Accuracy: 0.6967985033988953\n",
            "SSIM: 0.8040550947189331\n",
            "PSNR: 36.32154703140259\n",
            "bpp: 2.361582040786743\n",
            "Epoch 2/100\n"
          ]
        },
        {
          "output_type": "stream",
          "name": "stderr",
          "text": [
            "100%|██████████| 200/200 [00:38<00:00,  5.19it/s]\n",
            "100%|██████████| 200/200 [00:36<00:00,  5.52it/s]\n",
            "100%|██████████| 25/25 [00:04<00:00,  5.19it/s]\n"
          ]
        },
        {
          "output_type": "stream",
          "name": "stdout",
          "text": [
            "Loss: 0.5646430850028992\n",
            "Accuracy: 0.6684056520462036\n",
            "SSIM: 0.9134871959686279\n",
            "PSNR: 37.33316659927368\n",
            "bpp: 2.0208678245544434\n",
            "Epoch 3/100\n"
          ]
        },
        {
          "output_type": "stream",
          "name": "stderr",
          "text": [
            "100%|██████████| 200/200 [00:38<00:00,  5.20it/s]\n",
            "100%|██████████| 200/200 [00:36<00:00,  5.55it/s]\n",
            "100%|██████████| 25/25 [00:04<00:00,  5.21it/s]\n"
          ]
        },
        {
          "output_type": "stream",
          "name": "stdout",
          "text": [
            "Loss: 0.5156909823417664\n",
            "Accuracy: 0.6864104270935059\n",
            "SSIM: 0.8953632116317749\n",
            "PSNR: 37.80406475067139\n",
            "bpp: 2.2369251251220703\n",
            "Epoch 4/100\n"
          ]
        },
        {
          "output_type": "stream",
          "name": "stderr",
          "text": [
            "100%|██████████| 200/200 [00:38<00:00,  5.20it/s]\n",
            "100%|██████████| 200/200 [00:36<00:00,  5.53it/s]\n",
            "100%|██████████| 25/25 [00:04<00:00,  5.30it/s]\n"
          ]
        },
        {
          "output_type": "stream",
          "name": "stdout",
          "text": [
            "Loss: 0.5197520852088928\n",
            "Accuracy: 0.6820344924926758\n",
            "SSIM: 0.8859668970108032\n",
            "PSNR: 37.495527267456055\n",
            "bpp: 2.1844139099121094\n",
            "Epoch 5/100\n"
          ]
        },
        {
          "output_type": "stream",
          "name": "stderr",
          "text": [
            "100%|██████████| 200/200 [00:38<00:00,  5.19it/s]\n",
            "100%|██████████| 200/200 [00:36<00:00,  5.53it/s]\n",
            "100%|██████████| 25/25 [00:04<00:00,  5.16it/s]\n"
          ]
        },
        {
          "output_type": "stream",
          "name": "stdout",
          "text": [
            "Loss: 0.4403909742832184\n",
            "Accuracy: 0.7232288718223572\n",
            "SSIM: 0.8647472858428955\n",
            "PSNR: 38.290534019470215\n",
            "bpp: 2.678746461868286\n",
            "Epoch 6/100\n"
          ]
        },
        {
          "output_type": "stream",
          "name": "stderr",
          "text": [
            "100%|██████████| 200/200 [00:38<00:00,  5.20it/s]\n",
            "100%|██████████| 200/200 [00:36<00:00,  5.55it/s]\n",
            "100%|██████████| 25/25 [00:04<00:00,  5.13it/s]\n"
          ]
        },
        {
          "output_type": "stream",
          "name": "stdout",
          "text": [
            "Loss: 0.48055997490882874\n",
            "Accuracy: 0.6983819007873535\n",
            "SSIM: 0.9150897860527039\n",
            "PSNR: 38.606910705566406\n",
            "bpp: 2.380582809448242\n",
            "Epoch 7/100\n"
          ]
        },
        {
          "output_type": "stream",
          "name": "stderr",
          "text": [
            "100%|██████████| 200/200 [00:38<00:00,  5.21it/s]\n",
            "100%|██████████| 200/200 [00:36<00:00,  5.55it/s]\n",
            "100%|██████████| 25/25 [00:04<00:00,  5.22it/s]\n"
          ]
        },
        {
          "output_type": "stream",
          "name": "stdout",
          "text": [
            "Loss: 0.4832596182823181\n",
            "Accuracy: 0.7006427049636841\n",
            "SSIM: 0.9140716791152954\n",
            "PSNR: 37.938878536224365\n",
            "bpp: 2.407712459564209\n",
            "Epoch 8/100\n"
          ]
        },
        {
          "output_type": "stream",
          "name": "stderr",
          "text": [
            "100%|██████████| 200/200 [00:38<00:00,  5.19it/s]\n",
            "100%|██████████| 200/200 [00:36<00:00,  5.55it/s]\n",
            "100%|██████████| 25/25 [00:04<00:00,  5.19it/s]\n"
          ]
        },
        {
          "output_type": "stream",
          "name": "stdout",
          "text": [
            "Loss: 0.4462659955024719\n",
            "Accuracy: 0.7175729870796204\n",
            "SSIM: 0.8931522965431213\n",
            "PSNR: 38.75654220581055\n",
            "bpp: 2.6108758449554443\n",
            "Epoch 9/100\n"
          ]
        },
        {
          "output_type": "stream",
          "name": "stderr",
          "text": [
            "100%|██████████| 200/200 [00:38<00:00,  5.20it/s]\n",
            "100%|██████████| 200/200 [00:36<00:00,  5.53it/s]\n",
            "100%|██████████| 25/25 [00:04<00:00,  5.21it/s]\n"
          ]
        },
        {
          "output_type": "stream",
          "name": "stdout",
          "text": [
            "Loss: 0.45995092391967773\n",
            "Accuracy: 0.7111760377883911\n",
            "SSIM: 0.9346431493759155\n",
            "PSNR: 39.24325704574585\n",
            "bpp: 2.5341124534606934\n",
            "Epoch 10/100\n"
          ]
        },
        {
          "output_type": "stream",
          "name": "stderr",
          "text": [
            "100%|██████████| 200/200 [00:38<00:00,  5.18it/s]\n",
            "100%|██████████| 200/200 [00:36<00:00,  5.55it/s]\n",
            "100%|██████████| 25/25 [00:04<00:00,  5.17it/s]\n"
          ]
        },
        {
          "output_type": "stream",
          "name": "stdout",
          "text": [
            "Loss: 0.46356144547462463\n",
            "Accuracy: 0.7079301476478577\n",
            "SSIM: 0.8860754370689392\n",
            "PSNR: 36.73059940338135\n",
            "bpp: 2.495161771774292\n",
            "Epoch 11/100\n"
          ]
        },
        {
          "output_type": "stream",
          "name": "stderr",
          "text": [
            "100%|██████████| 200/200 [00:38<00:00,  5.19it/s]\n",
            "100%|██████████| 200/200 [00:36<00:00,  5.54it/s]\n",
            "100%|██████████| 25/25 [00:04<00:00,  5.23it/s]\n"
          ]
        },
        {
          "output_type": "stream",
          "name": "stdout",
          "text": [
            "Loss: 0.48212069272994995\n",
            "Accuracy: 0.6951176524162292\n",
            "SSIM: 0.958942174911499\n",
            "PSNR: 37.85768747329712\n",
            "bpp: 2.341411828994751\n",
            "Epoch 12/100\n"
          ]
        },
        {
          "output_type": "stream",
          "name": "stderr",
          "text": [
            "100%|██████████| 200/200 [00:38<00:00,  5.19it/s]\n",
            "100%|██████████| 200/200 [00:36<00:00,  5.51it/s]\n",
            "100%|██████████| 25/25 [00:05<00:00,  4.68it/s]\n"
          ]
        },
        {
          "output_type": "stream",
          "name": "stdout",
          "text": [
            "Loss: 0.4144921898841858\n",
            "Accuracy: 0.7551093101501465\n",
            "SSIM: 0.9033401012420654\n",
            "PSNR: 38.21906805038452\n",
            "bpp: 3.061311721801758\n",
            "Epoch 13/100\n"
          ]
        },
        {
          "output_type": "stream",
          "name": "stderr",
          "text": [
            "100%|██████████| 200/200 [00:40<00:00,  4.98it/s]\n",
            "100%|██████████| 200/200 [00:36<00:00,  5.53it/s]\n",
            "100%|██████████| 25/25 [00:04<00:00,  5.15it/s]\n"
          ]
        },
        {
          "output_type": "stream",
          "name": "stdout",
          "text": [
            "Loss: 0.40882250666618347\n",
            "Accuracy: 0.7503201961517334\n",
            "SSIM: 0.9106062650680542\n",
            "PSNR: 37.23285675048828\n",
            "bpp: 3.003842353820801\n",
            "Epoch 14/100\n"
          ]
        },
        {
          "output_type": "stream",
          "name": "stderr",
          "text": [
            "100%|██████████| 200/200 [00:38<00:00,  5.19it/s]\n",
            "100%|██████████| 200/200 [00:36<00:00,  5.52it/s]\n",
            "100%|██████████| 25/25 [00:04<00:00,  5.13it/s]\n"
          ]
        },
        {
          "output_type": "stream",
          "name": "stdout",
          "text": [
            "Loss: 0.40529462695121765\n",
            "Accuracy: 0.7546759247779846\n",
            "SSIM: 0.9155063629150391\n",
            "PSNR: 38.14913511276245\n",
            "bpp: 3.0561110973358154\n",
            "Epoch 15/100\n"
          ]
        },
        {
          "output_type": "stream",
          "name": "stderr",
          "text": [
            "100%|██████████| 200/200 [00:38<00:00,  5.17it/s]\n",
            "100%|██████████| 200/200 [00:36<00:00,  5.53it/s]\n",
            "100%|██████████| 25/25 [00:04<00:00,  5.13it/s]\n"
          ]
        },
        {
          "output_type": "stream",
          "name": "stdout",
          "text": [
            "Loss: 0.3186406195163727\n",
            "Accuracy: 0.7952385544776917\n",
            "SSIM: 0.7808510065078735\n",
            "PSNR: 36.99765920639038\n",
            "bpp: 3.5428626537323\n",
            "Epoch 16/100\n"
          ]
        },
        {
          "output_type": "stream",
          "name": "stderr",
          "text": [
            "100%|██████████| 200/200 [00:38<00:00,  5.18it/s]\n",
            "100%|██████████| 200/200 [00:36<00:00,  5.53it/s]\n",
            "100%|██████████| 25/25 [00:04<00:00,  5.19it/s]\n"
          ]
        },
        {
          "output_type": "stream",
          "name": "stdout",
          "text": [
            "Loss: 0.33854109048843384\n",
            "Accuracy: 0.7853681445121765\n",
            "SSIM: 0.822758138179779\n",
            "PSNR: 35.597801208496094\n",
            "bpp: 3.424417734146118\n",
            "Epoch 17/100\n"
          ]
        },
        {
          "output_type": "stream",
          "name": "stderr",
          "text": [
            "100%|██████████| 200/200 [00:38<00:00,  5.17it/s]\n",
            "100%|██████████| 200/200 [00:36<00:00,  5.52it/s]\n",
            "100%|██████████| 25/25 [00:04<00:00,  5.17it/s]\n"
          ]
        },
        {
          "output_type": "stream",
          "name": "stdout",
          "text": [
            "Loss: 0.33973196148872375\n",
            "Accuracy: 0.7861651182174683\n",
            "SSIM: 0.8804476857185364\n",
            "PSNR: 38.753743171691895\n",
            "bpp: 3.433981418609619\n",
            "Epoch 18/100\n"
          ]
        },
        {
          "output_type": "stream",
          "name": "stderr",
          "text": [
            "100%|██████████| 200/200 [00:38<00:00,  5.17it/s]\n",
            "100%|██████████| 200/200 [00:36<00:00,  5.52it/s]\n",
            "100%|██████████| 25/25 [00:04<00:00,  5.11it/s]\n"
          ]
        },
        {
          "output_type": "stream",
          "name": "stdout",
          "text": [
            "Loss: 0.3467368483543396\n",
            "Accuracy: 0.7823125720024109\n",
            "SSIM: 0.9031912088394165\n",
            "PSNR: 37.98410892486572\n",
            "bpp: 3.3877508640289307\n",
            "Epoch 19/100\n"
          ]
        },
        {
          "output_type": "stream",
          "name": "stderr",
          "text": [
            "100%|██████████| 200/200 [00:38<00:00,  5.16it/s]\n",
            "100%|██████████| 200/200 [00:36<00:00,  5.52it/s]\n",
            "100%|██████████| 25/25 [00:04<00:00,  5.08it/s]\n"
          ]
        },
        {
          "output_type": "stream",
          "name": "stdout",
          "text": [
            "Loss: 0.3555997312068939\n",
            "Accuracy: 0.7843778729438782\n",
            "SSIM: 0.9115464091300964\n",
            "PSNR: 38.11351537704468\n",
            "bpp: 3.412534475326538\n",
            "Epoch 20/100\n"
          ]
        },
        {
          "output_type": "stream",
          "name": "stderr",
          "text": [
            "100%|██████████| 200/200 [00:38<00:00,  5.15it/s]\n",
            "100%|██████████| 200/200 [00:36<00:00,  5.51it/s]\n",
            "100%|██████████| 25/25 [00:04<00:00,  5.18it/s]\n"
          ]
        },
        {
          "output_type": "stream",
          "name": "stdout",
          "text": [
            "Loss: 0.32399922609329224\n",
            "Accuracy: 0.816386342048645\n",
            "SSIM: 0.842539370059967\n",
            "PSNR: 37.31847286224365\n",
            "bpp: 3.7966361045837402\n",
            "Epoch 21/100\n"
          ]
        },
        {
          "output_type": "stream",
          "name": "stderr",
          "text": [
            "100%|██████████| 200/200 [00:38<00:00,  5.14it/s]\n",
            "100%|██████████| 200/200 [00:36<00:00,  5.52it/s]\n",
            "100%|██████████| 25/25 [00:04<00:00,  5.12it/s]\n"
          ]
        },
        {
          "output_type": "stream",
          "name": "stdout",
          "text": [
            "Loss: 0.3428041934967041\n",
            "Accuracy: 0.8111908435821533\n",
            "SSIM: 0.8900536298751831\n",
            "PSNR: 36.18889570236206\n",
            "bpp: 3.73429012298584\n",
            "Epoch 22/100\n"
          ]
        },
        {
          "output_type": "stream",
          "name": "stderr",
          "text": [
            "100%|██████████| 200/200 [00:38<00:00,  5.15it/s]\n",
            "100%|██████████| 200/200 [00:36<00:00,  5.51it/s]\n",
            "100%|██████████| 25/25 [00:04<00:00,  5.13it/s]\n"
          ]
        },
        {
          "output_type": "stream",
          "name": "stdout",
          "text": [
            "Loss: 0.2669505774974823\n",
            "Accuracy: 0.8507018089294434\n",
            "SSIM: 0.8348603248596191\n",
            "PSNR: 37.67637014389038\n",
            "bpp: 4.20842170715332\n",
            "Epoch 23/100\n"
          ]
        },
        {
          "output_type": "stream",
          "name": "stderr",
          "text": [
            "100%|██████████| 200/200 [00:38<00:00,  5.15it/s]\n",
            "100%|██████████| 200/200 [00:36<00:00,  5.52it/s]\n",
            "100%|██████████| 25/25 [00:04<00:00,  5.12it/s]\n"
          ]
        },
        {
          "output_type": "stream",
          "name": "stdout",
          "text": [
            "Loss: 0.275898277759552\n",
            "Accuracy: 0.8459866642951965\n",
            "SSIM: 0.8355401158332825\n",
            "PSNR: 35.85701942443848\n",
            "bpp: 4.151839971542358\n",
            "Epoch 24/100\n"
          ]
        },
        {
          "output_type": "stream",
          "name": "stderr",
          "text": [
            "100%|██████████| 200/200 [00:38<00:00,  5.15it/s]\n",
            "100%|██████████| 200/200 [00:36<00:00,  5.50it/s]\n",
            "100%|██████████| 25/25 [00:05<00:00,  4.98it/s]\n"
          ]
        },
        {
          "output_type": "stream",
          "name": "stdout",
          "text": [
            "Loss: 0.3110097050666809\n",
            "Accuracy: 0.8233288526535034\n",
            "SSIM: 0.8773302435874939\n",
            "PSNR: 35.8063006401062\n",
            "bpp: 3.879946231842041\n",
            "Epoch 25/100\n"
          ]
        },
        {
          "output_type": "stream",
          "name": "stderr",
          "text": [
            "100%|██████████| 200/200 [00:38<00:00,  5.14it/s]\n",
            "100%|██████████| 200/200 [00:36<00:00,  5.52it/s]\n",
            "100%|██████████| 25/25 [00:04<00:00,  5.08it/s]\n"
          ]
        },
        {
          "output_type": "stream",
          "name": "stdout",
          "text": [
            "Loss: 0.2957453727722168\n",
            "Accuracy: 0.8330860733985901\n",
            "SSIM: 0.8998036980628967\n",
            "PSNR: 36.55163049697876\n",
            "bpp: 3.997032880783081\n",
            "Epoch 26/100\n"
          ]
        },
        {
          "output_type": "stream",
          "name": "stderr",
          "text": [
            "100%|██████████| 200/200 [00:39<00:00,  5.13it/s]\n",
            "100%|██████████| 200/200 [00:36<00:00,  5.48it/s]\n",
            "100%|██████████| 25/25 [00:05<00:00,  4.98it/s]\n"
          ]
        },
        {
          "output_type": "stream",
          "name": "stdout",
          "text": [
            "Loss: 0.28488409519195557\n",
            "Accuracy: 0.8404552340507507\n",
            "SSIM: 0.8471037745475769\n",
            "PSNR: 36.955673694610596\n",
            "bpp: 4.085462808609009\n",
            "Epoch 27/100\n"
          ]
        },
        {
          "output_type": "stream",
          "name": "stderr",
          "text": [
            "100%|██████████| 200/200 [00:39<00:00,  5.13it/s]\n",
            "100%|██████████| 200/200 [00:36<00:00,  5.49it/s]\n",
            "100%|██████████| 25/25 [00:04<00:00,  5.09it/s]\n"
          ]
        },
        {
          "output_type": "stream",
          "name": "stdout",
          "text": [
            "Loss: 0.30885958671569824\n",
            "Accuracy: 0.8248074054718018\n",
            "SSIM: 0.8804140686988831\n",
            "PSNR: 37.00321912765503\n",
            "bpp: 3.897688865661621\n",
            "Epoch 28/100\n"
          ]
        },
        {
          "output_type": "stream",
          "name": "stderr",
          "text": [
            "100%|██████████| 200/200 [00:39<00:00,  5.11it/s]\n",
            "100%|██████████| 200/200 [00:36<00:00,  5.50it/s]\n",
            "100%|██████████| 25/25 [00:05<00:00,  4.98it/s]\n"
          ]
        },
        {
          "output_type": "stream",
          "name": "stdout",
          "text": [
            "Loss: 0.31740787625312805\n",
            "Accuracy: 0.8215785622596741\n",
            "SSIM: 0.8909592032432556\n",
            "PSNR: 36.419970989227295\n",
            "bpp: 3.858942747116089\n",
            "Epoch 29/100\n"
          ]
        },
        {
          "output_type": "stream",
          "name": "stderr",
          "text": [
            "100%|██████████| 200/200 [00:38<00:00,  5.13it/s]\n",
            "100%|██████████| 200/200 [00:36<00:00,  5.50it/s]\n",
            "100%|██████████| 25/25 [00:04<00:00,  5.07it/s]\n"
          ]
        },
        {
          "output_type": "stream",
          "name": "stdout",
          "text": [
            "Loss: 0.25236886739730835\n",
            "Accuracy: 0.856935441493988\n",
            "SSIM: 0.836762011051178\n",
            "PSNR: 36.09400033950806\n",
            "bpp: 4.2832252979278564\n",
            "Epoch 30/100\n"
          ]
        },
        {
          "output_type": "stream",
          "name": "stderr",
          "text": [
            "100%|██████████| 200/200 [00:39<00:00,  5.12it/s]\n",
            "100%|██████████| 200/200 [00:36<00:00,  5.49it/s]\n",
            "100%|██████████| 25/25 [00:04<00:00,  5.01it/s]\n"
          ]
        },
        {
          "output_type": "stream",
          "name": "stdout",
          "text": [
            "Loss: 0.25635892152786255\n",
            "Accuracy: 0.8515219688415527\n",
            "SSIM: 0.8432542681694031\n",
            "PSNR: 36.74923658370972\n",
            "bpp: 4.218263626098633\n",
            "Epoch 31/100\n"
          ]
        },
        {
          "output_type": "stream",
          "name": "stderr",
          "text": [
            "100%|██████████| 200/200 [00:39<00:00,  5.12it/s]\n",
            "100%|██████████| 200/200 [00:36<00:00,  5.46it/s]\n",
            "100%|██████████| 25/25 [00:04<00:00,  5.01it/s]\n"
          ]
        },
        {
          "output_type": "stream",
          "name": "stdout",
          "text": [
            "Loss: 0.24193865060806274\n",
            "Accuracy: 0.8623479008674622\n",
            "SSIM: 0.7730737328529358\n",
            "PSNR: 37.10179567337036\n",
            "bpp: 4.348174810409546\n",
            "Epoch 32/100\n"
          ]
        },
        {
          "output_type": "stream",
          "name": "stderr",
          "text": [
            "100%|██████████| 200/200 [00:39<00:00,  5.07it/s]\n",
            "100%|██████████| 200/200 [00:36<00:00,  5.44it/s]\n",
            "100%|██████████| 25/25 [00:05<00:00,  5.00it/s]\n"
          ]
        },
        {
          "output_type": "stream",
          "name": "stdout",
          "text": [
            "Loss: 0.2668418884277344\n",
            "Accuracy: 0.8506487607955933\n",
            "SSIM: 0.8504641652107239\n",
            "PSNR: 37.55159854888916\n",
            "bpp: 4.207785129547119\n",
            "Epoch 33/100\n"
          ]
        },
        {
          "output_type": "stream",
          "name": "stderr",
          "text": [
            "100%|██████████| 200/200 [00:39<00:00,  5.06it/s]\n",
            "100%|██████████| 200/200 [00:36<00:00,  5.47it/s]\n",
            "100%|██████████| 25/25 [00:04<00:00,  5.01it/s]\n"
          ]
        },
        {
          "output_type": "stream",
          "name": "stdout",
          "text": [
            "Loss: 0.2372981160879135\n",
            "Accuracy: 0.8623816967010498\n",
            "SSIM: 0.7913690209388733\n",
            "PSNR: 37.44173765182495\n",
            "bpp: 4.348580360412598\n",
            "Epoch 34/100\n"
          ]
        },
        {
          "output_type": "stream",
          "name": "stderr",
          "text": [
            "100%|██████████| 200/200 [00:38<00:00,  5.13it/s]\n",
            "100%|██████████| 200/200 [00:36<00:00,  5.50it/s]\n",
            "100%|██████████| 25/25 [00:04<00:00,  5.12it/s]\n"
          ]
        },
        {
          "output_type": "stream",
          "name": "stdout",
          "text": [
            "Loss: 0.2812100052833557\n",
            "Accuracy: 0.8407462239265442\n",
            "SSIM: 0.8711040616035461\n",
            "PSNR: 36.83751583099365\n",
            "bpp: 4.08895468711853\n",
            "Epoch 35/100\n"
          ]
        },
        {
          "output_type": "stream",
          "name": "stderr",
          "text": [
            "100%|██████████| 200/200 [00:39<00:00,  5.12it/s]\n",
            "100%|██████████| 200/200 [00:36<00:00,  5.47it/s]\n",
            "100%|██████████| 25/25 [00:04<00:00,  5.11it/s]\n"
          ]
        },
        {
          "output_type": "stream",
          "name": "stdout",
          "text": [
            "Loss: 0.3154785633087158\n",
            "Accuracy: 0.8228044509887695\n",
            "SSIM: 0.9201993346214294\n",
            "PSNR: 36.47743463516235\n",
            "bpp: 3.8736534118652344\n",
            "Epoch 36/100\n"
          ]
        },
        {
          "output_type": "stream",
          "name": "stderr",
          "text": [
            "100%|██████████| 200/200 [00:39<00:00,  5.11it/s]\n",
            "100%|██████████| 200/200 [00:36<00:00,  5.44it/s]\n",
            "100%|██████████| 25/25 [00:04<00:00,  5.07it/s]\n"
          ]
        },
        {
          "output_type": "stream",
          "name": "stdout",
          "text": [
            "Loss: 0.3163728415966034\n",
            "Accuracy: 0.8212133646011353\n",
            "SSIM: 0.9294161796569824\n",
            "PSNR: 36.7490553855896\n",
            "bpp: 3.854560375213623\n",
            "Epoch 37/100\n"
          ]
        },
        {
          "output_type": "stream",
          "name": "stderr",
          "text": [
            "100%|██████████| 200/200 [00:39<00:00,  5.08it/s]\n",
            "100%|██████████| 200/200 [00:36<00:00,  5.43it/s]\n",
            "100%|██████████| 25/25 [00:05<00:00,  4.84it/s]\n"
          ]
        },
        {
          "output_type": "stream",
          "name": "stdout",
          "text": [
            "Loss: 0.2792358696460724\n",
            "Accuracy: 0.8426369428634644\n",
            "SSIM: 0.8886334300041199\n",
            "PSNR: 36.88244104385376\n",
            "bpp: 4.111643314361572\n",
            "Epoch 38/100\n"
          ]
        },
        {
          "output_type": "stream",
          "name": "stderr",
          "text": [
            "100%|██████████| 200/200 [00:39<00:00,  5.05it/s]\n",
            "100%|██████████| 200/200 [00:36<00:00,  5.44it/s]\n",
            "100%|██████████| 25/25 [00:05<00:00,  4.98it/s]\n"
          ]
        },
        {
          "output_type": "stream",
          "name": "stdout",
          "text": [
            "Loss: 0.25031694769859314\n",
            "Accuracy: 0.8545039296150208\n",
            "SSIM: 0.8707648515701294\n",
            "PSNR: 37.855401039123535\n",
            "bpp: 4.254047155380249\n",
            "Epoch 39/100\n"
          ]
        },
        {
          "output_type": "stream",
          "name": "stderr",
          "text": [
            "100%|██████████| 200/200 [00:39<00:00,  5.10it/s]\n",
            "100%|██████████| 200/200 [00:36<00:00,  5.47it/s]\n",
            "100%|██████████| 25/25 [00:04<00:00,  5.16it/s]\n"
          ]
        },
        {
          "output_type": "stream",
          "name": "stdout",
          "text": [
            "Loss: 0.30167487263679504\n",
            "Accuracy: 0.8326234817504883\n",
            "SSIM: 0.8616815209388733\n",
            "PSNR: 37.70434617996216\n",
            "bpp: 3.9914817810058594\n",
            "Epoch 40/100\n"
          ]
        },
        {
          "output_type": "stream",
          "name": "stderr",
          "text": [
            "100%|██████████| 200/200 [00:39<00:00,  5.08it/s]\n",
            "100%|██████████| 200/200 [00:36<00:00,  5.43it/s]\n",
            "100%|██████████| 25/25 [00:04<00:00,  5.02it/s]\n"
          ]
        },
        {
          "output_type": "stream",
          "name": "stdout",
          "text": [
            "Loss: 0.24229399859905243\n",
            "Accuracy: 0.8600723147392273\n",
            "SSIM: 0.8241109848022461\n",
            "PSNR: 37.21227407455444\n",
            "bpp: 4.3208677768707275\n",
            "Epoch 41/100\n"
          ]
        },
        {
          "output_type": "stream",
          "name": "stderr",
          "text": [
            "100%|██████████| 200/200 [00:39<00:00,  5.10it/s]\n",
            "100%|██████████| 200/200 [00:36<00:00,  5.45it/s]\n",
            "100%|██████████| 25/25 [00:05<00:00,  4.98it/s]\n"
          ]
        },
        {
          "output_type": "stream",
          "name": "stdout",
          "text": [
            "Loss: 0.2486753761768341\n",
            "Accuracy: 0.8551562428474426\n",
            "SSIM: 0.8528557419776917\n",
            "PSNR: 37.48672962188721\n",
            "bpp: 4.2618749141693115\n",
            "Epoch 42/100\n"
          ]
        },
        {
          "output_type": "stream",
          "name": "stderr",
          "text": [
            "100%|██████████| 200/200 [00:39<00:00,  5.11it/s]\n",
            "100%|██████████| 200/200 [00:36<00:00,  5.45it/s]\n",
            "100%|██████████| 25/25 [00:04<00:00,  5.01it/s]\n"
          ]
        },
        {
          "output_type": "stream",
          "name": "stdout",
          "text": [
            "Loss: 0.23201392590999603\n",
            "Accuracy: 0.8653919100761414\n",
            "SSIM: 0.806702196598053\n",
            "PSNR: 37.56440877914429\n",
            "bpp: 4.384702920913696\n",
            "Epoch 43/100\n"
          ]
        },
        {
          "output_type": "stream",
          "name": "stderr",
          "text": [
            "100%|██████████| 200/200 [00:39<00:00,  5.12it/s]\n",
            "100%|██████████| 200/200 [00:36<00:00,  5.43it/s]\n",
            "100%|██████████| 25/25 [00:04<00:00,  5.01it/s]\n"
          ]
        },
        {
          "output_type": "stream",
          "name": "stdout",
          "text": [
            "Loss: 0.26835232973098755\n",
            "Accuracy: 0.8481648564338684\n",
            "SSIM: 0.867989182472229\n",
            "PSNR: 37.59095907211304\n",
            "bpp: 4.177978277206421\n",
            "Epoch 44/100\n"
          ]
        },
        {
          "output_type": "stream",
          "name": "stderr",
          "text": [
            "100%|██████████| 200/200 [00:39<00:00,  5.09it/s]\n",
            "100%|██████████| 200/200 [00:36<00:00,  5.42it/s]\n",
            "100%|██████████| 25/25 [00:04<00:00,  5.04it/s]\n"
          ]
        },
        {
          "output_type": "stream",
          "name": "stdout",
          "text": [
            "Loss: 0.37157392501831055\n",
            "Accuracy: 0.8003848195075989\n",
            "SSIM: 0.9327775239944458\n",
            "PSNR: 35.66146373748779\n",
            "bpp: 3.6046178340911865\n",
            "Epoch 45/100\n"
          ]
        },
        {
          "output_type": "stream",
          "name": "stderr",
          "text": [
            "100%|██████████| 200/200 [00:39<00:00,  5.09it/s]\n",
            "100%|██████████| 200/200 [00:36<00:00,  5.45it/s]\n",
            "100%|██████████| 25/25 [00:04<00:00,  5.06it/s]\n"
          ]
        },
        {
          "output_type": "stream",
          "name": "stdout",
          "text": [
            "Loss: 0.26778700947761536\n",
            "Accuracy: 0.8506272435188293\n",
            "SSIM: 0.8739837408065796\n",
            "PSNR: 36.5681266784668\n",
            "bpp: 4.207526922225952\n",
            "Epoch 46/100\n"
          ]
        },
        {
          "output_type": "stream",
          "name": "stderr",
          "text": [
            "100%|██████████| 200/200 [00:39<00:00,  5.12it/s]\n",
            "100%|██████████| 200/200 [00:36<00:00,  5.44it/s]\n",
            "100%|██████████| 25/25 [00:05<00:00,  4.91it/s]\n"
          ]
        },
        {
          "output_type": "stream",
          "name": "stdout",
          "text": [
            "Loss: 0.29759836196899414\n",
            "Accuracy: 0.8307387828826904\n",
            "SSIM: 0.8813061118125916\n",
            "PSNR: 35.89034080505371\n",
            "bpp: 3.968865394592285\n",
            "Epoch 47/100\n"
          ]
        },
        {
          "output_type": "stream",
          "name": "stderr",
          "text": [
            "100%|██████████| 200/200 [00:39<00:00,  5.09it/s]\n",
            "100%|██████████| 200/200 [00:36<00:00,  5.47it/s]\n",
            "100%|██████████| 25/25 [00:04<00:00,  5.01it/s]\n"
          ]
        },
        {
          "output_type": "stream",
          "name": "stdout",
          "text": [
            "Loss: 0.29146286845207214\n",
            "Accuracy: 0.8379321098327637\n",
            "SSIM: 0.9253732562065125\n",
            "PSNR: 37.53869295120239\n",
            "bpp: 4.055185317993164\n",
            "Epoch 48/100\n"
          ]
        },
        {
          "output_type": "stream",
          "name": "stderr",
          "text": [
            "100%|██████████| 200/200 [00:39<00:00,  5.07it/s]\n",
            "100%|██████████| 200/200 [00:36<00:00,  5.44it/s]\n",
            "100%|██████████| 25/25 [00:05<00:00,  4.91it/s]\n"
          ]
        },
        {
          "output_type": "stream",
          "name": "stdout",
          "text": [
            "Loss: 0.28981128334999084\n",
            "Accuracy: 0.8477880358695984\n",
            "SSIM: 0.8498393893241882\n",
            "PSNR: 36.27640724182129\n",
            "bpp: 4.173456430435181\n",
            "Epoch 49/100\n"
          ]
        },
        {
          "output_type": "stream",
          "name": "stderr",
          "text": [
            "100%|██████████| 200/200 [00:39<00:00,  5.09it/s]\n",
            "100%|██████████| 200/200 [00:36<00:00,  5.45it/s]\n",
            "100%|██████████| 25/25 [00:04<00:00,  5.02it/s]\n"
          ]
        },
        {
          "output_type": "stream",
          "name": "stdout",
          "text": [
            "Loss: 0.24927762150764465\n",
            "Accuracy: 0.860634982585907\n",
            "SSIM: 0.7980157136917114\n",
            "PSNR: 36.42321586608887\n",
            "bpp: 4.327619791030884\n",
            "Epoch 50/100\n"
          ]
        },
        {
          "output_type": "stream",
          "name": "stderr",
          "text": [
            "100%|██████████| 200/200 [00:39<00:00,  5.09it/s]\n",
            "100%|██████████| 200/200 [00:36<00:00,  5.45it/s]\n",
            "100%|██████████| 25/25 [00:04<00:00,  5.07it/s]\n"
          ]
        },
        {
          "output_type": "stream",
          "name": "stdout",
          "text": [
            "Loss: 0.2772512435913086\n",
            "Accuracy: 0.8392016887664795\n",
            "SSIM: 0.8779366612434387\n",
            "PSNR: 35.943777561187744\n",
            "bpp: 4.070420265197754\n",
            "Epoch 51/100\n"
          ]
        },
        {
          "output_type": "stream",
          "name": "stderr",
          "text": [
            "100%|██████████| 200/200 [00:39<00:00,  5.08it/s]\n",
            "100%|██████████| 200/200 [00:36<00:00,  5.44it/s]\n",
            "100%|██████████| 25/25 [00:04<00:00,  5.09it/s]\n"
          ]
        },
        {
          "output_type": "stream",
          "name": "stdout",
          "text": [
            "Loss: 0.25133275985717773\n",
            "Accuracy: 0.8538332581520081\n",
            "SSIM: 0.8402144312858582\n",
            "PSNR: 37.04428434371948\n",
            "bpp: 4.245999097824097\n",
            "Epoch 52/100\n"
          ]
        },
        {
          "output_type": "stream",
          "name": "stderr",
          "text": [
            "100%|██████████| 200/200 [00:39<00:00,  5.07it/s]\n",
            "100%|██████████| 200/200 [00:36<00:00,  5.45it/s]\n",
            "100%|██████████| 25/25 [00:04<00:00,  5.01it/s]\n"
          ]
        },
        {
          "output_type": "stream",
          "name": "stdout",
          "text": [
            "Loss: 0.28215035796165466\n",
            "Accuracy: 0.8430410623550415\n",
            "SSIM: 0.8634526133537292\n",
            "PSNR: 36.69987678527832\n",
            "bpp: 4.116492748260498\n",
            "Epoch 53/100\n"
          ]
        },
        {
          "output_type": "stream",
          "name": "stderr",
          "text": [
            "100%|██████████| 200/200 [00:39<00:00,  5.07it/s]\n",
            "100%|██████████| 200/200 [00:36<00:00,  5.44it/s]\n",
            "100%|██████████| 25/25 [00:04<00:00,  5.06it/s]\n"
          ]
        },
        {
          "output_type": "stream",
          "name": "stdout",
          "text": [
            "Loss: 0.28441596031188965\n",
            "Accuracy: 0.840915322303772\n",
            "SSIM: 0.8625423312187195\n",
            "PSNR: 37.198357582092285\n",
            "bpp: 4.090983867645264\n",
            "Epoch 54/100\n"
          ]
        },
        {
          "output_type": "stream",
          "name": "stderr",
          "text": [
            "100%|██████████| 200/200 [00:39<00:00,  5.07it/s]\n",
            "100%|██████████| 200/200 [00:36<00:00,  5.42it/s]\n",
            "100%|██████████| 25/25 [00:05<00:00,  4.94it/s]\n"
          ]
        },
        {
          "output_type": "stream",
          "name": "stdout",
          "text": [
            "Loss: 0.24373508989810944\n",
            "Accuracy: 0.8601723313331604\n",
            "SSIM: 0.8047322034835815\n",
            "PSNR: 36.958701610565186\n",
            "bpp: 4.322067975997925\n",
            "Epoch 55/100\n"
          ]
        },
        {
          "output_type": "stream",
          "name": "stderr",
          "text": [
            "100%|██████████| 200/200 [00:39<00:00,  5.08it/s]\n",
            "100%|██████████| 200/200 [00:36<00:00,  5.41it/s]\n",
            "100%|██████████| 25/25 [00:05<00:00,  4.90it/s]\n"
          ]
        },
        {
          "output_type": "stream",
          "name": "stdout",
          "text": [
            "Loss: 0.28211846947669983\n",
            "Accuracy: 0.8499064445495605\n",
            "SSIM: 0.8337744474411011\n",
            "PSNR: 37.160632610321045\n",
            "bpp: 4.198877334594727\n",
            "Epoch 56/100\n"
          ]
        },
        {
          "output_type": "stream",
          "name": "stderr",
          "text": [
            "100%|██████████| 200/200 [00:39<00:00,  5.09it/s]\n",
            "100%|██████████| 200/200 [00:36<00:00,  5.43it/s]\n",
            "100%|██████████| 25/25 [00:04<00:00,  5.02it/s]\n"
          ]
        },
        {
          "output_type": "stream",
          "name": "stdout",
          "text": [
            "Loss: 0.24576818943023682\n",
            "Accuracy: 0.8573845624923706\n",
            "SSIM: 0.8411340117454529\n",
            "PSNR: 38.9838433265686\n",
            "bpp: 4.288614749908447\n",
            "Epoch 57/100\n"
          ]
        },
        {
          "output_type": "stream",
          "name": "stderr",
          "text": [
            "100%|██████████| 200/200 [00:39<00:00,  5.08it/s]\n",
            "100%|██████████| 200/200 [00:36<00:00,  5.41it/s]\n",
            "100%|██████████| 25/25 [00:05<00:00,  4.86it/s]\n"
          ]
        },
        {
          "output_type": "stream",
          "name": "stdout",
          "text": [
            "Loss: 0.3037507236003876\n",
            "Accuracy: 0.8322720527648926\n",
            "SSIM: 0.8985053300857544\n",
            "PSNR: 36.567442417144775\n",
            "bpp: 3.987264633178711\n",
            "Epoch 58/100\n"
          ]
        },
        {
          "output_type": "stream",
          "name": "stderr",
          "text": [
            "100%|██████████| 200/200 [00:39<00:00,  5.06it/s]\n",
            "100%|██████████| 200/200 [00:37<00:00,  5.39it/s]\n",
            "100%|██████████| 25/25 [00:05<00:00,  4.96it/s]\n"
          ]
        },
        {
          "output_type": "stream",
          "name": "stdout",
          "text": [
            "Loss: 0.2954678535461426\n",
            "Accuracy: 0.83282470703125\n",
            "SSIM: 0.9194459915161133\n",
            "PSNR: 36.71975135803223\n",
            "bpp: 3.993896484375\n",
            "Epoch 59/100\n"
          ]
        },
        {
          "output_type": "stream",
          "name": "stderr",
          "text": [
            "100%|██████████| 200/200 [00:39<00:00,  5.08it/s]\n",
            "100%|██████████| 200/200 [00:36<00:00,  5.44it/s]\n",
            "100%|██████████| 25/25 [00:05<00:00,  4.95it/s]\n"
          ]
        },
        {
          "output_type": "stream",
          "name": "stdout",
          "text": [
            "Loss: 0.2775454819202423\n",
            "Accuracy: 0.8425151109695435\n",
            "SSIM: 0.8945052027702332\n",
            "PSNR: 37.966647148132324\n",
            "bpp: 4.1101813316345215\n",
            "Epoch 60/100\n"
          ]
        },
        {
          "output_type": "stream",
          "name": "stderr",
          "text": [
            "100%|██████████| 200/200 [00:39<00:00,  5.05it/s]\n",
            "100%|██████████| 200/200 [00:37<00:00,  5.34it/s]\n",
            "100%|██████████| 25/25 [00:04<00:00,  5.02it/s]\n"
          ]
        },
        {
          "output_type": "stream",
          "name": "stdout",
          "text": [
            "Loss: 0.2779581844806671\n",
            "Accuracy: 0.8406169414520264\n",
            "SSIM: 0.9059573411941528\n",
            "PSNR: 36.50926351547241\n",
            "bpp: 4.087403297424316\n",
            "Epoch 61/100\n"
          ]
        },
        {
          "output_type": "stream",
          "name": "stderr",
          "text": [
            "100%|██████████| 200/200 [00:39<00:00,  5.08it/s]\n",
            "100%|██████████| 200/200 [00:37<00:00,  5.40it/s]\n",
            "100%|██████████| 25/25 [00:05<00:00,  4.93it/s]\n"
          ]
        },
        {
          "output_type": "stream",
          "name": "stdout",
          "text": [
            "Loss: 0.2907998859882355\n",
            "Accuracy: 0.8353754878044128\n",
            "SSIM: 0.9111191630363464\n",
            "PSNR: 37.20439672470093\n",
            "bpp: 4.024505853652954\n",
            "Epoch 62/100\n"
          ]
        },
        {
          "output_type": "stream",
          "name": "stderr",
          "text": [
            "100%|██████████| 200/200 [00:39<00:00,  5.06it/s]\n",
            "100%|██████████| 200/200 [00:36<00:00,  5.43it/s]\n",
            "100%|██████████| 25/25 [00:04<00:00,  5.02it/s]\n"
          ]
        },
        {
          "output_type": "stream",
          "name": "stdout",
          "text": [
            "Loss: 0.3187483251094818\n",
            "Accuracy: 0.8224669098854065\n",
            "SSIM: 0.9049863219261169\n",
            "PSNR: 37.209312915802\n",
            "bpp: 3.869602918624878\n",
            "Epoch 63/100\n"
          ]
        },
        {
          "output_type": "stream",
          "name": "stderr",
          "text": [
            "100%|██████████| 200/200 [00:39<00:00,  5.07it/s]\n",
            "100%|██████████| 200/200 [00:36<00:00,  5.44it/s]\n",
            "100%|██████████| 25/25 [00:05<00:00,  4.99it/s]\n"
          ]
        },
        {
          "output_type": "stream",
          "name": "stdout",
          "text": [
            "Loss: 0.2444828897714615\n",
            "Accuracy: 0.8575324416160583\n",
            "SSIM: 0.8420059084892273\n",
            "PSNR: 37.67420768737793\n",
            "bpp: 4.2903892993927\n",
            "Epoch 64/100\n"
          ]
        },
        {
          "output_type": "stream",
          "name": "stderr",
          "text": [
            "100%|██████████| 200/200 [00:39<00:00,  5.06it/s]\n",
            "100%|██████████| 200/200 [00:36<00:00,  5.42it/s]\n",
            "100%|██████████| 25/25 [00:05<00:00,  4.94it/s]\n"
          ]
        },
        {
          "output_type": "stream",
          "name": "stdout",
          "text": [
            "Loss: 0.270214706659317\n",
            "Accuracy: 0.8507552146911621\n",
            "SSIM: 0.8639125823974609\n",
            "PSNR: 37.74887561798096\n",
            "bpp: 4.209062576293945\n",
            "Epoch 65/100\n"
          ]
        },
        {
          "output_type": "stream",
          "name": "stderr",
          "text": [
            "100%|██████████| 200/200 [00:39<00:00,  5.06it/s]\n",
            "100%|██████████| 200/200 [00:36<00:00,  5.42it/s]\n",
            "100%|██████████| 25/25 [00:05<00:00,  4.94it/s]\n"
          ]
        },
        {
          "output_type": "stream",
          "name": "stdout",
          "text": [
            "Loss: 0.2412169724702835\n",
            "Accuracy: 0.8594476580619812\n",
            "SSIM: 0.8878318071365356\n",
            "PSNR: 38.11879873275757\n",
            "bpp: 4.313371896743774\n",
            "Epoch 66/100\n"
          ]
        },
        {
          "output_type": "stream",
          "name": "stderr",
          "text": [
            "100%|██████████| 200/200 [00:39<00:00,  5.06it/s]\n",
            "100%|██████████| 200/200 [00:37<00:00,  5.40it/s]\n",
            "100%|██████████| 25/25 [00:05<00:00,  4.99it/s]\n"
          ]
        },
        {
          "output_type": "stream",
          "name": "stdout",
          "text": [
            "Loss: 0.23234932124614716\n",
            "Accuracy: 0.8660728335380554\n",
            "SSIM: 0.8243598341941833\n",
            "PSNR: 38.06493282318115\n",
            "bpp: 4.392874002456665\n",
            "Epoch 67/100\n"
          ]
        },
        {
          "output_type": "stream",
          "name": "stderr",
          "text": [
            "100%|██████████| 200/200 [00:39<00:00,  5.08it/s]\n",
            "100%|██████████| 200/200 [00:36<00:00,  5.42it/s]\n",
            "100%|██████████| 25/25 [00:05<00:00,  4.89it/s]\n"
          ]
        },
        {
          "output_type": "stream",
          "name": "stdout",
          "text": [
            "Loss: 0.24012112617492676\n",
            "Accuracy: 0.8642264604568481\n",
            "SSIM: 0.8423911929130554\n",
            "PSNR: 38.609867095947266\n",
            "bpp: 4.370717525482178\n",
            "Epoch 68/100\n"
          ]
        },
        {
          "output_type": "stream",
          "name": "stderr",
          "text": [
            "100%|██████████| 200/200 [00:40<00:00,  5.00it/s]\n",
            "100%|██████████| 200/200 [00:36<00:00,  5.42it/s]\n",
            "100%|██████████| 25/25 [00:05<00:00,  4.98it/s]\n"
          ]
        },
        {
          "output_type": "stream",
          "name": "stdout",
          "text": [
            "Loss: 0.29888302087783813\n",
            "Accuracy: 0.8327192664146423\n",
            "SSIM: 0.9053036570549011\n",
            "PSNR: 36.69119119644165\n",
            "bpp: 3.992631196975708\n",
            "Epoch 69/100\n"
          ]
        },
        {
          "output_type": "stream",
          "name": "stderr",
          "text": [
            "100%|██████████| 200/200 [00:39<00:00,  5.05it/s]\n",
            "100%|██████████| 200/200 [00:37<00:00,  5.40it/s]\n",
            "100%|██████████| 25/25 [00:04<00:00,  5.08it/s]\n"
          ]
        },
        {
          "output_type": "stream",
          "name": "stdout",
          "text": [
            "Loss: 0.24538224935531616\n",
            "Accuracy: 0.8573427796363831\n",
            "SSIM: 0.8946667909622192\n",
            "PSNR: 36.7209792137146\n",
            "bpp: 4.288113355636597\n",
            "Epoch 70/100\n"
          ]
        },
        {
          "output_type": "stream",
          "name": "stderr",
          "text": [
            "100%|██████████| 200/200 [00:39<00:00,  5.03it/s]\n",
            "100%|██████████| 200/200 [00:36<00:00,  5.43it/s]\n",
            "100%|██████████| 25/25 [00:05<00:00,  4.98it/s]\n"
          ]
        },
        {
          "output_type": "stream",
          "name": "stdout",
          "text": [
            "Loss: 0.23314404487609863\n",
            "Accuracy: 0.8636782765388489\n",
            "SSIM: 0.8673244714736938\n",
            "PSNR: 37.29233264923096\n",
            "bpp: 4.3641393184661865\n",
            "Epoch 71/100\n"
          ]
        },
        {
          "output_type": "stream",
          "name": "stderr",
          "text": [
            "100%|██████████| 200/200 [00:39<00:00,  5.04it/s]\n",
            "100%|██████████| 200/200 [00:36<00:00,  5.43it/s]\n",
            "100%|██████████| 25/25 [00:05<00:00,  4.93it/s]\n"
          ]
        },
        {
          "output_type": "stream",
          "name": "stdout",
          "text": [
            "Loss: 0.2777423560619354\n",
            "Accuracy: 0.846703290939331\n",
            "SSIM: 0.903653621673584\n",
            "PSNR: 37.08499193191528\n",
            "bpp: 4.160439491271973\n",
            "Epoch 72/100\n"
          ]
        },
        {
          "output_type": "stream",
          "name": "stderr",
          "text": [
            "100%|██████████| 200/200 [00:39<00:00,  5.01it/s]\n",
            "100%|██████████| 200/200 [00:36<00:00,  5.41it/s]\n",
            "100%|██████████| 25/25 [00:05<00:00,  4.88it/s]\n"
          ]
        },
        {
          "output_type": "stream",
          "name": "stdout",
          "text": [
            "Loss: 0.21498307585716248\n",
            "Accuracy: 0.8727883696556091\n",
            "SSIM: 0.845345139503479\n",
            "PSNR: 38.71690273284912\n",
            "bpp: 4.47346043586731\n",
            "Epoch 73/100\n"
          ]
        },
        {
          "output_type": "stream",
          "name": "stderr",
          "text": [
            "100%|██████████| 200/200 [00:39<00:00,  5.03it/s]\n",
            "100%|██████████| 200/200 [00:36<00:00,  5.43it/s]\n",
            "100%|██████████| 25/25 [00:05<00:00,  4.91it/s]\n"
          ]
        },
        {
          "output_type": "stream",
          "name": "stdout",
          "text": [
            "Loss: 0.2208855301141739\n",
            "Accuracy: 0.8781931400299072\n",
            "SSIM: 0.8263213634490967\n",
            "PSNR: 38.64304304122925\n",
            "bpp: 4.538317680358887\n",
            "Epoch 74/100\n"
          ]
        },
        {
          "output_type": "stream",
          "name": "stderr",
          "text": [
            "100%|██████████| 200/200 [00:39<00:00,  5.04it/s]\n",
            "100%|██████████| 200/200 [00:36<00:00,  5.42it/s]\n",
            "100%|██████████| 25/25 [00:05<00:00,  4.91it/s]\n"
          ]
        },
        {
          "output_type": "stream",
          "name": "stdout",
          "text": [
            "Loss: 0.25417885184288025\n",
            "Accuracy: 0.8549559712409973\n",
            "SSIM: 0.8639237880706787\n",
            "PSNR: 37.20767259597778\n",
            "bpp: 4.259471654891968\n",
            "Epoch 75/100\n"
          ]
        },
        {
          "output_type": "stream",
          "name": "stderr",
          "text": [
            "100%|██████████| 200/200 [00:39<00:00,  5.02it/s]\n",
            "100%|██████████| 200/200 [00:36<00:00,  5.41it/s]\n",
            "100%|██████████| 25/25 [00:05<00:00,  4.99it/s]\n"
          ]
        },
        {
          "output_type": "stream",
          "name": "stdout",
          "text": [
            "Loss: 0.3309423327445984\n",
            "Accuracy: 0.8171640038490295\n",
            "SSIM: 0.9518324136734009\n",
            "PSNR: 36.83596611022949\n",
            "bpp: 3.8059680461883545\n",
            "Epoch 76/100\n"
          ]
        },
        {
          "output_type": "stream",
          "name": "stderr",
          "text": [
            "100%|██████████| 200/200 [00:39<00:00,  5.03it/s]\n",
            "100%|██████████| 200/200 [00:36<00:00,  5.41it/s]\n",
            "100%|██████████| 25/25 [00:05<00:00,  4.93it/s]\n"
          ]
        },
        {
          "output_type": "stream",
          "name": "stdout",
          "text": [
            "Loss: 0.24796995520591736\n",
            "Accuracy: 0.8576915860176086\n",
            "SSIM: 0.8895873427391052\n",
            "PSNR: 36.9615364074707\n",
            "bpp: 4.292299032211304\n",
            "Epoch 77/100\n"
          ]
        },
        {
          "output_type": "stream",
          "name": "stderr",
          "text": [
            "100%|██████████| 200/200 [00:39<00:00,  5.03it/s]\n",
            "100%|██████████| 200/200 [00:37<00:00,  5.40it/s]\n",
            "100%|██████████| 25/25 [00:05<00:00,  4.97it/s]\n"
          ]
        },
        {
          "output_type": "stream",
          "name": "stdout",
          "text": [
            "Loss: 0.23276692628860474\n",
            "Accuracy: 0.8712377548217773\n",
            "SSIM: 0.8488981127738953\n",
            "PSNR: 38.01229000091553\n",
            "bpp: 4.454853057861328\n",
            "Epoch 78/100\n"
          ]
        },
        {
          "output_type": "stream",
          "name": "stderr",
          "text": [
            "100%|██████████| 200/200 [00:39<00:00,  5.00it/s]\n",
            "100%|██████████| 200/200 [00:36<00:00,  5.42it/s]\n",
            "100%|██████████| 25/25 [00:05<00:00,  4.90it/s]\n"
          ]
        },
        {
          "output_type": "stream",
          "name": "stdout",
          "text": [
            "Loss: 0.22253596782684326\n",
            "Accuracy: 0.8849890828132629\n",
            "SSIM: 0.8115234971046448\n",
            "PSNR: 38.16915512084961\n",
            "bpp: 4.619868993759155\n",
            "Epoch 79/100\n"
          ]
        },
        {
          "output_type": "stream",
          "name": "stderr",
          "text": [
            "100%|██████████| 200/200 [00:39<00:00,  5.04it/s]\n",
            "100%|██████████| 200/200 [00:36<00:00,  5.41it/s]\n",
            "100%|██████████| 25/25 [00:05<00:00,  4.89it/s]\n"
          ]
        },
        {
          "output_type": "stream",
          "name": "stdout",
          "text": [
            "Loss: 0.3538804352283478\n",
            "Accuracy: 0.8348591923713684\n",
            "SSIM: 0.8916690945625305\n",
            "PSNR: 36.71497344970703\n",
            "bpp: 4.018310308456421\n",
            "Epoch 80/100\n"
          ]
        },
        {
          "output_type": "stream",
          "name": "stderr",
          "text": [
            "100%|██████████| 200/200 [00:39<00:00,  5.03it/s]\n",
            "100%|██████████| 200/200 [00:37<00:00,  5.39it/s]\n",
            "100%|██████████| 25/25 [00:05<00:00,  4.77it/s]\n"
          ]
        },
        {
          "output_type": "stream",
          "name": "stdout",
          "text": [
            "Loss: 0.21660272777080536\n",
            "Accuracy: 0.8882564902305603\n",
            "SSIM: 0.8421712517738342\n",
            "PSNR: 37.8978157043457\n",
            "bpp: 4.659077882766724\n",
            "Epoch 81/100\n"
          ]
        },
        {
          "output_type": "stream",
          "name": "stderr",
          "text": [
            "100%|██████████| 200/200 [00:39<00:00,  5.01it/s]\n",
            "100%|██████████| 200/200 [00:37<00:00,  5.39it/s]\n",
            "100%|██████████| 25/25 [00:05<00:00,  4.89it/s]\n"
          ]
        },
        {
          "output_type": "stream",
          "name": "stdout",
          "text": [
            "Loss: 0.2476169914007187\n",
            "Accuracy: 0.8706481456756592\n",
            "SSIM: 0.8828457593917847\n",
            "PSNR: 35.97510099411011\n",
            "bpp: 4.44777774810791\n",
            "Epoch 82/100\n"
          ]
        },
        {
          "output_type": "stream",
          "name": "stderr",
          "text": [
            "100%|██████████| 200/200 [00:39<00:00,  5.01it/s]\n",
            "100%|██████████| 200/200 [00:36<00:00,  5.42it/s]\n",
            "100%|██████████| 25/25 [00:05<00:00,  4.88it/s]\n"
          ]
        },
        {
          "output_type": "stream",
          "name": "stdout",
          "text": [
            "Loss: 0.27498793601989746\n",
            "Accuracy: 0.8615219593048096\n",
            "SSIM: 0.9017860889434814\n",
            "PSNR: 36.36396408081055\n",
            "bpp: 4.338263511657715\n",
            "Epoch 83/100\n"
          ]
        },
        {
          "output_type": "stream",
          "name": "stderr",
          "text": [
            "100%|██████████| 200/200 [00:39<00:00,  5.01it/s]\n",
            "100%|██████████| 200/200 [00:37<00:00,  5.40it/s]\n",
            "100%|██████████| 25/25 [00:05<00:00,  4.89it/s]\n"
          ]
        },
        {
          "output_type": "stream",
          "name": "stdout",
          "text": [
            "Loss: 0.23806999623775482\n",
            "Accuracy: 0.8831236958503723\n",
            "SSIM: 0.8705264329910278\n",
            "PSNR: 37.36816167831421\n",
            "bpp: 4.597484350204468\n",
            "Epoch 84/100\n"
          ]
        },
        {
          "output_type": "stream",
          "name": "stderr",
          "text": [
            "100%|██████████| 200/200 [00:39<00:00,  5.00it/s]\n",
            "100%|██████████| 200/200 [00:37<00:00,  5.38it/s]\n",
            "100%|██████████| 25/25 [00:05<00:00,  4.87it/s]\n"
          ]
        },
        {
          "output_type": "stream",
          "name": "stdout",
          "text": [
            "Loss: 0.1894577592611313\n",
            "Accuracy: 0.9047321677207947\n",
            "SSIM: 0.8016908764839172\n",
            "PSNR: 37.21688270568848\n",
            "bpp: 4.856786012649536\n",
            "Epoch 85/100\n"
          ]
        },
        {
          "output_type": "stream",
          "name": "stderr",
          "text": [
            "100%|██████████| 200/200 [00:39<00:00,  5.00it/s]\n",
            "100%|██████████| 200/200 [00:37<00:00,  5.38it/s]\n",
            "100%|██████████| 25/25 [00:05<00:00,  4.88it/s]\n"
          ]
        },
        {
          "output_type": "stream",
          "name": "stdout",
          "text": [
            "Loss: 0.22927920520305634\n",
            "Accuracy: 0.8954298496246338\n",
            "SSIM: 0.8358443975448608\n",
            "PSNR: 36.58055305480957\n",
            "bpp: 4.7451581954956055\n",
            "Epoch 86/100\n"
          ]
        },
        {
          "output_type": "stream",
          "name": "stderr",
          "text": [
            "100%|██████████| 200/200 [00:40<00:00,  4.99it/s]\n",
            "100%|██████████| 200/200 [00:37<00:00,  5.36it/s]\n",
            "100%|██████████| 25/25 [00:05<00:00,  4.77it/s]\n"
          ]
        },
        {
          "output_type": "stream",
          "name": "stdout",
          "text": [
            "Loss: 0.2200232297182083\n",
            "Accuracy: 0.8977208733558655\n",
            "SSIM: 0.865127444267273\n",
            "PSNR: 37.35577344894409\n",
            "bpp: 4.772650480270386\n",
            "Epoch 87/100\n"
          ]
        },
        {
          "output_type": "stream",
          "name": "stderr",
          "text": [
            "100%|██████████| 200/200 [00:40<00:00,  4.99it/s]\n",
            "100%|██████████| 200/200 [00:37<00:00,  5.40it/s]\n",
            "100%|██████████| 25/25 [00:05<00:00,  4.96it/s]\n"
          ]
        },
        {
          "output_type": "stream",
          "name": "stdout",
          "text": [
            "Loss: 0.2222943753004074\n",
            "Accuracy: 0.905809223651886\n",
            "SSIM: 0.8290091156959534\n",
            "PSNR: 36.889610290527344\n",
            "bpp: 4.869710683822632\n",
            "Epoch 88/100\n"
          ]
        },
        {
          "output_type": "stream",
          "name": "stderr",
          "text": [
            "100%|██████████| 200/200 [00:39<00:00,  5.01it/s]\n",
            "100%|██████████| 200/200 [00:36<00:00,  5.41it/s]\n",
            "100%|██████████| 25/25 [00:04<00:00,  5.06it/s]\n"
          ]
        },
        {
          "output_type": "stream",
          "name": "stdout",
          "text": [
            "Loss: 0.25836363434791565\n",
            "Accuracy: 0.886198878288269\n",
            "SSIM: 0.9054397344589233\n",
            "PSNR: 37.38624811172485\n",
            "bpp: 4.6343865394592285\n",
            "Epoch 89/100\n"
          ]
        },
        {
          "output_type": "stream",
          "name": "stderr",
          "text": [
            "100%|██████████| 200/200 [00:39<00:00,  5.00it/s]\n",
            "100%|██████████| 200/200 [00:37<00:00,  5.39it/s]\n",
            "100%|██████████| 25/25 [00:05<00:00,  4.92it/s]\n"
          ]
        },
        {
          "output_type": "stream",
          "name": "stdout",
          "text": [
            "Loss: 0.2210056185722351\n",
            "Accuracy: 0.8989126682281494\n",
            "SSIM: 0.8796443939208984\n",
            "PSNR: 35.80416679382324\n",
            "bpp: 4.786952018737793\n",
            "Epoch 90/100\n"
          ]
        },
        {
          "output_type": "stream",
          "name": "stderr",
          "text": [
            "100%|██████████| 200/200 [00:39<00:00,  5.00it/s]\n",
            "100%|██████████| 200/200 [00:36<00:00,  5.41it/s]\n",
            "100%|██████████| 25/25 [00:05<00:00,  4.83it/s]\n"
          ]
        },
        {
          "output_type": "stream",
          "name": "stdout",
          "text": [
            "Loss: 0.21473202109336853\n",
            "Accuracy: 0.9045479893684387\n",
            "SSIM: 0.8462409377098083\n",
            "PSNR: 37.61710166931152\n",
            "bpp: 4.854575872421265\n",
            "Epoch 91/100\n"
          ]
        },
        {
          "output_type": "stream",
          "name": "stderr",
          "text": [
            "100%|██████████| 200/200 [00:40<00:00,  4.99it/s]\n",
            "100%|██████████| 200/200 [00:37<00:00,  5.37it/s]\n",
            "100%|██████████| 25/25 [00:05<00:00,  4.86it/s]\n"
          ]
        },
        {
          "output_type": "stream",
          "name": "stdout",
          "text": [
            "Loss: 0.18461313843727112\n",
            "Accuracy: 0.9206172823905945\n",
            "SSIM: 0.8109310865402222\n",
            "PSNR: 37.540283203125\n",
            "bpp: 5.047407388687134\n",
            "Epoch 92/100\n"
          ]
        },
        {
          "output_type": "stream",
          "name": "stderr",
          "text": [
            "100%|██████████| 200/200 [00:40<00:00,  5.00it/s]\n",
            "100%|██████████| 200/200 [00:37<00:00,  5.40it/s]\n",
            "100%|██████████| 25/25 [00:05<00:00,  4.85it/s]\n"
          ]
        },
        {
          "output_type": "stream",
          "name": "stdout",
          "text": [
            "Loss: 0.20776505768299103\n",
            "Accuracy: 0.9045125842094421\n",
            "SSIM: 0.858143150806427\n",
            "PSNR: 37.407991886138916\n",
            "bpp: 4.854151010513306\n",
            "Epoch 93/100\n"
          ]
        },
        {
          "output_type": "stream",
          "name": "stderr",
          "text": [
            "100%|██████████| 200/200 [00:40<00:00,  4.96it/s]\n",
            "100%|██████████| 200/200 [00:37<00:00,  5.35it/s]\n",
            "100%|██████████| 25/25 [00:05<00:00,  4.94it/s]\n"
          ]
        },
        {
          "output_type": "stream",
          "name": "stdout",
          "text": [
            "Loss: 0.2332371473312378\n",
            "Accuracy: 0.896680474281311\n",
            "SSIM: 0.920210599899292\n",
            "PSNR: 36.92418813705444\n",
            "bpp: 4.760165691375732\n",
            "Epoch 94/100\n"
          ]
        },
        {
          "output_type": "stream",
          "name": "stderr",
          "text": [
            "100%|██████████| 200/200 [00:40<00:00,  4.96it/s]\n",
            "100%|██████████| 200/200 [00:37<00:00,  5.37it/s]\n",
            "100%|██████████| 25/25 [00:05<00:00,  4.89it/s]\n"
          ]
        },
        {
          "output_type": "stream",
          "name": "stdout",
          "text": [
            "Loss: 0.25562068819999695\n",
            "Accuracy: 0.8879391551017761\n",
            "SSIM: 0.8704290390014648\n",
            "PSNR: 37.55420923233032\n",
            "bpp: 4.6552698612213135\n",
            "Epoch 95/100\n"
          ]
        },
        {
          "output_type": "stream",
          "name": "stderr",
          "text": [
            "100%|██████████| 200/200 [00:40<00:00,  4.96it/s]\n",
            "100%|██████████| 200/200 [00:37<00:00,  5.38it/s]\n",
            "100%|██████████| 25/25 [00:05<00:00,  4.78it/s]\n"
          ]
        },
        {
          "output_type": "stream",
          "name": "stdout",
          "text": [
            "Loss: 0.187906414270401\n",
            "Accuracy: 0.9122601747512817\n",
            "SSIM: 0.8538263440132141\n",
            "PSNR: 37.76759624481201\n",
            "bpp: 4.947122097015381\n",
            "Epoch 96/100\n"
          ]
        },
        {
          "output_type": "stream",
          "name": "stderr",
          "text": [
            "100%|██████████| 200/200 [00:40<00:00,  4.98it/s]\n",
            "100%|██████████| 200/200 [00:37<00:00,  5.38it/s]\n",
            "100%|██████████| 25/25 [00:05<00:00,  4.90it/s]\n"
          ]
        },
        {
          "output_type": "stream",
          "name": "stdout",
          "text": [
            "Loss: 0.20125126838684082\n",
            "Accuracy: 0.9129565358161926\n",
            "SSIM: 0.8591927886009216\n",
            "PSNR: 37.38412618637085\n",
            "bpp: 4.9554784297943115\n",
            "Epoch 97/100\n"
          ]
        },
        {
          "output_type": "stream",
          "name": "stderr",
          "text": [
            "100%|██████████| 200/200 [00:40<00:00,  4.98it/s]\n",
            "100%|██████████| 200/200 [00:37<00:00,  5.36it/s]\n",
            "100%|██████████| 25/25 [00:05<00:00,  4.98it/s]\n"
          ]
        },
        {
          "output_type": "stream",
          "name": "stdout",
          "text": [
            "Loss: 0.23356467485427856\n",
            "Accuracy: 0.9036059379577637\n",
            "SSIM: 0.8823975920677185\n",
            "PSNR: 37.00945854187012\n",
            "bpp: 4.843271255493164\n",
            "Epoch 98/100\n"
          ]
        },
        {
          "output_type": "stream",
          "name": "stderr",
          "text": [
            "100%|██████████| 200/200 [00:40<00:00,  4.96it/s]\n",
            "100%|██████████| 200/200 [00:37<00:00,  5.36it/s]\n",
            "100%|██████████| 25/25 [00:05<00:00,  4.84it/s]\n"
          ]
        },
        {
          "output_type": "stream",
          "name": "stdout",
          "text": [
            "Loss: 0.24997802078723907\n",
            "Accuracy: 0.8903131484985352\n",
            "SSIM: 0.8873531818389893\n",
            "PSNR: 35.80390691757202\n",
            "bpp: 4.683757781982422\n",
            "Epoch 99/100\n"
          ]
        },
        {
          "output_type": "stream",
          "name": "stderr",
          "text": [
            "100%|██████████| 200/200 [00:40<00:00,  4.97it/s]\n",
            "100%|██████████| 200/200 [00:37<00:00,  5.36it/s]\n",
            "100%|██████████| 25/25 [00:05<00:00,  4.85it/s]\n"
          ]
        },
        {
          "output_type": "stream",
          "name": "stdout",
          "text": [
            "Loss: 0.20547759532928467\n",
            "Accuracy: 0.9110869765281677\n",
            "SSIM: 0.8277222514152527\n",
            "PSNR: 37.15515375137329\n",
            "bpp: 4.933043718338013\n",
            "Epoch 100/100\n"
          ]
        },
        {
          "output_type": "stream",
          "name": "stderr",
          "text": [
            "100%|██████████| 200/200 [00:40<00:00,  4.97it/s]\n",
            "100%|██████████| 200/200 [00:37<00:00,  5.37it/s]\n",
            "100%|██████████| 25/25 [00:05<00:00,  4.81it/s]\n"
          ]
        },
        {
          "output_type": "stream",
          "name": "stdout",
          "text": [
            "Loss: 0.33455905318260193\n",
            "Accuracy: 0.8711773157119751\n",
            "SSIM: 0.8406581282615662\n",
            "PSNR: 33.43243360519409\n",
            "bpp: 4.454127788543701\n"
          ]
        }
      ],
      "source": [
        "# Fit on the given data\n",
        "steganography.fit(train, validation, epochs=100)\n"
      ]
    },
    {
      "cell_type": "code",
      "execution_count": 14,
      "metadata": {
        "colab": {
          "base_uri": "https://localhost:8080/"
        },
        "id": "5azDVZwk77s9",
        "outputId": "e18a21b7-33ca-4e33-d1d3-77aaee3b3efa"
      },
      "outputs": [
        {
          "output_type": "stream",
          "name": "stdout",
          "text": [
            "mkdir: cannot create directory ‘models’: File exists\n"
          ]
        },
        {
          "output_type": "stream",
          "name": "stderr",
          "text": [
            "/usr/local/lib/python3.7/dist-packages/torch/serialization.py:250: UserWarning: Couldn't retrieve source code for container of type EnhancedEncoder. It won't be checked for correctness upon loading.\n",
            "  \"type \" + obj.__name__ + \". It won't be checked \"\n",
            "/usr/local/lib/python3.7/dist-packages/torch/serialization.py:250: UserWarning: Couldn't retrieve source code for container of type EnhancedDecoder. It won't be checked for correctness upon loading.\n",
            "  \"type \" + obj.__name__ + \". It won't be checked \"\n",
            "/usr/local/lib/python3.7/dist-packages/torch/serialization.py:250: UserWarning: Couldn't retrieve source code for container of type Critic. It won't be checked for correctness upon loading.\n",
            "  \"type \" + obj.__name__ + \". It won't be checked \"\n"
          ]
        }
      ],
      "source": [
        "!mkdir models\n",
        "steganography.save('models/enhanced_100.steg')"
      ]
    }
  ],
  "metadata": {
    "accelerator": "GPU",
    "colab": {
      "collapsed_sections": [],
      "machine_shape": "hm",
      "name": "steg_50_AU.ipynb",
      "provenance": []
    },
    "kernelspec": {
      "display_name": "Python 3",
      "name": "python3"
    },
    "language_info": {
      "name": "python"
    }
  },
  "nbformat": 4,
  "nbformat_minor": 0
}