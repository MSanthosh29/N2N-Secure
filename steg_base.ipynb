{
  "cells": [
    {
      "cell_type": "code",
      "source": [
        "from google.colab import drive\n",
        "drive.mount('/content/drive')"
      ],
      "metadata": {
        "colab": {
          "base_uri": "https://localhost:8080/"
        },
        "id": "U7ubUDYoByHu",
        "outputId": "642c853a-2749-42dc-fca4-e4c30a8324ad"
      },
      "execution_count": 1,
      "outputs": [
        {
          "output_type": "stream",
          "name": "stdout",
          "text": [
            "Mounted at /content/drive\n"
          ]
        }
      ]
    },
    {
      "cell_type": "code",
      "execution_count": 2,
      "metadata": {
        "colab": {
          "base_uri": "https://localhost:8080/"
        },
        "id": "B4h73oUzEJ_L",
        "outputId": "1f9d6ddc-b1aa-4e19-f1b8-c67a0fcf8f3d"
      },
      "outputs": [
        {
          "output_type": "stream",
          "name": "stdout",
          "text": [
            "/content/div2k\n",
            "--2022-03-12 04:13:16--  http://data.vision.ee.ethz.ch/cvl/DIV2K/DIV2K_valid_HR.zip\n",
            "Resolving data.vision.ee.ethz.ch (data.vision.ee.ethz.ch)... 129.132.52.178, 2001:67c:10ec:36c2::178\n",
            "Connecting to data.vision.ee.ethz.ch (data.vision.ee.ethz.ch)|129.132.52.178|:80... connected.\n",
            "HTTP request sent, awaiting response... 302 Found\n",
            "Location: https://data.vision.ee.ethz.ch/cvl/DIV2K/DIV2K_valid_HR.zip [following]\n",
            "--2022-03-12 04:13:17--  https://data.vision.ee.ethz.ch/cvl/DIV2K/DIV2K_valid_HR.zip\n",
            "Connecting to data.vision.ee.ethz.ch (data.vision.ee.ethz.ch)|129.132.52.178|:443... connected.\n",
            "HTTP request sent, awaiting response... 200 OK\n",
            "Length: 448993893 (428M) [application/zip]\n",
            "Saving to: ‘DIV2K_valid_HR.zip’\n",
            "\n",
            "DIV2K_valid_HR.zip  100%[===================>] 428.19M  12.2MB/s    in 37s     \n",
            "\n",
            "2022-03-12 04:13:55 (11.5 MB/s) - ‘DIV2K_valid_HR.zip’ saved [448993893/448993893]\n",
            "\n",
            "Archive:  DIV2K_valid_HR.zip\n",
            "  inflating: val/_/0897.png          \n",
            "  inflating: val/_/0887.png          \n",
            "  inflating: val/_/0806.png          \n",
            "  inflating: val/_/0834.png          \n",
            "  inflating: val/_/0896.png          \n",
            "  inflating: val/_/0881.png          \n",
            "  inflating: val/_/0828.png          \n",
            "  inflating: val/_/0833.png          \n",
            "  inflating: val/_/0877.png          \n",
            "  inflating: val/_/0826.png          \n",
            "  inflating: val/_/0879.png          \n",
            "  inflating: val/_/0812.png          \n",
            "  inflating: val/_/0809.png          \n",
            "  inflating: val/_/0865.png          \n",
            "  inflating: val/_/0882.png          \n",
            "  inflating: val/_/0830.png          \n",
            "  inflating: val/_/0892.png          \n",
            "  inflating: val/_/0859.png          \n",
            "  inflating: val/_/0858.png          \n",
            "  inflating: val/_/0816.png          \n",
            "  inflating: val/_/0836.png          \n",
            "  inflating: val/_/0857.png          \n",
            "  inflating: val/_/0824.png          \n",
            "  inflating: val/_/0823.png          \n",
            "  inflating: val/_/0810.png          \n",
            "  inflating: val/_/0900.png          \n",
            "  inflating: val/_/0884.png          \n",
            "  inflating: val/_/0890.png          \n",
            "  inflating: val/_/0835.png          \n",
            "  inflating: val/_/0848.png          \n",
            "  inflating: val/_/0869.png          \n",
            "  inflating: val/_/0878.png          \n",
            "  inflating: val/_/0860.png          \n",
            "  inflating: val/_/0851.png          \n",
            "  inflating: val/_/0870.png          \n",
            "  inflating: val/_/0867.png          \n",
            "  inflating: val/_/0898.png          \n",
            "  inflating: val/_/0818.png          \n",
            "  inflating: val/_/0814.png          \n",
            "  inflating: val/_/0895.png          \n",
            "  inflating: val/_/0856.png          \n",
            "  inflating: val/_/0891.png          \n",
            "  inflating: val/_/0829.png          \n",
            "  inflating: val/_/0825.png          \n",
            "  inflating: val/_/0853.png          \n",
            "  inflating: val/_/0894.png          \n",
            "  inflating: val/_/0863.png          \n",
            "  inflating: val/_/0883.png          \n",
            "  inflating: val/_/0822.png          \n",
            "  inflating: val/_/0837.png          \n",
            "  inflating: val/_/0849.png          \n",
            "  inflating: val/_/0899.png          \n",
            "  inflating: val/_/0807.png          \n",
            "  inflating: val/_/0864.png          \n",
            "  inflating: val/_/0845.png          \n",
            "  inflating: val/_/0871.png          \n",
            "  inflating: val/_/0804.png          \n",
            "  inflating: val/_/0815.png          \n",
            "  inflating: val/_/0813.png          \n",
            "  inflating: val/_/0868.png          \n",
            "  inflating: val/_/0893.png          \n",
            "  inflating: val/_/0876.png          \n",
            "  inflating: val/_/0889.png          \n",
            "  inflating: val/_/0843.png          \n",
            "  inflating: val/_/0862.png          \n",
            "  inflating: val/_/0875.png          \n",
            "  inflating: val/_/0885.png          \n",
            "  inflating: val/_/0866.png          \n",
            "  inflating: val/_/0839.png          \n",
            "  inflating: val/_/0873.png          \n",
            "  inflating: val/_/0820.png          \n",
            "  inflating: val/_/0852.png          \n",
            "  inflating: val/_/0819.png          \n",
            "  inflating: val/_/0808.png          \n",
            "  inflating: val/_/0802.png          \n",
            "  inflating: val/_/0821.png          \n",
            "  inflating: val/_/0811.png          \n",
            "  inflating: val/_/0847.png          \n",
            "  inflating: val/_/0838.png          \n",
            "  inflating: val/_/0827.png          \n",
            "  inflating: val/_/0844.png          \n",
            "  inflating: val/_/0872.png          \n",
            "  inflating: val/_/0880.png          \n",
            "  inflating: val/_/0854.png          \n",
            "  inflating: val/_/0831.png          \n",
            "  inflating: val/_/0841.png          \n",
            "  inflating: val/_/0832.png          \n",
            "  inflating: val/_/0801.png          \n",
            "  inflating: val/_/0805.png          \n",
            "  inflating: val/_/0888.png          \n",
            "  inflating: val/_/0861.png          \n",
            "  inflating: val/_/0817.png          \n",
            "  inflating: val/_/0803.png          \n",
            "  inflating: val/_/0842.png          \n",
            "  inflating: val/_/0855.png          \n",
            "  inflating: val/_/0840.png          \n",
            "  inflating: val/_/0874.png          \n",
            "  inflating: val/_/0846.png          \n",
            "  inflating: val/_/0886.png          \n",
            "  inflating: val/_/0850.png          \n",
            "--2022-03-12 04:13:59--  http://data.vision.ee.ethz.ch/cvl/DIV2K/DIV2K_train_HR.zip\n",
            "Resolving data.vision.ee.ethz.ch (data.vision.ee.ethz.ch)... 129.132.52.178, 2001:67c:10ec:36c2::178\n",
            "Connecting to data.vision.ee.ethz.ch (data.vision.ee.ethz.ch)|129.132.52.178|:80... connected.\n",
            "HTTP request sent, awaiting response... 302 Found\n",
            "Location: https://data.vision.ee.ethz.ch/cvl/DIV2K/DIV2K_train_HR.zip [following]\n",
            "--2022-03-12 04:14:00--  https://data.vision.ee.ethz.ch/cvl/DIV2K/DIV2K_train_HR.zip\n",
            "Connecting to data.vision.ee.ethz.ch (data.vision.ee.ethz.ch)|129.132.52.178|:443... connected.\n",
            "HTTP request sent, awaiting response... 200 OK\n",
            "Length: 3530603713 (3.3G) [application/zip]\n",
            "Saving to: ‘DIV2K_train_HR.zip’\n",
            "\n",
            "DIV2K_train_HR.zip  100%[===================>]   3.29G  12.1MB/s    in 4m 49s  \n",
            "\n",
            "2022-03-12 04:18:50 (11.6 MB/s) - ‘DIV2K_train_HR.zip’ saved [3530603713/3530603713]\n",
            "\n",
            "Archive:  DIV2K_train_HR.zip\n",
            "  inflating: train/_/0103.png        \n",
            "  inflating: train/_/0413.png        \n",
            "  inflating: train/_/0031.png        \n",
            "  inflating: train/_/0660.png        \n",
            "  inflating: train/_/0126.png        \n",
            "  inflating: train/_/0793.png        \n",
            "  inflating: train/_/0764.png        \n",
            "  inflating: train/_/0550.png        \n",
            "  inflating: train/_/0437.png        \n",
            "  inflating: train/_/0374.png        \n",
            "  inflating: train/_/0755.png        \n",
            "  inflating: train/_/0614.png        \n",
            "  inflating: train/_/0646.png        \n",
            "  inflating: train/_/0371.png        \n",
            "  inflating: train/_/0312.png        \n",
            "  inflating: train/_/0108.png        \n",
            "  inflating: train/_/0556.png        \n",
            "  inflating: train/_/0794.png        \n",
            "  inflating: train/_/0722.png        \n",
            "  inflating: train/_/0780.png        \n",
            "  inflating: train/_/0555.png        \n",
            "  inflating: train/_/0439.png        \n",
            "  inflating: train/_/0396.png        \n",
            "  inflating: train/_/0666.png        \n",
            "  inflating: train/_/0254.png        \n",
            "  inflating: train/_/0344.png        \n",
            "  inflating: train/_/0062.png        \n",
            "  inflating: train/_/0657.png        \n",
            "  inflating: train/_/0117.png        \n",
            "  inflating: train/_/0395.png        \n",
            "  inflating: train/_/0015.png        \n",
            "  inflating: train/_/0335.png        \n",
            "  inflating: train/_/0578.png        \n",
            "  inflating: train/_/0142.png        \n",
            "  inflating: train/_/0719.png        \n",
            "  inflating: train/_/0101.png        \n",
            "  inflating: train/_/0579.png        \n",
            "  inflating: train/_/0504.png        \n",
            "  inflating: train/_/0576.png        \n",
            "  inflating: train/_/0590.png        \n",
            "  inflating: train/_/0158.png        \n",
            "  inflating: train/_/0384.png        \n",
            "  inflating: train/_/0795.png        \n",
            "  inflating: train/_/0668.png        \n",
            "  inflating: train/_/0144.png        \n",
            "  inflating: train/_/0642.png        \n",
            "  inflating: train/_/0427.png        \n",
            "  inflating: train/_/0593.png        \n",
            "  inflating: train/_/0080.png        \n",
            "  inflating: train/_/0050.png        \n",
            "  inflating: train/_/0617.png        \n",
            "  inflating: train/_/0608.png        \n",
            "  inflating: train/_/0118.png        \n",
            "  inflating: train/_/0082.png        \n",
            "  inflating: train/_/0788.png        \n",
            "  inflating: train/_/0042.png        \n",
            "  inflating: train/_/0333.png        \n",
            "  inflating: train/_/0346.png        \n",
            "  inflating: train/_/0705.png        \n",
            "  inflating: train/_/0195.png        \n",
            "  inflating: train/_/0671.png        \n",
            "  inflating: train/_/0213.png        \n",
            "  inflating: train/_/0692.png        \n",
            "  inflating: train/_/0253.png        \n",
            "  inflating: train/_/0191.png        \n",
            "  inflating: train/_/0628.png        \n",
            "  inflating: train/_/0354.png        \n",
            "  inflating: train/_/0003.png        \n",
            "  inflating: train/_/0393.png        \n",
            "  inflating: train/_/0336.png        \n",
            "  inflating: train/_/0674.png        \n",
            "  inflating: train/_/0586.png        \n",
            "  inflating: train/_/0074.png        \n",
            "  inflating: train/_/0116.png        \n",
            "  inflating: train/_/0270.png        \n",
            "  inflating: train/_/0376.png        \n",
            "  inflating: train/_/0650.png        \n",
            "  inflating: train/_/0462.png        \n",
            "  inflating: train/_/0046.png        \n",
            "  inflating: train/_/0545.png        \n",
            "  inflating: train/_/0347.png        \n",
            "  inflating: train/_/0187.png        \n",
            "  inflating: train/_/0713.png        \n",
            "  inflating: train/_/0558.png        \n",
            "  inflating: train/_/0319.png        \n",
            "  inflating: train/_/0073.png        \n",
            "  inflating: train/_/0033.png        \n",
            "  inflating: train/_/0207.png        \n",
            "  inflating: train/_/0290.png        \n",
            "  inflating: train/_/0194.png        \n",
            "  inflating: train/_/0246.png        \n",
            "  inflating: train/_/0034.png        \n",
            "  inflating: train/_/0621.png        \n",
            "  inflating: train/_/0768.png        \n",
            "  inflating: train/_/0366.png        \n",
            "  inflating: train/_/0490.png        \n",
            "  inflating: train/_/0471.png        \n",
            "  inflating: train/_/0475.png        \n",
            "  inflating: train/_/0152.png        \n",
            "  inflating: train/_/0636.png        \n",
            "  inflating: train/_/0338.png        \n",
            "  inflating: train/_/0358.png        \n",
            "  inflating: train/_/0523.png        \n",
            "  inflating: train/_/0456.png        \n",
            "  inflating: train/_/0470.png        \n",
            "  inflating: train/_/0522.png        \n",
            "  inflating: train/_/0426.png        \n",
            "  inflating: train/_/0587.png        \n",
            "  inflating: train/_/0465.png        \n",
            "  inflating: train/_/0236.png        \n",
            "  inflating: train/_/0192.png        \n",
            "  inflating: train/_/0458.png        \n",
            "  inflating: train/_/0438.png        \n",
            "  inflating: train/_/0176.png        \n",
            "  inflating: train/_/0016.png        \n",
            "  inflating: train/_/0392.png        \n",
            "  inflating: train/_/0054.png        \n",
            "  inflating: train/_/0063.png        \n",
            "  inflating: train/_/0537.png        \n",
            "  inflating: train/_/0271.png        \n",
            "  inflating: train/_/0409.png        \n",
            "  inflating: train/_/0328.png        \n",
            "  inflating: train/_/0582.png        \n",
            "  inflating: train/_/0532.png        \n",
            "  inflating: train/_/0706.png        \n",
            "  inflating: train/_/0153.png        \n",
            "  inflating: train/_/0401.png        \n",
            "  inflating: train/_/0110.png        \n",
            "  inflating: train/_/0316.png        \n",
            "  inflating: train/_/0069.png        \n",
            "  inflating: train/_/0209.png        \n",
            "  inflating: train/_/0351.png        \n",
            "  inflating: train/_/0433.png        \n",
            "  inflating: train/_/0534.png        \n",
            "  inflating: train/_/0525.png        \n",
            "  inflating: train/_/0353.png        \n",
            "  inflating: train/_/0018.png        \n",
            "  inflating: train/_/0592.png        \n",
            "  inflating: train/_/0041.png        \n",
            "  inflating: train/_/0398.png        \n",
            "  inflating: train/_/0355.png        \n",
            "  inflating: train/_/0492.png        \n",
            "  inflating: train/_/0258.png        \n",
            "  inflating: train/_/0051.png        \n",
            "  inflating: train/_/0339.png        \n",
            "  inflating: train/_/0156.png        \n",
            "  inflating: train/_/0174.png        \n",
            "  inflating: train/_/0526.png        \n",
            "  inflating: train/_/0168.png        \n",
            "  inflating: train/_/0515.png        \n",
            "  inflating: train/_/0289.png        \n",
            "  inflating: train/_/0700.png        \n",
            "  inflating: train/_/0711.png        \n",
            "  inflating: train/_/0317.png        \n",
            "  inflating: train/_/0310.png        \n",
            "  inflating: train/_/0075.png        \n",
            "  inflating: train/_/0533.png        \n",
            "  inflating: train/_/0345.png        \n",
            "  inflating: train/_/0238.png        \n",
            "  inflating: train/_/0493.png        \n",
            "  inflating: train/_/0019.png        \n",
            "  inflating: train/_/0559.png        \n",
            "  inflating: train/_/0268.png        \n",
            "  inflating: train/_/0746.png        \n",
            "  inflating: train/_/0648.png        \n",
            "  inflating: train/_/0112.png        \n",
            "  inflating: train/_/0639.png        \n",
            "  inflating: train/_/0216.png        \n",
            "  inflating: train/_/0170.png        \n",
            "  inflating: train/_/0408.png        \n",
            "  inflating: train/_/0461.png        \n",
            "  inflating: train/_/0774.png        \n",
            "  inflating: train/_/0308.png        \n",
            "  inflating: train/_/0368.png        \n",
            "  inflating: train/_/0341.png        \n",
            "  inflating: train/_/0535.png        \n",
            "  inflating: train/_/0585.png        \n",
            "  inflating: train/_/0004.png        \n",
            "  inflating: train/_/0496.png        \n",
            "  inflating: train/_/0662.png        \n",
            "  inflating: train/_/0173.png        \n",
            "  inflating: train/_/0200.png        \n",
            "  inflating: train/_/0752.png        \n",
            "  inflating: train/_/0106.png        \n",
            "  inflating: train/_/0520.png        \n",
            "  inflating: train/_/0519.png        \n",
            "  inflating: train/_/0157.png        \n",
            "  inflating: train/_/0552.png        \n",
            "  inflating: train/_/0735.png        \n",
            "  inflating: train/_/0362.png        \n",
            "  inflating: train/_/0410.png        \n",
            "  inflating: train/_/0286.png        \n",
            "  inflating: train/_/0627.png        \n",
            "  inflating: train/_/0557.png        \n",
            "  inflating: train/_/0266.png        \n",
            "  inflating: train/_/0252.png        \n",
            "  inflating: train/_/0206.png        \n",
            "  inflating: train/_/0330.png        \n",
            "  inflating: train/_/0088.png        \n",
            "  inflating: train/_/0728.png        \n",
            "  inflating: train/_/0641.png        \n",
            "  inflating: train/_/0350.png        \n",
            "  inflating: train/_/0083.png        \n",
            "  inflating: train/_/0682.png        \n",
            "  inflating: train/_/0549.png        \n",
            "  inflating: train/_/0564.png        \n",
            "  inflating: train/_/0476.png        \n",
            "  inflating: train/_/0760.png        \n",
            "  inflating: train/_/0629.png        \n",
            "  inflating: train/_/0630.png        \n",
            "  inflating: train/_/0032.png        \n",
            "  inflating: train/_/0581.png        \n",
            "  inflating: train/_/0056.png        \n",
            "  inflating: train/_/0040.png        \n",
            "  inflating: train/_/0169.png        \n",
            "  inflating: train/_/0400.png        \n",
            "  inflating: train/_/0172.png        \n",
            "  inflating: train/_/0182.png        \n",
            "  inflating: train/_/0269.png        \n",
            "  inflating: train/_/0612.png        \n",
            "  inflating: train/_/0649.png        \n",
            "  inflating: train/_/0311.png        \n",
            "  inflating: train/_/0723.png        \n",
            "  inflating: train/_/0166.png        \n",
            "  inflating: train/_/0155.png        \n",
            "  inflating: train/_/0072.png        \n",
            "  inflating: train/_/0149.png        \n",
            "  inflating: train/_/0425.png        \n",
            "  inflating: train/_/0715.png        \n",
            "  inflating: train/_/0670.png        \n",
            "  inflating: train/_/0460.png        \n",
            "  inflating: train/_/0748.png        \n",
            "  inflating: train/_/0147.png        \n",
            "  inflating: train/_/0602.png        \n",
            "  inflating: train/_/0610.png        \n",
            "  inflating: train/_/0479.png        \n",
            "  inflating: train/_/0603.png        \n",
            "  inflating: train/_/0043.png        \n",
            "  inflating: train/_/0190.png        \n",
            "  inflating: train/_/0503.png        \n",
            "  inflating: train/_/0055.png        \n",
            "  inflating: train/_/0337.png        \n",
            "  inflating: train/_/0453.png        \n",
            "  inflating: train/_/0219.png        \n",
            "  inflating: train/_/0548.png        \n",
            "  inflating: train/_/0661.png        \n",
            "  inflating: train/_/0718.png        \n",
            "  inflating: train/_/0489.png        \n",
            "  inflating: train/_/0775.png        \n",
            "  inflating: train/_/0323.png        \n",
            "  inflating: train/_/0664.png        \n",
            "  inflating: train/_/0002.png        \n",
            "  inflating: train/_/0127.png        \n",
            "  inflating: train/_/0322.png        \n",
            "  inflating: train/_/0640.png        \n",
            "  inflating: train/_/0473.png        \n",
            "  inflating: train/_/0730.png        \n",
            "  inflating: train/_/0008.png        \n",
            "  inflating: train/_/0486.png        \n",
            "  inflating: train/_/0597.png        \n",
            "  inflating: train/_/0064.png        \n",
            "  inflating: train/_/0068.png        \n",
            "  inflating: train/_/0510.png        \n",
            "  inflating: train/_/0594.png        \n",
            "  inflating: train/_/0685.png        \n",
            "  inflating: train/_/0497.png        \n",
            "  inflating: train/_/0637.png        \n",
            "  inflating: train/_/0332.png        \n",
            "  inflating: train/_/0208.png        \n",
            "  inflating: train/_/0241.png        \n",
            "  inflating: train/_/0201.png        \n",
            "  inflating: train/_/0044.png        \n",
            "  inflating: train/_/0141.png        \n",
            "  inflating: train/_/0381.png        \n",
            "  inflating: train/_/0412.png        \n",
            "  inflating: train/_/0035.png        \n",
            "  inflating: train/_/0049.png        \n",
            "  inflating: train/_/0181.png        \n",
            "  inflating: train/_/0340.png        \n",
            "  inflating: train/_/0272.png        \n",
            "  inflating: train/_/0279.png        \n",
            "  inflating: train/_/0307.png        \n",
            "  inflating: train/_/0733.png        \n",
            "  inflating: train/_/0250.png        \n",
            "  inflating: train/_/0739.png        \n",
            "  inflating: train/_/0654.png        \n",
            "  inflating: train/_/0343.png        \n",
            "  inflating: train/_/0422.png        \n",
            "  inflating: train/_/0297.png        \n",
            "  inflating: train/_/0360.png        \n",
            "  inflating: train/_/0099.png        \n",
            "  inflating: train/_/0541.png        \n",
            "  inflating: train/_/0616.png        \n",
            "  inflating: train/_/0352.png        \n",
            "  inflating: train/_/0092.png        \n",
            "  inflating: train/_/0528.png        \n",
            "  inflating: train/_/0483.png        \n",
            "  inflating: train/_/0631.png        \n",
            "  inflating: train/_/0134.png        \n",
            "  inflating: train/_/0625.png        \n",
            "  inflating: train/_/0530.png        \n",
            "  inflating: train/_/0454.png        \n",
            "  inflating: train/_/0624.png        \n",
            "  inflating: train/_/0501.png        \n",
            "  inflating: train/_/0038.png        \n",
            "  inflating: train/_/0365.png        \n",
            "  inflating: train/_/0789.png        \n",
            "  inflating: train/_/0010.png        \n",
            "  inflating: train/_/0543.png        \n",
            "  inflating: train/_/0635.png        \n",
            "  inflating: train/_/0418.png        \n",
            "  inflating: train/_/0159.png        \n",
            "  inflating: train/_/0689.png        \n",
            "  inflating: train/_/0429.png        \n",
            "  inflating: train/_/0276.png        \n",
            "  inflating: train/_/0255.png        \n",
            "  inflating: train/_/0293.png        \n",
            "  inflating: train/_/0327.png        \n",
            "  inflating: train/_/0488.png        \n",
            "  inflating: train/_/0244.png        \n",
            "  inflating: train/_/0721.png        \n",
            "  inflating: train/_/0652.png        \n",
            "  inflating: train/_/0779.png        \n",
            "  inflating: train/_/0687.png        \n",
            "  inflating: train/_/0326.png        \n",
            "  inflating: train/_/0161.png        \n",
            "  inflating: train/_/0498.png        \n",
            "  inflating: train/_/0264.png        \n",
            "  inflating: train/_/0136.png        \n",
            "  inflating: train/_/0006.png        \n",
            "  inflating: train/_/0741.png        \n",
            "  inflating: train/_/0421.png        \n",
            "  inflating: train/_/0229.png        \n",
            "  inflating: train/_/0373.png        \n",
            "  inflating: train/_/0703.png        \n",
            "  inflating: train/_/0516.png        \n",
            "  inflating: train/_/0234.png        \n",
            "  inflating: train/_/0405.png        \n",
            "  inflating: train/_/0763.png        \n",
            "  inflating: train/_/0619.png        \n",
            "  inflating: train/_/0138.png        \n",
            "  inflating: train/_/0513.png        \n",
            "  inflating: train/_/0432.png        \n",
            "  inflating: train/_/0177.png        \n",
            "  inflating: train/_/0017.png        \n",
            "  inflating: train/_/0736.png        \n",
            "  inflating: train/_/0459.png        \n",
            "  inflating: train/_/0505.png        \n",
            "  inflating: train/_/0397.png        \n",
            "  inflating: train/_/0591.png        \n",
            "  inflating: train/_/0196.png        \n",
            "  inflating: train/_/0724.png        \n",
            "  inflating: train/_/0740.png        \n",
            "  inflating: train/_/0223.png        \n",
            "  inflating: train/_/0442.png        \n",
            "  inflating: train/_/0165.png        \n",
            "  inflating: train/_/0302.png        \n",
            "  inflating: train/_/0386.png        \n",
            "  inflating: train/_/0601.png        \n",
            "  inflating: train/_/0370.png        \n",
            "  inflating: train/_/0647.png        \n",
            "  inflating: train/_/0267.png        \n",
            "  inflating: train/_/0380.png        \n",
            "  inflating: train/_/0441.png        \n",
            "  inflating: train/_/0037.png        \n",
            "  inflating: train/_/0678.png        \n",
            "  inflating: train/_/0304.png        \n",
            "  inflating: train/_/0494.png        \n",
            "  inflating: train/_/0028.png        \n",
            "  inflating: train/_/0613.png        \n",
            "  inflating: train/_/0257.png        \n",
            "  inflating: train/_/0100.png        \n",
            "  inflating: train/_/0097.png        \n",
            "  inflating: train/_/0604.png        \n",
            "  inflating: train/_/0023.png        \n",
            "  inflating: train/_/0782.png        \n",
            "  inflating: train/_/0446.png        \n",
            "  inflating: train/_/0378.png        \n",
            "  inflating: train/_/0411.png        \n",
            "  inflating: train/_/0320.png        \n",
            "  inflating: train/_/0390.png        \n",
            "  inflating: train/_/0148.png        \n",
            "  inflating: train/_/0577.png        \n",
            "  inflating: train/_/0684.png        \n",
            "  inflating: train/_/0595.png        \n",
            "  inflating: train/_/0765.png        \n",
            "  inflating: train/_/0203.png        \n",
            "  inflating: train/_/0288.png        \n",
            "  inflating: train/_/0058.png        \n",
            "  inflating: train/_/0790.png        \n",
            "  inflating: train/_/0605.png        \n",
            "  inflating: train/_/0248.png        \n",
            "  inflating: train/_/0467.png        \n",
            "  inflating: train/_/0210.png        \n",
            "  inflating: train/_/0517.png        \n",
            "  inflating: train/_/0707.png        \n",
            "  inflating: train/_/0566.png        \n",
            "  inflating: train/_/0224.png        \n",
            "  inflating: train/_/0114.png        \n",
            "  inflating: train/_/0761.png        \n",
            "  inflating: train/_/0468.png        \n",
            "  inflating: train/_/0716.png        \n",
            "  inflating: train/_/0420.png        \n",
            "  inflating: train/_/0669.png        \n",
            "  inflating: train/_/0375.png        \n",
            "  inflating: train/_/0140.png        \n",
            "  inflating: train/_/0792.png        \n",
            "  inflating: train/_/0240.png        \n",
            "  inflating: train/_/0546.png        \n",
            "  inflating: train/_/0235.png        \n",
            "  inflating: train/_/0077.png        \n",
            "  inflating: train/_/0260.png        \n",
            "  inflating: train/_/0212.png        \n",
            "  inflating: train/_/0584.png        \n",
            "  inflating: train/_/0633.png        \n",
            "  inflating: train/_/0060.png        \n",
            "  inflating: train/_/0164.png        \n",
            "  inflating: train/_/0622.png        \n",
            "  inflating: train/_/0105.png        \n",
            "  inflating: train/_/0005.png        \n",
            "  inflating: train/_/0679.png        \n",
            "  inflating: train/_/0089.png        \n",
            "  inflating: train/_/0466.png        \n",
            "  inflating: train/_/0645.png        \n",
            "  inflating: train/_/0301.png        \n",
            "  inflating: train/_/0499.png        \n",
            "  inflating: train/_/0020.png        \n",
            "  inflating: train/_/0070.png        \n",
            "  inflating: train/_/0404.png        \n",
            "  inflating: train/_/0749.png        \n",
            "  inflating: train/_/0770.png        \n",
            "  inflating: train/_/0772.png        \n",
            "  inflating: train/_/0450.png        \n",
            "  inflating: train/_/0120.png        \n",
            "  inflating: train/_/0653.png        \n",
            "  inflating: train/_/0563.png        \n",
            "  inflating: train/_/0171.png        \n",
            "  inflating: train/_/0784.png        \n",
            "  inflating: train/_/0688.png        \n",
            "  inflating: train/_/0045.png        \n",
            "  inflating: train/_/0066.png        \n",
            "  inflating: train/_/0583.png        \n",
            "  inflating: train/_/0632.png        \n",
            "  inflating: train/_/0512.png        \n",
            "  inflating: train/_/0767.png        \n",
            "  inflating: train/_/0623.png        \n",
            "  inflating: train/_/0406.png        \n",
            "  inflating: train/_/0419.png        \n",
            "  inflating: train/_/0273.png        \n",
            "  inflating: train/_/0198.png        \n",
            "  inflating: train/_/0750.png        \n",
            "  inflating: train/_/0220.png        \n",
            "  inflating: train/_/0482.png        \n",
            "  inflating: train/_/0407.png        \n",
            "  inflating: train/_/0704.png        \n",
            "  inflating: train/_/0547.png        \n",
            "  inflating: train/_/0589.png        \n",
            "  inflating: train/_/0012.png        \n",
            "  inflating: train/_/0150.png        \n",
            "  inflating: train/_/0481.png        \n",
            "  inflating: train/_/0357.png        \n",
            "  inflating: train/_/0677.png        \n",
            "  inflating: train/_/0315.png        \n",
            "  inflating: train/_/0394.png        \n",
            "  inflating: train/_/0160.png        \n",
            "  inflating: train/_/0667.png        \n",
            "  inflating: train/_/0568.png        \n",
            "  inflating: train/_/0435.png        \n",
            "  inflating: train/_/0606.png        \n",
            "  inflating: train/_/0464.png        \n",
            "  inflating: train/_/0364.png        \n",
            "  inflating: train/_/0245.png        \n",
            "  inflating: train/_/0508.png        \n",
            "  inflating: train/_/0356.png        \n",
            "  inflating: train/_/0135.png        \n",
            "  inflating: train/_/0146.png        \n",
            "  inflating: train/_/0574.png        \n",
            "  inflating: train/_/0698.png        \n",
            "  inflating: train/_/0222.png        \n",
            "  inflating: train/_/0261.png        \n",
            "  inflating: train/_/0444.png        \n",
            "  inflating: train/_/0078.png        \n",
            "  inflating: train/_/0123.png        \n",
            "  inflating: train/_/0797.png        \n",
            "  inflating: train/_/0274.png        \n",
            "  inflating: train/_/0225.png        \n",
            "  inflating: train/_/0180.png        \n",
            "  inflating: train/_/0325.png        \n",
            "  inflating: train/_/0372.png        \n",
            "  inflating: train/_/0029.png        \n",
            "  inflating: train/_/0318.png        \n",
            "  inflating: train/_/0452.png        \n",
            "  inflating: train/_/0115.png        \n",
            "  inflating: train/_/0423.png        \n",
            "  inflating: train/_/0615.png        \n",
            "  inflating: train/_/0672.png        \n",
            "  inflating: train/_/0231.png        \n",
            "  inflating: train/_/0731.png        \n",
            "  inflating: train/_/0389.png        \n",
            "  inflating: train/_/0680.png        \n",
            "  inflating: train/_/0329.png        \n",
            "  inflating: train/_/0663.png        \n",
            "  inflating: train/_/0659.png        \n",
            "  inflating: train/_/0292.png        \n",
            "  inflating: train/_/0284.png        \n",
            "  inflating: train/_/0133.png        \n",
            "  inflating: train/_/0727.png        \n",
            "  inflating: train/_/0445.png        \n",
            "  inflating: train/_/0139.png        \n",
            "  inflating: train/_/0298.png        \n",
            "  inflating: train/_/0282.png        \n",
            "  inflating: train/_/0778.png        \n",
            "  inflating: train/_/0565.png        \n",
            "  inflating: train/_/0485.png        \n",
            "  inflating: train/_/0495.png        \n",
            "  inflating: train/_/0215.png        \n",
            "  inflating: train/_/0694.png        \n",
            "  inflating: train/_/0321.png        \n",
            "  inflating: train/_/0094.png        \n",
            "  inflating: train/_/0598.png        \n",
            "  inflating: train/_/0430.png        \n",
            "  inflating: train/_/0021.png        \n",
            "  inflating: train/_/0036.png        \n",
            "  inflating: train/_/0188.png        \n",
            "  inflating: train/_/0334.png        \n",
            "  inflating: train/_/0759.png        \n",
            "  inflating: train/_/0217.png        \n",
            "  inflating: train/_/0562.png        \n",
            "  inflating: train/_/0124.png        \n",
            "  inflating: train/_/0690.png        \n",
            "  inflating: train/_/0385.png        \n",
            "  inflating: train/_/0695.png        \n",
            "  inflating: train/_/0708.png        \n",
            "  inflating: train/_/0745.png        \n",
            "  inflating: train/_/0007.png        \n",
            "  inflating: train/_/0226.png        \n",
            "  inflating: train/_/0256.png        \n",
            "  inflating: train/_/0673.png        \n",
            "  inflating: train/_/0451.png        \n",
            "  inflating: train/_/0143.png        \n",
            "  inflating: train/_/0403.png        \n",
            "  inflating: train/_/0125.png        \n",
            "  inflating: train/_/0132.png        \n",
            "  inflating: train/_/0644.png        \n",
            "  inflating: train/_/0796.png        \n",
            "  inflating: train/_/0076.png        \n",
            "  inflating: train/_/0211.png        \n",
            "  inflating: train/_/0676.png        \n",
            "  inflating: train/_/0121.png        \n",
            "  inflating: train/_/0415.png        \n",
            "  inflating: train/_/0536.png        \n",
            "  inflating: train/_/0620.png        \n",
            "  inflating: train/_/0331.png        \n",
            "  inflating: train/_/0277.png        \n",
            "  inflating: train/_/0611.png        \n",
            "  inflating: train/_/0262.png        \n",
            "  inflating: train/_/0305.png        \n",
            "  inflating: train/_/0521.png        \n",
            "  inflating: train/_/0221.png        \n",
            "  inflating: train/_/0699.png        \n",
            "  inflating: train/_/0743.png        \n",
            "  inflating: train/_/0742.png        \n",
            "  inflating: train/_/0111.png        \n",
            "  inflating: train/_/0480.png        \n",
            "  inflating: train/_/0720.png        \n",
            "  inflating: train/_/0402.png        \n",
            "  inflating: train/_/0561.png        \n",
            "  inflating: train/_/0729.png        \n",
            "  inflating: train/_/0296.png        \n",
            "  inflating: train/_/0379.png        \n",
            "  inflating: train/_/0014.png        \n",
            "  inflating: train/_/0714.png        \n",
            "  inflating: train/_/0754.png        \n",
            "  inflating: train/_/0634.png        \n",
            "  inflating: train/_/0725.png        \n",
            "  inflating: train/_/0309.png        \n",
            "  inflating: train/_/0197.png        \n",
            "  inflating: train/_/0039.png        \n",
            "  inflating: train/_/0696.png        \n",
            "  inflating: train/_/0758.png        \n",
            "  inflating: train/_/0599.png        \n",
            "  inflating: train/_/0228.png        \n",
            "  inflating: train/_/0712.png        \n",
            "  inflating: train/_/0539.png        \n",
            "  inflating: train/_/0781.png        \n",
            "  inflating: train/_/0009.png        \n",
            "  inflating: train/_/0145.png        \n",
            "  inflating: train/_/0527.png        \n",
            "  inflating: train/_/0263.png        \n",
            "  inflating: train/_/0122.png        \n",
            "  inflating: train/_/0506.png        \n",
            "  inflating: train/_/0363.png        \n",
            "  inflating: train/_/0249.png        \n",
            "  inflating: train/_/0104.png        \n",
            "  inflating: train/_/0800.png        \n",
            "  inflating: train/_/0214.png        \n",
            "  inflating: train/_/0658.png        \n",
            "  inflating: train/_/0399.png        \n",
            "  inflating: train/_/0572.png        \n",
            "  inflating: train/_/0204.png        \n",
            "  inflating: train/_/0651.png        \n",
            "  inflating: train/_/0061.png        \n",
            "  inflating: train/_/0026.png        \n",
            "  inflating: train/_/0300.png        \n",
            "  inflating: train/_/0162.png        \n",
            "  inflating: train/_/0478.png        \n",
            "  inflating: train/_/0022.png        \n",
            "  inflating: train/_/0079.png        \n",
            "  inflating: train/_/0285.png        \n",
            "  inflating: train/_/0511.png        \n",
            "  inflating: train/_/0025.png        \n",
            "  inflating: train/_/0428.png        \n",
            "  inflating: train/_/0436.png        \n",
            "  inflating: train/_/0324.png        \n",
            "  inflating: train/_/0447.png        \n",
            "  inflating: train/_/0457.png        \n",
            "  inflating: train/_/0424.png        \n",
            "  inflating: train/_/0675.png        \n",
            "  inflating: train/_/0469.png        \n",
            "  inflating: train/_/0090.png        \n",
            "  inflating: train/_/0179.png        \n",
            "  inflating: train/_/0771.png        \n",
            "  inflating: train/_/0431.png        \n",
            "  inflating: train/_/0726.png        \n",
            "  inflating: train/_/0609.png        \n",
            "  inflating: train/_/0184.png        \n",
            "  inflating: train/_/0747.png        \n",
            "  inflating: train/_/0154.png        \n",
            "  inflating: train/_/0391.png        \n",
            "  inflating: train/_/0573.png        \n",
            "  inflating: train/_/0071.png        \n",
            "  inflating: train/_/0798.png        \n",
            "  inflating: train/_/0693.png        \n",
            "  inflating: train/_/0280.png        \n",
            "  inflating: train/_/0414.png        \n",
            "  inflating: train/_/0119.png        \n",
            "  inflating: train/_/0757.png        \n",
            "  inflating: train/_/0762.png        \n",
            "  inflating: train/_/0734.png        \n",
            "  inflating: train/_/0001.png        \n",
            "  inflating: train/_/0265.png        \n",
            "  inflating: train/_/0643.png        \n",
            "  inflating: train/_/0567.png        \n",
            "  inflating: train/_/0130.png        \n",
            "  inflating: train/_/0580.png        \n",
            "  inflating: train/_/0463.png        \n",
            "  inflating: train/_/0218.png        \n",
            "  inflating: train/_/0769.png        \n",
            "  inflating: train/_/0507.png        \n",
            "  inflating: train/_/0013.png        \n",
            "  inflating: train/_/0233.png        \n",
            "  inflating: train/_/0087.png        \n",
            "  inflating: train/_/0093.png        \n",
            "  inflating: train/_/0709.png        \n",
            "  inflating: train/_/0027.png        \n",
            "  inflating: train/_/0570.png        \n",
            "  inflating: train/_/0342.png        \n",
            "  inflating: train/_/0011.png        \n",
            "  inflating: train/_/0287.png        \n",
            "  inflating: train/_/0524.png        \n",
            "  inflating: train/_/0791.png        \n",
            "  inflating: train/_/0701.png        \n",
            "  inflating: train/_/0783.png        \n",
            "  inflating: train/_/0349.png        \n",
            "  inflating: train/_/0766.png        \n",
            "  inflating: train/_/0232.png        \n",
            "  inflating: train/_/0314.png        \n",
            "  inflating: train/_/0303.png        \n",
            "  inflating: train/_/0697.png        \n",
            "  inflating: train/_/0514.png        \n",
            "  inflating: train/_/0377.png        \n",
            "  inflating: train/_/0085.png        \n",
            "  inflating: train/_/0113.png        \n",
            "  inflating: train/_/0540.png        \n",
            "  inflating: train/_/0383.png        \n",
            "  inflating: train/_/0243.png        \n",
            "  inflating: train/_/0086.png        \n",
            "  inflating: train/_/0091.png        \n",
            "  inflating: train/_/0151.png        \n",
            "  inflating: train/_/0502.png        \n",
            "  inflating: train/_/0294.png        \n",
            "  inflating: train/_/0281.png        \n",
            "  inflating: train/_/0656.png        \n",
            "  inflating: train/_/0500.png        \n",
            "  inflating: train/_/0237.png        \n",
            "  inflating: train/_/0387.png        \n",
            "  inflating: train/_/0178.png        \n",
            "  inflating: train/_/0518.png        \n",
            "  inflating: train/_/0239.png        \n",
            "  inflating: train/_/0131.png        \n",
            "  inflating: train/_/0655.png        \n",
            "  inflating: train/_/0417.png        \n",
            "  inflating: train/_/0776.png        \n",
            "  inflating: train/_/0560.png        \n",
            "  inflating: train/_/0737.png        \n",
            "  inflating: train/_/0048.png        \n",
            "  inflating: train/_/0128.png        \n",
            "  inflating: train/_/0052.png        \n",
            "  inflating: train/_/0137.png        \n",
            "  inflating: train/_/0686.png        \n",
            "  inflating: train/_/0053.png        \n",
            "  inflating: train/_/0665.png        \n",
            "  inflating: train/_/0691.png        \n",
            "  inflating: train/_/0167.png        \n",
            "  inflating: train/_/0313.png        \n",
            "  inflating: train/_/0531.png        \n",
            "  inflating: train/_/0569.png        \n",
            "  inflating: train/_/0553.png        \n",
            "  inflating: train/_/0047.png        \n",
            "  inflating: train/_/0096.png        \n",
            "  inflating: train/_/0756.png        \n",
            "  inflating: train/_/0440.png        \n",
            "  inflating: train/_/0199.png        \n",
            "  inflating: train/_/0283.png        \n",
            "  inflating: train/_/0247.png        \n",
            "  inflating: train/_/0024.png        \n",
            "  inflating: train/_/0193.png        \n",
            "  inflating: train/_/0084.png        \n",
            "  inflating: train/_/0102.png        \n",
            "  inflating: train/_/0551.png        \n",
            "  inflating: train/_/0575.png        \n",
            "  inflating: train/_/0477.png        \n",
            "  inflating: train/_/0098.png        \n",
            "  inflating: train/_/0554.png        \n",
            "  inflating: train/_/0189.png        \n",
            "  inflating: train/_/0717.png        \n",
            "  inflating: train/_/0732.png        \n",
            "  inflating: train/_/0702.png        \n",
            "  inflating: train/_/0183.png        \n",
            "  inflating: train/_/0448.png        \n",
            "  inflating: train/_/0455.png        \n",
            "  inflating: train/_/0367.png        \n",
            "  inflating: train/_/0251.png        \n",
            "  inflating: train/_/0744.png        \n",
            "  inflating: train/_/0785.png        \n",
            "  inflating: train/_/0067.png        \n",
            "  inflating: train/_/0163.png        \n",
            "  inflating: train/_/0751.png        \n",
            "  inflating: train/_/0299.png        \n",
            "  inflating: train/_/0129.png        \n",
            "  inflating: train/_/0291.png        \n",
            "  inflating: train/_/0607.png        \n",
            "  inflating: train/_/0242.png        \n",
            "  inflating: train/_/0107.png        \n",
            "  inflating: train/_/0175.png        \n",
            "  inflating: train/_/0753.png        \n",
            "  inflating: train/_/0278.png        \n",
            "  inflating: train/_/0369.png        \n",
            "  inflating: train/_/0571.png        \n",
            "  inflating: train/_/0202.png        \n",
            "  inflating: train/_/0030.png        \n",
            "  inflating: train/_/0799.png        \n",
            "  inflating: train/_/0474.png        \n",
            "  inflating: train/_/0491.png        \n",
            "  inflating: train/_/0638.png        \n",
            "  inflating: train/_/0600.png        \n",
            "  inflating: train/_/0596.png        \n",
            "  inflating: train/_/0059.png        \n",
            "  inflating: train/_/0186.png        \n",
            "  inflating: train/_/0509.png        \n",
            "  inflating: train/_/0529.png        \n",
            "  inflating: train/_/0787.png        \n",
            "  inflating: train/_/0382.png        \n",
            "  inflating: train/_/0777.png        \n",
            "  inflating: train/_/0109.png        \n",
            "  inflating: train/_/0227.png        \n",
            "  inflating: train/_/0388.png        \n",
            "  inflating: train/_/0618.png        \n",
            "  inflating: train/_/0681.png        \n",
            "  inflating: train/_/0205.png        \n",
            "  inflating: train/_/0472.png        \n",
            "  inflating: train/_/0306.png        \n",
            "  inflating: train/_/0361.png        \n",
            "  inflating: train/_/0738.png        \n",
            "  inflating: train/_/0230.png        \n",
            "  inflating: train/_/0081.png        \n",
            "  inflating: train/_/0095.png        \n",
            "  inflating: train/_/0449.png        \n",
            "  inflating: train/_/0626.png        \n",
            "  inflating: train/_/0065.png        \n",
            "  inflating: train/_/0443.png        \n",
            "  inflating: train/_/0275.png        \n",
            "  inflating: train/_/0542.png        \n",
            "  inflating: train/_/0484.png        \n",
            "  inflating: train/_/0359.png        \n",
            "  inflating: train/_/0773.png        \n",
            "  inflating: train/_/0434.png        \n",
            "  inflating: train/_/0544.png        \n",
            "  inflating: train/_/0416.png        \n",
            "  inflating: train/_/0295.png        \n",
            "  inflating: train/_/0538.png        \n",
            "  inflating: train/_/0259.png        \n",
            "  inflating: train/_/0348.png        \n",
            "  inflating: train/_/0588.png        \n",
            "  inflating: train/_/0710.png        \n",
            "  inflating: train/_/0786.png        \n",
            "  inflating: train/_/0185.png        \n",
            "  inflating: train/_/0057.png        \n",
            "  inflating: train/_/0487.png        \n",
            "  inflating: train/_/0683.png        \n",
            "/content\n"
          ]
        }
      ],
      "source": [
        "#!/usr/bin/env bash\n",
        "\n",
        "# Div2K\n",
        "# -------------------------\n",
        "! mkdir div2k\n",
        "% cd div2k\n",
        "\n",
        "! wget http://data.vision.ee.ethz.ch/cvl/DIV2K/DIV2K_valid_HR.zip\n",
        "! mkdir val\n",
        "! unzip -j DIV2K_valid_HR.zip -d val/_\n",
        "! rm DIV2K_valid_HR.zip\n",
        "\n",
        "! wget http://data.vision.ee.ethz.ch/cvl/DIV2K/DIV2K_train_HR.zip\n",
        "! mkdir train\n",
        "! unzip -j DIV2K_train_HR.zip -d train/_\n",
        "! rm DIV2K_train_HR.zip\n",
        "\n",
        "% cd ..\n",
        "\n",
        "# MSCOCO\n",
        "# -------------------------\n",
        "#mkdir mscoco\n",
        "#cd mscoco\n",
        "\n",
        "#wget http://images.cocodataset.org/zips/test2017.zip\n",
        "#unzip test2017.zip\n",
        "#mkdir val\n",
        "#mv test2017 val/_\n",
        "#rm test2017.zip\n",
        "\n",
        "#wget http://images.cocodataset.org/zips/train2017.zip\n",
        "#unzip train2017.zip\n",
        "#mkdir train\n",
        "#mv train2017 train/_\n",
        "#rm train2017.zip\n",
        "\n",
        "#cd ..\n"
      ]
    },
    {
      "cell_type": "code",
      "execution_count": 3,
      "metadata": {
        "colab": {
          "base_uri": "https://localhost:8080/"
        },
        "id": "Zp9zApxK755n",
        "outputId": "a1829b8f-5d45-47fa-cc67-51a22bbd3d11"
      },
      "outputs": [
        {
          "output_type": "stream",
          "name": "stdout",
          "text": [
            "/content\n"
          ]
        }
      ],
      "source": [
        "!pwd"
      ]
    },
    {
      "cell_type": "code",
      "execution_count": 4,
      "metadata": {
        "colab": {
          "base_uri": "https://localhost:8080/"
        },
        "id": "G1S1_Sn4Fz8R",
        "outputId": "4fa4b33b-b89a-4e11-d267-f6b01ae93878"
      },
      "outputs": [
        {
          "output_type": "stream",
          "name": "stdout",
          "text": [
            "/bin/bash: 2.5.0: No such file or directory\n",
            "Collecting reedsolo==0.3\n",
            "  Downloading reedsolo-0.3.zip (8.5 kB)\n",
            "Building wheels for collected packages: reedsolo\n",
            "  Building wheel for reedsolo (setup.py) ... \u001b[?25l\u001b[?25hdone\n",
            "  Created wheel for reedsolo: filename=reedsolo-0.3-py3-none-any.whl size=5303 sha256=666d1ab71c32ae73f3bdf7dbff3e2f92174ee8e7d89cce9f5d590d5fbb8967c1\n",
            "  Stored in directory: /root/.cache/pip/wheels/cc/88/03/b2f5cef737e09f81acad272826d9b2a501e0c8c240ec572ec8\n",
            "Successfully built reedsolo\n",
            "Installing collected packages: reedsolo\n",
            "Successfully installed reedsolo-0.3\n",
            "/bin/bash: 1.2.0: No such file or directory\n",
            "/bin/bash: 1.16.0: No such file or directory\n",
            "/bin/bash: 7.0.0: No such file or directory\n",
            "Collecting torch==1.0.0\n",
            "  Downloading torch-1.0.0-cp37-cp37m-manylinux1_x86_64.whl (591.8 MB)\n",
            "\u001b[K     |████████████████████████████████| 591.8 MB 623 bytes/s \n",
            "\u001b[?25hInstalling collected packages: torch\n",
            "  Attempting uninstall: torch\n",
            "    Found existing installation: torch 1.10.0+cu111\n",
            "    Uninstalling torch-1.10.0+cu111:\n",
            "      Successfully uninstalled torch-1.10.0+cu111\n",
            "\u001b[31mERROR: pip's dependency resolver does not currently take into account all the packages that are installed. This behaviour is the source of the following dependency conflicts.\n",
            "torchvision 0.11.1+cu111 requires torch==1.10.0, but you have torch 1.0.0 which is incompatible.\n",
            "torchtext 0.11.0 requires torch==1.10.0, but you have torch 1.0.0 which is incompatible.\n",
            "torchaudio 0.10.0+cu111 requires torch==1.10.0, but you have torch 1.0.0 which is incompatible.\u001b[0m\n",
            "Successfully installed torch-1.0.0\n",
            "Collecting torchvision==0.2.1\n",
            "  Downloading torchvision-0.2.1-py2.py3-none-any.whl (54 kB)\n",
            "\u001b[K     |████████████████████████████████| 54 kB 2.0 MB/s \n",
            "\u001b[?25hRequirement already satisfied: numpy in /usr/local/lib/python3.7/dist-packages (from torchvision==0.2.1) (1.21.5)\n",
            "Requirement already satisfied: torch in /usr/local/lib/python3.7/dist-packages (from torchvision==0.2.1) (1.0.0)\n",
            "Requirement already satisfied: pillow>=4.1.1 in /usr/local/lib/python3.7/dist-packages (from torchvision==0.2.1) (7.1.2)\n",
            "Requirement already satisfied: six in /usr/local/lib/python3.7/dist-packages (from torchvision==0.2.1) (1.15.0)\n",
            "Installing collected packages: torchvision\n",
            "  Attempting uninstall: torchvision\n",
            "    Found existing installation: torchvision 0.11.1+cu111\n",
            "    Uninstalling torchvision-0.11.1+cu111:\n",
            "      Successfully uninstalled torchvision-0.11.1+cu111\n",
            "Successfully installed torchvision-0.2.1\n"
          ]
        }
      ],
      "source": [
        "!pip install imageio>=2.4.1,<2.5.0\n",
        "!pip install reedsolo==0.3\n",
        "!pip install scipy>=1.1.0,<1.2.0\n",
        "!pip install tqdm>=4.28.1\n",
        "!pip install numpy>=1.15.4<1.16.0\n",
        "!pip install Pillow>=5.0.0,<7.0.0\n",
        "!pip install torch==1.0.0\n",
        "!pip install torchvision==0.2.1"
      ]
    },
    {
      "cell_type": "code",
      "execution_count": 5,
      "metadata": {
        "id": "G8OulSvhUYGs"
      },
      "outputs": [],
      "source": [
        "# -*- coding: utf-8 -*-\n",
        "\n",
        "import zlib\n",
        "from math import exp\n",
        "\n",
        "import torch\n",
        "from reedsolo import RSCodec\n",
        "from torch.nn.functional import conv2d\n",
        "\n",
        "rs = RSCodec(250)\n",
        "\n",
        "\n",
        "def text_to_bits(text):\n",
        "    \"\"\"Convert text to a list of ints in {0, 1}\"\"\"\n",
        "    return bytearray_to_bits(text_to_bytearray(text))\n",
        "\n",
        "def bits_to_text(bits):\n",
        "    \"\"\"Convert a list of ints in {0, 1} to text\"\"\"\n",
        "    return bytearray_to_text(bits_to_bytearray(bits))\n",
        "\n",
        "\n",
        "def bytearray_to_bits(x):\n",
        "    \"\"\"Convert bytearray to a list of bits\"\"\"\n",
        "    result = []\n",
        "    for i in x:\n",
        "        bits = bin(i)[2:]\n",
        "        bits = '00000000'[len(bits):] + bits\n",
        "        result.extend([int(b) for b in bits])\n",
        "\n",
        "    return result\n",
        "\n",
        "\n",
        "def bits_to_bytearray(bits):\n",
        "    \"\"\"Convert a list of bits to a bytearray\"\"\"\n",
        "    ints = []\n",
        "    for b in range(len(bits) // 8):\n",
        "        byte = bits[b * 8:(b + 1) * 8]\n",
        "        ints.append(int(''.join([str(bit) for bit in byte]), 2))\n",
        "\n",
        "    return bytearray(ints)\n",
        "\n",
        "\n",
        "def text_to_bytearray(text):\n",
        "    \"\"\"Compress and add error correction\"\"\"\n",
        "    assert isinstance(text, str), \"expected a string\"\n",
        "    x = zlib.compress(text.encode(\"utf-8\"))\n",
        "    x = rs.encode(bytearray(x))\n",
        "\n",
        "    return x\n",
        "\n",
        "\n",
        "def bytearray_to_text(x):\n",
        "    \"\"\"Apply error correction and decompress\"\"\"\n",
        "    try:\n",
        "        text = rs.decode(x)\n",
        "        text = zlib.decompress(text)\n",
        "        return text.decode(\"utf-8\")\n",
        "    except BaseException:\n",
        "        return False\n",
        "\n",
        "\n",
        "def first_element(storage, loc):\n",
        "    \"\"\"Returns the first element of two\"\"\"\n",
        "    return storage\n",
        "\n",
        "\n",
        "def gaussian(window_size, sigma):\n",
        "    \"\"\"Gaussian window.\n",
        "\n",
        "    https://en.wikipedia.org/wiki/Window_function#Gaussian_window\n",
        "    \"\"\"\n",
        "    _exp = [exp(-(x - window_size // 2) ** 2 / float(2 * sigma ** 2)) for x in range(window_size)]\n",
        "    gauss = torch.Tensor(_exp)\n",
        "    return gauss / gauss.sum()\n",
        "\n",
        "\n",
        "def create_window(window_size, channel):\n",
        "    _1D_window = gaussian(window_size, 1.5).unsqueeze(1)\n",
        "    _2D_window = _1D_window.mm(_1D_window.t()).float().unsqueeze(0).unsqueeze(0)\n",
        "    window = _2D_window.expand(channel, 1, window_size, window_size).contiguous()\n",
        "    return window\n",
        "\n",
        "\n",
        "def _ssim(img1, img2, window, window_size, channel, size_average=True):\n",
        "\n",
        "    padding_size = window_size // 2\n",
        "\n",
        "    mu1 = conv2d(img1, window, padding=padding_size, groups=channel)\n",
        "    mu2 = conv2d(img2, window, padding=padding_size, groups=channel)\n",
        "\n",
        "    mu1_sq = mu1.pow(2)\n",
        "    mu2_sq = mu2.pow(2)\n",
        "    mu1_mu2 = mu1 * mu2\n",
        "\n",
        "    sigma1_sq = conv2d(img1 * img1, window, padding=padding_size, groups=channel) - mu1_sq\n",
        "    sigma2_sq = conv2d(img2 * img2, window, padding=padding_size, groups=channel) - mu2_sq\n",
        "    sigma12 = conv2d(img1 * img2, window, padding=padding_size, groups=channel) - mu1_mu2\n",
        "\n",
        "    C1 = 0.01**2\n",
        "    C2 = 0.03**2\n",
        "\n",
        "    _ssim_quotient = ((2 * mu1_mu2 + C1) * (2 * sigma12 + C2))\n",
        "    _ssim_divident = ((mu1_sq + mu2_sq + C1) * (sigma1_sq + sigma2_sq + C2))\n",
        "\n",
        "    ssim_map = _ssim_quotient / _ssim_divident\n",
        "\n",
        "    if size_average:\n",
        "        return ssim_map.mean()\n",
        "    else:\n",
        "        return ssim_map.mean(1).mean(1).mean(1)\n",
        "\n",
        "\n",
        "def ssim(img1, img2, window_size=11, size_average=True):\n",
        "    (_, channel, _, _) = img1.size()\n",
        "    window = create_window(window_size, channel)\n",
        "\n",
        "    if img1.is_cuda:\n",
        "        window = window.cuda(img1.get_device())\n",
        "    window = window.type_as(img1)\n",
        "\n",
        "    return _ssim(img1, img2, window, window_size, channel, size_average)"
      ]
    },
    {
      "cell_type": "code",
      "execution_count": 6,
      "metadata": {
        "id": "cqG3FAQ4759-"
      },
      "outputs": [],
      "source": [
        "# -*- coding: utf-8 -*-\n",
        "import gc\n",
        "import inspect\n",
        "import json\n",
        "import os\n",
        "from collections import Counter\n",
        "\n",
        "import imageio\n",
        "import torch\n",
        "from imageio import imread, imwrite\n",
        "from torch.nn.functional import binary_cross_entropy_with_logits, mse_loss\n",
        "from torch.optim import Adam\n",
        "from tqdm import tqdm\n",
        "\n",
        "#DEFAULT_PATH = os.path.join(\n",
        "#    os.path.dirname(os.path.abspath(__file__)),\n",
        "#    'train')\n",
        "\n",
        "METRIC_FIELDS = [\n",
        "    'val.encoder_mse',\n",
        "    'val.decoder_loss',\n",
        "    'val.decoder_acc',\n",
        "    'val.cover_score',\n",
        "    'val.generated_score',\n",
        "    'val.ssim',\n",
        "    'val.psnr',\n",
        "    'val.bpp',\n",
        "    'train.encoder_mse',\n",
        "    'train.decoder_loss',\n",
        "    'train.decoder_acc',\n",
        "    'train.cover_score',\n",
        "    'train.generated_score',\n",
        "]\n",
        "\n",
        "\n",
        "class Steganography(object):\n",
        "\n",
        "    def _get_instance(self, class_or_instance, kwargs):\n",
        "        \"\"\"Returns an instance of the class\"\"\"\n",
        "\n",
        "        if not inspect.isclass(class_or_instance):\n",
        "            return class_or_instance\n",
        "\n",
        "        argspec = inspect.getfullargspec(class_or_instance.__init__).args\n",
        "        argspec.remove('self')\n",
        "        init_args = {arg: kwargs[arg] for arg in argspec}\n",
        "\n",
        "        return class_or_instance(**init_args)\n",
        "\n",
        "    def set_device(self, cuda=True):\n",
        "        \"\"\"Sets the torch device depending on whether cuda is avaiable or not.\"\"\"\n",
        "        if cuda and torch.cuda.is_available():\n",
        "            self.cuda = True\n",
        "            self.device = torch.device('cuda')\n",
        "        else:\n",
        "            self.cuda = False\n",
        "            self.device = torch.device('cpu')\n",
        "\n",
        "        if self.verbose:\n",
        "            if not cuda:\n",
        "                print('Using CPU device')\n",
        "            elif not self.cuda:\n",
        "                print('CUDA is not available. Defaulting to CPU device')\n",
        "            else:\n",
        "                print('Using CUDA device')\n",
        "\n",
        "        self.encoder.to(self.device)\n",
        "        self.decoder.to(self.device)\n",
        "        self.critic.to(self.device)\n",
        "\n",
        "    def __init__(self, data_depth, encoder, decoder, critic,\n",
        "                 cuda=False, verbose=False, log_dir=None, **kwargs):\n",
        "\n",
        "        self.verbose = verbose\n",
        "\n",
        "        self.data_depth = data_depth\n",
        "        kwargs['data_depth'] = data_depth\n",
        "        self.encoder = self._get_instance(encoder, kwargs)\n",
        "        self.decoder = self._get_instance(decoder, kwargs)\n",
        "        self.critic = self._get_instance(critic, kwargs)\n",
        "        self.set_device(cuda)\n",
        "\n",
        "        self.critic_optimizer = None\n",
        "        self.decoder_optimizer = None\n",
        "\n",
        "        # Misc\n",
        "        self.fit_metrics = None\n",
        "        self.history = list()\n",
        "\n",
        "        self.log_dir = log_dir\n",
        "        if log_dir:\n",
        "            os.makedirs(self.log_dir, exist_ok=True)\n",
        "            self.samples_path = os.path.join(self.log_dir, 'samples')\n",
        "            os.makedirs(self.samples_path, exist_ok=True)\n",
        "\n",
        "    def _random_data(self, cover):\n",
        "        \"\"\"Generate random data ready to be hidden inside the cover image.\n",
        "\n",
        "        Args:\n",
        "            cover (image): Image to use as cover.\n",
        "\n",
        "        Returns:\n",
        "            generated (image): Image generated with the encoded message.\n",
        "        \"\"\"\n",
        "        N, _, H, W = cover.size()\n",
        "        return torch.zeros((N, self.data_depth, H, W), device=self.device).random_(0, 2)\n",
        "\n",
        "    def _encode_decode(self, cover, quantize=False):\n",
        "        \"\"\"Encode random data and then decode it.\n",
        "\n",
        "        Args:\n",
        "            cover (image): Image to use as cover.\n",
        "            quantize (bool): whether to quantize the generated image or not.\n",
        "\n",
        "        Returns:\n",
        "            generated (image): Image generated with the encoded message.\n",
        "            payload (bytes): Random data that has been encoded in the image.\n",
        "            decoded (bytes): Data decoded from the generated image.\n",
        "        \"\"\"\n",
        "        payload = self._random_data(cover)\n",
        "        generated = self.encoder(cover, payload)\n",
        "        if quantize:\n",
        "            generated = (255.0 * (generated + 1.0) / 2.0).long()\n",
        "            generated = 2.0 * generated.float() / 255.0 - 1.0\n",
        "\n",
        "        decoded = self.decoder(generated)\n",
        "\n",
        "        return generated, payload, decoded\n",
        "\n",
        "    def _critic(self, image):\n",
        "        \"\"\"Evaluate the image using the critic\"\"\"\n",
        "        return torch.mean(self.critic(image))\n",
        "\n",
        "    def _get_optimizers(self):\n",
        "        _dec_list = list(self.decoder.parameters()) + list(self.encoder.parameters())\n",
        "        critic_optimizer = Adam(self.critic.parameters(), lr=1e-2)\n",
        "        decoder_optimizer = Adam(_dec_list, lr=1e-2)\n",
        "\n",
        "        return critic_optimizer, decoder_optimizer\n",
        "\n",
        "    def _fit_critic(self, train, metrics):\n",
        "        \"\"\"Critic process\"\"\"\n",
        "        for cover, _ in tqdm(train, disable=not self.verbose):\n",
        "            gc.collect()\n",
        "            cover = cover.to(self.device)\n",
        "            payload = self._random_data(cover)\n",
        "            generated = self.encoder(cover, payload)\n",
        "            cover_score = self._critic(cover)\n",
        "            generated_score = self._critic(generated)\n",
        "\n",
        "            self.critic_optimizer.zero_grad()\n",
        "            (cover_score - generated_score).backward(retain_graph=False)\n",
        "            self.critic_optimizer.step()\n",
        "\n",
        "            for p in self.critic.parameters():\n",
        "                p.data.clamp_(-0.1, 0.1)\n",
        "\n",
        "            metrics['train.cover_score'].append(cover_score.item())\n",
        "            metrics['train.generated_score'].append(generated_score.item())\n",
        "\n",
        "    def _fit_coders(self, train, metrics):\n",
        "        \"\"\"Fit the encoder and the decoder on the train images.\"\"\"\n",
        "        for cover, _ in tqdm(train, disable=not self.verbose):\n",
        "            gc.collect()\n",
        "            cover = cover.to(self.device)\n",
        "            generated, payload, decoded = self._encode_decode(cover)\n",
        "            encoder_mse, decoder_loss, decoder_acc = self._coding_scores(\n",
        "                cover, generated, payload, decoded)\n",
        "            generated_score = self._critic(generated)\n",
        "\n",
        "            self.decoder_optimizer.zero_grad()\n",
        "            (100.0 * encoder_mse + decoder_loss + generated_score).backward()\n",
        "            self.decoder_optimizer.step()\n",
        "\n",
        "    def _coding_scores(self, cover, generated, payload, decoded):\n",
        "        encoder_mse = mse_loss(generated, cover)\n",
        "        decoder_loss = binary_cross_entropy_with_logits(decoded, payload)\n",
        "        decoder_acc = (decoded >= 0.0).eq(payload >= 0.5).sum().float() / payload.numel()\n",
        "\n",
        "        return encoder_mse, decoder_loss, decoder_acc\n",
        "\n",
        "    def _validate(self, validate, metrics):\n",
        "        \"\"\"Validation process\"\"\"\n",
        "        for cover, _ in tqdm(validate, disable=not self.verbose):\n",
        "            gc.collect()\n",
        "            cover = cover.to(self.device)\n",
        "            generated, payload, decoded = self._encode_decode(cover, quantize=True)\n",
        "            encoder_mse, decoder_loss, decoder_acc = self._coding_scores(\n",
        "                cover, generated, payload, decoded)\n",
        "            generated_score = self._critic(generated)\n",
        "            cover_score = self._critic(cover)\n",
        "\n",
        "        metrics['val.decoder_loss'].append(decoder_loss.item())\n",
        "        print('Loss:',decoder_loss.item())\n",
        "        metrics['val.decoder_acc'].append(decoder_acc.item())\n",
        "        print('Accuracy:',decoder_acc.item())\n",
        "        metrics['val.ssim'].append(ssim(cover, generated).item())\n",
        "        print('SSIM:',ssim(cover, generated).item())\n",
        "        metrics['val.psnr'].append(10 * torch.log10(4 / encoder_mse).item())\n",
        "        print('PSNR:',10 * torch.log10(4 / encoder_mse).item())\n",
        "        metrics['val.bpp'].append(self.data_depth * (2 * decoder_acc.item() - 1))\n",
        "        print('bpp:',self.data_depth * (2 * decoder_acc.item() - 1))\n",
        "\n",
        "    def _generate_samples(self, samples_path, cover, epoch):\n",
        "        cover = cover.to(self.device)\n",
        "        generated, payload, decoded = self._encode_decode(cover)\n",
        "        samples = generated.size(0)\n",
        "        for sample in range(samples):\n",
        "            cover_path = os.path.join(samples_path, '{}.cover.png'.format(sample))\n",
        "            sample_name = '{}.generated-{:2d}.png'.format(sample, epoch)\n",
        "            sample_path = os.path.join(samples_path, sample_name)\n",
        "\n",
        "            image = (cover[sample].permute(1, 2, 0).detach().cpu().numpy() + 1.0) / 2.0\n",
        "            imageio.imwrite(cover_path, (255.0 * image).astype('uint8'))\n",
        "\n",
        "            sampled = generated[sample].clamp(-1.0, 1.0).permute(1, 2, 0)\n",
        "            sampled = sampled.detach().cpu().numpy() + 1.0\n",
        "\n",
        "            image = sampled / 2.0\n",
        "            imageio.imwrite(sample_path, (255.0 * image).astype('uint8'))\n",
        "\n",
        "    def fit(self, train, validate, epochs=5):\n",
        "        \"\"\"Train a new model with the given ImageLoader class.\"\"\"\n",
        "\n",
        "        if self.critic_optimizer is None:\n",
        "            self.critic_optimizer, self.decoder_optimizer = self._get_optimizers()\n",
        "            self.epochs = 0\n",
        "\n",
        "        if self.log_dir:\n",
        "            sample_cover = next(iter(validate))[0]\n",
        "\n",
        "        # Start training\n",
        "        total = self.epochs + epochs\n",
        "        for epoch in range(1, epochs + 1):\n",
        "            # Count how many epochs we have trained for this steganography\n",
        "            self.epochs += 1\n",
        "\n",
        "            metrics = {field: list() for field in METRIC_FIELDS}\n",
        "\n",
        "            if self.verbose:\n",
        "                print('Epoch {}/{}'.format(self.epochs, total))\n",
        "\n",
        "            self._fit_critic(train, metrics)\n",
        "            self._fit_coders(train, metrics)\n",
        "            self._validate(validate, metrics)\n",
        "\n",
        "            self.fit_metrics = {k: sum(v) / len(v) for k, v in metrics.items() if len(v)}\n",
        "            self.fit_metrics['epoch'] = epoch\n",
        "\n",
        "            if self.log_dir:\n",
        "                self.history.append(self.fit_metrics)\n",
        "\n",
        "                metrics_path = os.path.join(self.log_dir, 'metrics.log')\n",
        "                with open(metrics_path, 'w') as metrics_file:\n",
        "                    json.dump(self.history, metrics_file, indent=4)\n",
        "\n",
        "                save_name = '{}.bpp-{:03f}.p'.format(\n",
        "                    self.epochs, self.fit_metrics['val.bpp'])\n",
        "\n",
        "                self.save(os.path.join(self.log_dir, save_name))\n",
        "                self._generate_samples(self.samples_path, sample_cover, epoch)\n",
        "\n",
        "            # Empty cuda cache (this may help for memory leaks)\n",
        "            if self.cuda:\n",
        "                torch.cuda.empty_cache()\n",
        "\n",
        "            gc.collect()\n",
        "\n",
        "    def _make_payload(self, width, height, depth, text):\n",
        "        \"\"\"\n",
        "        This takes a piece of text and encodes it into a bit vector. It then\n",
        "        fills a matrix of size (width, height) with copies of the bit vector.\n",
        "        \"\"\"\n",
        "        message = text_to_bits(text) + [0] * 32\n",
        "\n",
        "        payload = message\n",
        "        while len(payload) < width * height * depth:\n",
        "            payload += message\n",
        "\n",
        "        payload = payload[:width * height * depth]\n",
        "\n",
        "        return torch.FloatTensor(payload).view(1, depth, height, width)\n",
        "\n",
        "    def encode(self, cover, output, text):\n",
        "        \"\"\"Encode an image.\n",
        "        Args:\n",
        "            cover (str): Path to the image to be used as cover.\n",
        "            output (str): Path where the generated image will be saved.\n",
        "            text (str): Message to hide inside the image.\n",
        "        \"\"\"\n",
        "        cover = imread(cover, pilmode='RGB') / 127.5 - 1.0\n",
        "        cover = torch.FloatTensor(cover).permute(2, 1, 0).unsqueeze(0)\n",
        "\n",
        "        cover_size = cover.size()\n",
        "        # _, _, height, width = cover.size()\n",
        "        payload = self._make_payload(cover_size[3], cover_size[2], self.data_depth, text)\n",
        "\n",
        "        cover = cover.to(self.device)\n",
        "        payload = payload.to(self.device)\n",
        "        generated = self.encoder(cover, payload)[0].clamp(-1.0, 1.0)\n",
        "\n",
        "        generated = (generated.permute(2, 1, 0).detach().cpu().numpy() + 1.0) * 127.5\n",
        "        imwrite(output, generated.astype('uint8'))\n",
        "\n",
        "        if self.verbose:\n",
        "            print('Encoding completed.')\n",
        "\n",
        "    def decode(self, image):\n",
        "\n",
        "        if not os.path.exists(image):\n",
        "            raise ValueError('Unable to read %s.' % image)\n",
        "\n",
        "        # extract a bit vector\n",
        "        image = imread(image, pilmode='RGB') / 255.0\n",
        "        image = torch.FloatTensor(image).permute(2, 1, 0).unsqueeze(0)\n",
        "        image = image.to(self.device)\n",
        "\n",
        "        image = self.decoder(image).view(-1) > 0\n",
        "\n",
        "        # split and decode messages\n",
        "        candidates = Counter()\n",
        "        bits = image.data.cpu().numpy().tolist()\n",
        "        for candidate in bits_to_bytearray(bits).split(b'\\x00\\x00\\x00\\x00'):\n",
        "            candidate = bytearray_to_text(bytearray(candidate))\n",
        "            if candidate:\n",
        "                candidates[candidate] += 1\n",
        "\n",
        "        # choose most common message\n",
        "        if len(candidates) == 0:\n",
        "            raise ValueError('Failed to find message.')\n",
        "\n",
        "        candidate, count = candidates.most_common(1)[0]\n",
        "        return candidate\n",
        "\n",
        "    def save(self, path):\n",
        "        \"\"\"Save the fitted model in the given path. Raises an exception if there is no model.\"\"\"\n",
        "        torch.save(self, path)\n",
        "\n",
        "    @classmethod\n",
        "    def load(cls, architecture=None, path=None, cuda=True, verbose=False):\n",
        "        \"\"\"Loads an instance of Steganography for the given architecture (default pretrained models)\n",
        "        or loads a pretrained model from a given path.\n",
        "\n",
        "        Args:\n",
        "            architecture(str): Name of a pretrained model to be loaded from the default models.\n",
        "            path(str): Path to custom pretrained model. *Architecture must be None.\n",
        "            cuda(bool): Force loaded model to use cuda (if available).\n",
        "            verbose(bool): Force loaded model to use or not verbose.\n",
        "        \"\"\"\n",
        "\n",
        "        if architecture and not path:\n",
        "            model_name = '{}.steg'.format(architecture)\n",
        "            pretrained_path = os.path.join(os.path.dirname(__file__), 'pretrained')\n",
        "            path = os.path.join(pretrained_path, model_name)\n",
        "\n",
        "        elif (architecture is None and path is None) or (architecture and path):\n",
        "            raise ValueError(\n",
        "                'Please provide either an architecture or a path to pretrained model.')\n",
        "\n",
        "        steganography = torch.load(path, map_location='cpu')\n",
        "        steganography.verbose = verbose\n",
        "\n",
        "        steganography.encoder.upgrade_legacy()\n",
        "        steganography.decoder.upgrade_legacy()\n",
        "        steganography.critic.upgrade_legacy()\n",
        "\n",
        "        steganography.set_device(cuda)\n",
        "        return steganography\n"
      ]
    },
    {
      "cell_type": "code",
      "execution_count": 7,
      "metadata": {
        "id": "8esUm8F8O5TJ"
      },
      "outputs": [],
      "source": [
        "# -*- coding: utf-8 -*-\n",
        "\n",
        "import torch\n",
        "from torch import nn\n",
        "\n",
        "\n",
        "class Critic(nn.Module):\n",
        "    \"\"\"\n",
        "    The Critic module takes an image and predicts whether it is a cover\n",
        "    image or a steganographic image (N, 1).\n",
        "\n",
        "    Input: (N, 3, H, W)\n",
        "    Output: (N, 1)\n",
        "    \"\"\"\n",
        "\n",
        "    def _conv2d(self, in_channels, out_channels):\n",
        "        return nn.Conv2d(\n",
        "            in_channels=in_channels,\n",
        "            out_channels=out_channels,\n",
        "            kernel_size=3\n",
        "        )\n",
        "\n",
        "    def _build_models(self):\n",
        "        return nn.Sequential(\n",
        "            self._conv2d(3, self.hidden_size),\n",
        "            nn.LeakyReLU(inplace=True),\n",
        "            nn.BatchNorm2d(self.hidden_size),\n",
        "\n",
        "            self._conv2d(self.hidden_size, self.hidden_size),\n",
        "            nn.LeakyReLU(inplace=True),\n",
        "            nn.BatchNorm2d(self.hidden_size),\n",
        "\n",
        "            self._conv2d(self.hidden_size, self.hidden_size),\n",
        "            nn.LeakyReLU(inplace=True),\n",
        "            nn.BatchNorm2d(self.hidden_size),\n",
        "\n",
        "            self._conv2d(self.hidden_size, 1)\n",
        "        )\n",
        "\n",
        "    def __init__(self, hidden_size):\n",
        "        super().__init__()\n",
        "        self.version = '1'\n",
        "        self.hidden_size = hidden_size\n",
        "        self._models = self._build_models()\n",
        "\n",
        "    def upgrade_legacy(self):\n",
        "        \"\"\"Transform legacy pretrained models to make them usable with new code versions.\"\"\"\n",
        "        # Transform to version 1\n",
        "        if not hasattr(self, 'version'):\n",
        "            self._models = self.layers\n",
        "            self.version = '1'\n",
        "\n",
        "    def forward(self, x):\n",
        "        x = self._models(x)\n",
        "        x = torch.mean(x.view(x.size(0), -1), dim=1)\n",
        "\n",
        "        return x"
      ]
    },
    {
      "cell_type": "code",
      "execution_count": 8,
      "metadata": {
        "id": "8WkajFrKPYmV"
      },
      "outputs": [],
      "source": [
        "# -*- coding: utf-8 -*-\n",
        "\n",
        "import torch\n",
        "from torch import nn\n",
        "\n",
        "class Encoder(nn.Module):\n",
        "    \"\"\"\n",
        "    The Encoder module takes an cover image and a data tensor and combines\n",
        "    them into a steganographic image.\n",
        "\n",
        "    Input: (N, 3, H, W), (N, D, H, W)\n",
        "    Output: (N, 3, H, W)\n",
        "    \"\"\"\n",
        "\n",
        "    add_image = False\n",
        "\n",
        "    def _conv2d(self, in_channels, out_channels):\n",
        "        return nn.Conv2d(\n",
        "            in_channels=in_channels,\n",
        "            out_channels=out_channels,\n",
        "            kernel_size=3,\n",
        "            padding=1\n",
        "        )\n",
        "\n",
        "    def _build_models(self):\n",
        "        self.features = nn.Sequential(\n",
        "            self._conv2d(3, self.hidden_size),\n",
        "            nn.LeakyReLU(inplace=True),\n",
        "            nn.BatchNorm2d(self.hidden_size),\n",
        "        )\n",
        "        self.layers = nn.Sequential(\n",
        "            self._conv2d(self.hidden_size + self.data_depth, self.hidden_size),\n",
        "            nn.LeakyReLU(inplace=True),\n",
        "            nn.BatchNorm2d(self.hidden_size),\n",
        "            self._conv2d(self.hidden_size, self.hidden_size),\n",
        "            nn.LeakyReLU(inplace=True),\n",
        "            nn.BatchNorm2d(self.hidden_size),\n",
        "            self._conv2d(self.hidden_size, 3),\n",
        "            nn.Tanh(),\n",
        "        )\n",
        "        return self.features, self.layers\n",
        "\n",
        "    def __init__(self, data_depth, hidden_size):\n",
        "        super().__init__()\n",
        "        self.version = '1'\n",
        "        self.data_depth = data_depth\n",
        "        self.hidden_size = hidden_size\n",
        "        self._models = self._build_models()\n",
        "\n",
        "    def upgrade_legacy(self):\n",
        "        \"\"\"Transform legacy pretrained models to make them usable with new code versions.\"\"\"\n",
        "        # Transform to version 1\n",
        "        if not hasattr(self, 'version'):\n",
        "            self.version = '1'\n",
        "\n",
        "    def forward(self, image, data):\n",
        "        x = self._models[0](image)\n",
        "        x_list = [x]\n",
        "\n",
        "        for layer in self._models[1:]:\n",
        "            x = layer(torch.cat(x_list + [data], dim=1))\n",
        "            x_list.append(x)\n",
        "\n",
        "        if self.add_image:\n",
        "            x = image + x\n",
        "\n",
        "        return x\n",
        "        "
      ]
    },
    {
      "cell_type": "code",
      "execution_count": 9,
      "metadata": {
        "id": "xgwPnuoDgWSi"
      },
      "outputs": [],
      "source": [
        "# -*- coding: utf-8 -*-\n",
        "\n",
        "import torch\n",
        "from torch import nn\n",
        "\n",
        "class Decoder(nn.Module):\n",
        "    \"\"\"\n",
        "    The Decoder module takes an steganographic image and attempts to decode\n",
        "    the embedded data tensor.\n",
        "\n",
        "    Input: (N, 3, H, W)\n",
        "    Output: (N, D, H, W)\n",
        "    \"\"\"\n",
        "\n",
        "    def _conv2d(self, in_channels, out_channels):\n",
        "        return nn.Conv2d(\n",
        "            in_channels=in_channels,\n",
        "            out_channels=out_channels,\n",
        "            kernel_size=3,\n",
        "            padding=1\n",
        "        )\n",
        "\n",
        "    def _build_models(self):\n",
        "        self.layers = nn.Sequential(\n",
        "            self._conv2d(3, self.hidden_size),\n",
        "            nn.LeakyReLU(inplace=True),\n",
        "            nn.BatchNorm2d(self.hidden_size),\n",
        "\n",
        "            self._conv2d(self.hidden_size, self.hidden_size),\n",
        "            nn.LeakyReLU(inplace=True),\n",
        "            nn.BatchNorm2d(self.hidden_size),\n",
        "\n",
        "            self._conv2d(self.hidden_size, self.hidden_size),\n",
        "            nn.LeakyReLU(inplace=True),\n",
        "            nn.BatchNorm2d(self.hidden_size),\n",
        "\n",
        "            self._conv2d(self.hidden_size, self.data_depth)\n",
        "        )\n",
        "\n",
        "        return [self.layers]\n",
        "\n",
        "    def __init__(self, data_depth, hidden_size):\n",
        "        super().__init__()\n",
        "        self.version = '1'\n",
        "        self.data_depth = data_depth\n",
        "        self.hidden_size = hidden_size\n",
        "\n",
        "        self._models = self._build_models()\n",
        "\n",
        "    def upgrade_legacy(self):\n",
        "        \"\"\"Transform legacy pretrained models to make them usable with new code versions.\"\"\"\n",
        "        # Transform to version 1\n",
        "        if not hasattr(self, 'version'):\n",
        "            self._models = [self.layers]\n",
        "\n",
        "            self.version = '1'\n",
        "\n",
        "    def forward(self, x):\n",
        "        x = self._models[0](x)\n",
        "\n",
        "        if len(self._models) > 1:\n",
        "            x_list = [x]\n",
        "            for layer in self._models[1:]:\n",
        "                x = layer(torch.cat(x_list, dim=1))\n",
        "                x_list.append(x)\n",
        "\n",
        "        return x\n"
      ]
    },
    {
      "cell_type": "code",
      "execution_count": 10,
      "metadata": {
        "id": "IyODGFCHPp15"
      },
      "outputs": [],
      "source": [
        "# -*- coding: utf-8 -*-\n",
        "\n",
        "import numpy as np\n",
        "import torch\n",
        "import torchvision\n",
        "from torchvision import transforms\n",
        "\n",
        "_DEFAULT_MU = [.5, .5, .5]\n",
        "_DEFAULT_SIGMA = [.5, .5, .5]\n",
        "\n",
        "DEFAULT_TRANSFORM = transforms.Compose([\n",
        "    transforms.RandomHorizontalFlip(),\n",
        "    transforms.RandomCrop(360, pad_if_needed=True),\n",
        "    transforms.ToTensor(),\n",
        "    transforms.Normalize(_DEFAULT_MU, _DEFAULT_SIGMA),\n",
        "])\n",
        "\n",
        "\n",
        "class ImageFolder(torchvision.datasets.ImageFolder):\n",
        "    def __init__(self, path, transform, limit=np.inf):\n",
        "        super().__init__(path, transform=transform)\n",
        "        self.limit = limit\n",
        "\n",
        "    def __len__(self):\n",
        "        length = super().__len__()\n",
        "        return min(length, self.limit)\n",
        "\n",
        "\n",
        "class DataLoader(torch.utils.data.DataLoader):\n",
        "\n",
        "    def __init__(self, path, transform=None, limit=np.inf, shuffle=True,\n",
        "                 num_workers=8, batch_size=4, *args, **kwargs):\n",
        "\n",
        "        if transform is None:\n",
        "            transform = DEFAULT_TRANSFORM\n",
        "\n",
        "        super().__init__(\n",
        "            ImageFolder(path, transform, limit),\n",
        "            batch_size=batch_size,\n",
        "            shuffle=shuffle,\n",
        "            num_workers=num_workers,\n",
        "            *args,\n",
        "            **kwargs\n",
        "        )"
      ]
    },
    {
      "cell_type": "code",
      "execution_count": 11,
      "metadata": {
        "id": "ziFJkjaCPyha"
      },
      "outputs": [],
      "source": [
        "# Load the data\n",
        "train = DataLoader('div2k/train/')\n",
        "validation = DataLoader('div2k/val/')"
      ]
    },
    {
      "cell_type": "code",
      "execution_count": 12,
      "metadata": {
        "colab": {
          "base_uri": "https://localhost:8080/"
        },
        "id": "VWpCGguI77ob",
        "outputId": "4a50eea4-d23c-4bb5-aaca-27069bc9b9f2"
      },
      "outputs": [
        {
          "output_type": "stream",
          "name": "stdout",
          "text": [
            "Using CUDA device\n"
          ]
        }
      ],
      "source": [
        "\n",
        "# Create the Steganography instance\n",
        "steganography = Steganography(6, Encoder, Decoder, Critic, hidden_size=32, cuda=True, verbose=True)"
      ]
    },
    {
      "cell_type": "code",
      "execution_count": 13,
      "metadata": {
        "colab": {
          "base_uri": "https://localhost:8080/"
        },
        "id": "CI4YKMc977qy",
        "outputId": "9bcc3f57-e6af-427f-b9ac-dd8b9f9c8d6e"
      },
      "outputs": [
        {
          "metadata": {
            "tags": null
          },
          "name": "stdout",
          "output_type": "stream",
          "text": [
            "Epoch 1/100\n"
          ]
        },
        {
          "metadata": {
            "tags": null
          },
          "name": "stderr",
          "output_type": "stream",
          "text": [
            "100%|██████████| 200/200 [00:40<00:00,  4.95it/s]\n",
            "100%|██████████| 200/200 [00:35<00:00,  5.67it/s]\n",
            "100%|██████████| 25/25 [00:04<00:00,  5.03it/s]\n"
          ]
        },
        {
          "metadata": {
            "tags": null
          },
          "name": "stdout",
          "output_type": "stream",
          "text": [
            "Loss: 0.6931901574134827\n",
            "Accuracy: 0.49983474612236023\n",
            "SSIM: 0.3063228726387024\n",
            "PSNR: 10.068068504333496\n",
            "bpp: -0.001983046531677246\n",
            "Epoch 2/100\n"
          ]
        },
        {
          "metadata": {
            "tags": null
          },
          "name": "stderr",
          "output_type": "stream",
          "text": [
            "100%|██████████| 200/200 [00:37<00:00,  5.33it/s]\n",
            "100%|██████████| 200/200 [00:35<00:00,  5.65it/s]\n",
            "100%|██████████| 25/25 [00:04<00:00,  5.24it/s]\n"
          ]
        },
        {
          "metadata": {
            "tags": null
          },
          "name": "stdout",
          "output_type": "stream",
          "text": [
            "Loss: 0.6931769251823425\n",
            "Accuracy: 0.500211238861084\n",
            "SSIM: 0.3177574574947357\n",
            "PSNR: 10.334334373474121\n",
            "bpp: 0.0025348663330078125\n",
            "Epoch 3/100\n"
          ]
        },
        {
          "metadata": {
            "tags": null
          },
          "name": "stderr",
          "output_type": "stream",
          "text": [
            "100%|██████████| 200/200 [00:37<00:00,  5.37it/s]\n",
            "100%|██████████| 200/200 [00:35<00:00,  5.69it/s]\n",
            "100%|██████████| 25/25 [00:04<00:00,  5.34it/s]\n"
          ]
        },
        {
          "metadata": {
            "tags": null
          },
          "name": "stdout",
          "output_type": "stream",
          "text": [
            "Loss: 0.6931595802307129\n",
            "Accuracy: 0.4999980628490448\n",
            "SSIM: 0.2771541178226471\n",
            "PSNR: 10.233865976333618\n",
            "bpp: -2.3245811462402344e-05\n",
            "Epoch 4/100\n"
          ]
        },
        {
          "metadata": {
            "tags": null
          },
          "name": "stderr",
          "output_type": "stream",
          "text": [
            "100%|██████████| 200/200 [00:37<00:00,  5.37it/s]\n",
            "100%|██████████| 200/200 [00:35<00:00,  5.66it/s]\n",
            "100%|██████████| 25/25 [00:04<00:00,  5.27it/s]\n"
          ]
        },
        {
          "metadata": {
            "tags": null
          },
          "name": "stdout",
          "output_type": "stream",
          "text": [
            "Loss: 0.6931695342063904\n",
            "Accuracy: 0.49998199939727783\n",
            "SSIM: 0.3833550214767456\n",
            "PSNR: 10.226526260375977\n",
            "bpp: -0.00021600723266601562\n",
            "Epoch 5/100\n"
          ]
        },
        {
          "metadata": {
            "tags": null
          },
          "name": "stderr",
          "output_type": "stream",
          "text": [
            "100%|██████████| 200/200 [00:37<00:00,  5.38it/s]\n",
            "100%|██████████| 200/200 [00:35<00:00,  5.68it/s]\n",
            "100%|██████████| 25/25 [00:04<00:00,  5.36it/s]\n"
          ]
        },
        {
          "metadata": {
            "tags": null
          },
          "name": "stdout",
          "output_type": "stream",
          "text": [
            "Loss: 0.6931537985801697\n",
            "Accuracy: 0.49993857741355896\n",
            "SSIM: 0.26792246103286743\n",
            "PSNR: 9.709920883178711\n",
            "bpp: -0.0007370710372924805\n",
            "Epoch 6/100\n"
          ]
        },
        {
          "metadata": {
            "tags": null
          },
          "name": "stderr",
          "output_type": "stream",
          "text": [
            "100%|██████████| 200/200 [00:37<00:00,  5.38it/s]\n",
            "100%|██████████| 200/200 [00:35<00:00,  5.64it/s]\n",
            "100%|██████████| 25/25 [00:04<00:00,  5.29it/s]\n"
          ]
        },
        {
          "metadata": {
            "tags": null
          },
          "name": "stdout",
          "output_type": "stream",
          "text": [
            "Loss: 0.6931613087654114\n",
            "Accuracy: 0.5001890659332275\n",
            "SSIM: 0.17268969118595123\n",
            "PSNR: 9.523683786392212\n",
            "bpp: 0.0022687911987304688\n",
            "Epoch 7/100\n"
          ]
        },
        {
          "metadata": {
            "tags": null
          },
          "name": "stderr",
          "output_type": "stream",
          "text": [
            "100%|██████████| 200/200 [00:37<00:00,  5.38it/s]\n",
            "100%|██████████| 200/200 [00:35<00:00,  5.70it/s]\n",
            "100%|██████████| 25/25 [00:04<00:00,  5.36it/s]\n"
          ]
        },
        {
          "metadata": {
            "tags": null
          },
          "name": "stdout",
          "output_type": "stream",
          "text": [
            "Loss: 0.6931777000427246\n",
            "Accuracy: 0.5001240968704224\n",
            "SSIM: 0.229413703083992\n",
            "PSNR: 10.398921966552734\n",
            "bpp: 0.0014891624450683594\n",
            "Epoch 8/100\n"
          ]
        },
        {
          "metadata": {
            "tags": null
          },
          "name": "stderr",
          "output_type": "stream",
          "text": [
            "100%|██████████| 200/200 [00:37<00:00,  5.36it/s]\n",
            "100%|██████████| 200/200 [00:34<00:00,  5.71it/s]\n",
            "100%|██████████| 25/25 [00:04<00:00,  5.21it/s]\n"
          ]
        },
        {
          "metadata": {
            "tags": null
          },
          "name": "stdout",
          "output_type": "stream",
          "text": [
            "Loss: 0.6931548714637756\n",
            "Accuracy: 0.5001189708709717\n",
            "SSIM: 0.2505037188529968\n",
            "PSNR: 10.530136823654175\n",
            "bpp: 0.0014276504516601562\n",
            "Epoch 9/100\n"
          ]
        },
        {
          "metadata": {
            "tags": null
          },
          "name": "stderr",
          "output_type": "stream",
          "text": [
            "100%|██████████| 200/200 [00:37<00:00,  5.35it/s]\n",
            "100%|██████████| 200/200 [00:35<00:00,  5.69it/s]\n",
            "100%|██████████| 25/25 [00:04<00:00,  5.34it/s]\n"
          ]
        },
        {
          "metadata": {
            "tags": null
          },
          "name": "stdout",
          "output_type": "stream",
          "text": [
            "Loss: 0.6931520104408264\n",
            "Accuracy: 0.5001504421234131\n",
            "SSIM: 0.37209537625312805\n",
            "PSNR: 10.240075588226318\n",
            "bpp: 0.0018053054809570312\n",
            "Epoch 10/100\n"
          ]
        },
        {
          "metadata": {
            "tags": null
          },
          "name": "stderr",
          "output_type": "stream",
          "text": [
            "100%|██████████| 200/200 [00:37<00:00,  5.35it/s]\n",
            "100%|██████████| 200/200 [00:35<00:00,  5.66it/s]\n",
            "100%|██████████| 25/25 [00:04<00:00,  5.28it/s]\n"
          ]
        },
        {
          "metadata": {
            "tags": null
          },
          "name": "stdout",
          "output_type": "stream",
          "text": [
            "Loss: 0.6931495070457458\n",
            "Accuracy: 0.500454306602478\n",
            "SSIM: 0.24437595903873444\n",
            "PSNR: 10.430020093917847\n",
            "bpp: 0.005451679229736328\n",
            "Epoch 11/100\n"
          ]
        },
        {
          "metadata": {
            "tags": null
          },
          "name": "stderr",
          "output_type": "stream",
          "text": [
            "100%|██████████| 200/200 [00:37<00:00,  5.35it/s]\n",
            "100%|██████████| 200/200 [00:35<00:00,  5.70it/s]\n",
            "100%|██████████| 25/25 [00:04<00:00,  5.29it/s]\n"
          ]
        },
        {
          "metadata": {
            "tags": null
          },
          "name": "stdout",
          "output_type": "stream",
          "text": [
            "Loss: 0.6931504011154175\n",
            "Accuracy: 0.5000321269035339\n",
            "SSIM: 0.3009238541126251\n",
            "PSNR: 10.246442556381226\n",
            "bpp: 0.00038552284240722656\n",
            "Epoch 12/100\n"
          ]
        },
        {
          "metadata": {
            "tags": null
          },
          "name": "stderr",
          "output_type": "stream",
          "text": [
            "100%|██████████| 200/200 [00:37<00:00,  5.35it/s]\n",
            "100%|██████████| 200/200 [00:35<00:00,  5.70it/s]\n",
            "100%|██████████| 25/25 [00:04<00:00,  5.39it/s]\n"
          ]
        },
        {
          "metadata": {
            "tags": null
          },
          "name": "stdout",
          "output_type": "stream",
          "text": [
            "Loss: 0.6931523084640503\n",
            "Accuracy: 0.5001199245452881\n",
            "SSIM: 0.4997529983520508\n",
            "PSNR: 12.184090614318848\n",
            "bpp: 0.0014390945434570312\n",
            "Epoch 13/100\n"
          ]
        },
        {
          "metadata": {
            "tags": null
          },
          "name": "stderr",
          "output_type": "stream",
          "text": [
            "100%|██████████| 200/200 [00:37<00:00,  5.38it/s]\n",
            "100%|██████████| 200/200 [00:35<00:00,  5.66it/s]\n",
            "100%|██████████| 25/25 [00:04<00:00,  5.40it/s]\n"
          ]
        },
        {
          "metadata": {
            "tags": null
          },
          "name": "stdout",
          "output_type": "stream",
          "text": [
            "Loss: 0.6931555271148682\n",
            "Accuracy: 0.4997543692588806\n",
            "SSIM: 0.33754202723503113\n",
            "PSNR: 10.150331258773804\n",
            "bpp: -0.002947568893432617\n",
            "Epoch 14/100\n"
          ]
        },
        {
          "metadata": {
            "tags": null
          },
          "name": "stderr",
          "output_type": "stream",
          "text": [
            "100%|██████████| 200/200 [00:37<00:00,  5.37it/s]\n",
            "100%|██████████| 200/200 [00:35<00:00,  5.66it/s]\n",
            "100%|██████████| 25/25 [00:04<00:00,  5.33it/s]\n"
          ]
        },
        {
          "metadata": {
            "tags": null
          },
          "name": "stdout",
          "output_type": "stream",
          "text": [
            "Loss: 0.6931506395339966\n",
            "Accuracy: 0.5005671381950378\n",
            "SSIM: 0.3909972310066223\n",
            "PSNR: 12.116204500198364\n",
            "bpp: 0.0068056583404541016\n",
            "Epoch 15/100\n"
          ]
        },
        {
          "metadata": {
            "tags": null
          },
          "name": "stderr",
          "output_type": "stream",
          "text": [
            "100%|██████████| 200/200 [00:37<00:00,  5.37it/s]\n",
            "100%|██████████| 200/200 [00:35<00:00,  5.69it/s]\n",
            "100%|██████████| 25/25 [00:04<00:00,  5.38it/s]\n"
          ]
        },
        {
          "metadata": {
            "tags": null
          },
          "name": "stdout",
          "output_type": "stream",
          "text": [
            "Loss: 0.6931554079055786\n",
            "Accuracy: 0.4997132122516632\n",
            "SSIM: 0.3996696174144745\n",
            "PSNR: 12.201322317123413\n",
            "bpp: -0.003441452980041504\n",
            "Epoch 16/100\n"
          ]
        },
        {
          "metadata": {
            "tags": null
          },
          "name": "stderr",
          "output_type": "stream",
          "text": [
            "100%|██████████| 200/200 [00:37<00:00,  5.36it/s]\n",
            "100%|██████████| 200/200 [00:35<00:00,  5.68it/s]\n",
            "100%|██████████| 25/25 [00:04<00:00,  5.44it/s]\n"
          ]
        },
        {
          "metadata": {
            "tags": null
          },
          "name": "stdout",
          "output_type": "stream",
          "text": [
            "Loss: 0.6931492686271667\n",
            "Accuracy: 0.49996045231819153\n",
            "SSIM: 0.39169567823410034\n",
            "PSNR: 10.732687711715698\n",
            "bpp: -0.00047457218170166016\n",
            "Epoch 17/100\n"
          ]
        },
        {
          "metadata": {
            "tags": null
          },
          "name": "stderr",
          "output_type": "stream",
          "text": [
            "100%|██████████| 200/200 [00:37<00:00,  5.35it/s]\n",
            "100%|██████████| 200/200 [00:35<00:00,  5.66it/s]\n",
            "100%|██████████| 25/25 [00:04<00:00,  5.37it/s]\n"
          ]
        },
        {
          "metadata": {
            "tags": null
          },
          "name": "stdout",
          "output_type": "stream",
          "text": [
            "Loss: 0.69315505027771\n",
            "Accuracy: 0.49992990493774414\n",
            "SSIM: 0.3322749435901642\n",
            "PSNR: 10.607191324234009\n",
            "bpp: -0.0008411407470703125\n",
            "Epoch 18/100\n"
          ]
        },
        {
          "metadata": {
            "tags": null
          },
          "name": "stderr",
          "output_type": "stream",
          "text": [
            "100%|██████████| 200/200 [00:37<00:00,  5.39it/s]\n",
            "100%|██████████| 200/200 [00:35<00:00,  5.69it/s]\n",
            "100%|██████████| 25/25 [00:04<00:00,  5.37it/s]\n"
          ]
        },
        {
          "metadata": {
            "tags": null
          },
          "name": "stdout",
          "output_type": "stream",
          "text": [
            "Loss: 0.693152666091919\n",
            "Accuracy: 0.5003381967544556\n",
            "SSIM: 0.28754374384880066\n",
            "PSNR: 9.985767006874084\n",
            "bpp: 0.004058361053466797\n",
            "Epoch 19/100\n"
          ]
        },
        {
          "metadata": {
            "tags": null
          },
          "name": "stderr",
          "output_type": "stream",
          "text": [
            "100%|██████████| 200/200 [00:37<00:00,  5.35it/s]\n",
            "100%|██████████| 200/200 [00:35<00:00,  5.71it/s]\n",
            "100%|██████████| 25/25 [00:04<00:00,  5.38it/s]\n"
          ]
        },
        {
          "metadata": {
            "tags": null
          },
          "name": "stdout",
          "output_type": "stream",
          "text": [
            "Loss: 0.6931486129760742\n",
            "Accuracy: 0.5001257061958313\n",
            "SSIM: 0.4637170433998108\n",
            "PSNR: 11.728193759918213\n",
            "bpp: 0.001508474349975586\n",
            "Epoch 20/100\n"
          ]
        },
        {
          "metadata": {
            "tags": null
          },
          "name": "stderr",
          "output_type": "stream",
          "text": [
            "100%|██████████| 200/200 [00:37<00:00,  5.36it/s]\n",
            "100%|██████████| 200/200 [00:35<00:00,  5.68it/s]\n",
            "100%|██████████| 25/25 [00:04<00:00,  5.42it/s]\n"
          ]
        },
        {
          "metadata": {
            "tags": null
          },
          "name": "stdout",
          "output_type": "stream",
          "text": [
            "Loss: 0.6931482553482056\n",
            "Accuracy: 0.5001610517501831\n",
            "SSIM: 0.3805965483188629\n",
            "PSNR: 10.356775522232056\n",
            "bpp: 0.0019326210021972656\n",
            "Epoch 21/100\n"
          ]
        },
        {
          "metadata": {
            "tags": null
          },
          "name": "stderr",
          "output_type": "stream",
          "text": [
            "100%|██████████| 200/200 [00:37<00:00,  5.34it/s]\n",
            "100%|██████████| 200/200 [00:35<00:00,  5.68it/s]\n",
            "100%|██████████| 25/25 [00:04<00:00,  5.38it/s]\n"
          ]
        },
        {
          "metadata": {
            "tags": null
          },
          "name": "stdout",
          "output_type": "stream",
          "text": [
            "Loss: 0.6931554675102234\n",
            "Accuracy: 0.5001575350761414\n",
            "SSIM: 0.4528573453426361\n",
            "PSNR: 11.499764919281006\n",
            "bpp: 0.001890420913696289\n",
            "Epoch 22/100\n"
          ]
        },
        {
          "metadata": {
            "tags": null
          },
          "name": "stderr",
          "output_type": "stream",
          "text": [
            "100%|██████████| 200/200 [00:37<00:00,  5.36it/s]\n",
            "100%|██████████| 200/200 [00:35<00:00,  5.69it/s]\n",
            "100%|██████████| 25/25 [00:04<00:00,  5.35it/s]\n"
          ]
        },
        {
          "metadata": {
            "tags": null
          },
          "name": "stdout",
          "output_type": "stream",
          "text": [
            "Loss: 0.6931560039520264\n",
            "Accuracy: 0.5001758337020874\n",
            "SSIM: 0.32594171166419983\n",
            "PSNR: 10.727236270904541\n",
            "bpp: 0.002110004425048828\n",
            "Epoch 23/100\n"
          ]
        },
        {
          "metadata": {
            "tags": null
          },
          "name": "stderr",
          "output_type": "stream",
          "text": [
            "100%|██████████| 200/200 [00:37<00:00,  5.37it/s]\n",
            "100%|██████████| 200/200 [00:35<00:00,  5.68it/s]\n",
            "100%|██████████| 25/25 [00:04<00:00,  5.28it/s]\n"
          ]
        },
        {
          "metadata": {
            "tags": null
          },
          "name": "stdout",
          "output_type": "stream",
          "text": [
            "Loss: 0.6931582689285278\n",
            "Accuracy: 0.4998460114002228\n",
            "SSIM: 0.3671978712081909\n",
            "PSNR: 11.942622661590576\n",
            "bpp: -0.0018478631973266602\n",
            "Epoch 24/100\n"
          ]
        },
        {
          "metadata": {
            "tags": null
          },
          "name": "stderr",
          "output_type": "stream",
          "text": [
            "100%|██████████| 200/200 [00:37<00:00,  5.36it/s]\n",
            "100%|██████████| 200/200 [00:35<00:00,  5.69it/s]\n",
            "100%|██████████| 25/25 [00:04<00:00,  5.43it/s]\n"
          ]
        },
        {
          "metadata": {
            "tags": null
          },
          "name": "stdout",
          "output_type": "stream",
          "text": [
            "Loss: 0.6931681632995605\n",
            "Accuracy: 0.49992090463638306\n",
            "SSIM: 0.4242365062236786\n",
            "PSNR: 10.768859386444092\n",
            "bpp: -0.0009491443634033203\n",
            "Epoch 25/100\n"
          ]
        },
        {
          "metadata": {
            "tags": null
          },
          "name": "stderr",
          "output_type": "stream",
          "text": [
            "100%|██████████| 200/200 [00:37<00:00,  5.35it/s]\n",
            "100%|██████████| 200/200 [00:35<00:00,  5.69it/s]\n",
            "100%|██████████| 25/25 [00:04<00:00,  5.36it/s]\n"
          ]
        },
        {
          "metadata": {
            "tags": null
          },
          "name": "stdout",
          "output_type": "stream",
          "text": [
            "Loss: 0.6931592226028442\n",
            "Accuracy: 0.5001838803291321\n",
            "SSIM: 0.341573029756546\n",
            "PSNR: 10.659520626068115\n",
            "bpp: 0.002206563949584961\n",
            "Epoch 26/100\n"
          ]
        },
        {
          "metadata": {
            "tags": null
          },
          "name": "stderr",
          "output_type": "stream",
          "text": [
            "100%|██████████| 200/200 [00:37<00:00,  5.36it/s]\n",
            "100%|██████████| 200/200 [00:35<00:00,  5.68it/s]\n",
            "100%|██████████| 25/25 [00:04<00:00,  5.27it/s]\n"
          ]
        },
        {
          "metadata": {
            "tags": null
          },
          "name": "stdout",
          "output_type": "stream",
          "text": [
            "Loss: 0.69315105676651\n",
            "Accuracy: 0.49980291724205017\n",
            "SSIM: 0.24675750732421875\n",
            "PSNR: 9.843843579292297\n",
            "bpp: -0.0023649930953979492\n",
            "Epoch 27/100\n"
          ]
        },
        {
          "metadata": {
            "tags": null
          },
          "name": "stderr",
          "output_type": "stream",
          "text": [
            "100%|██████████| 200/200 [00:37<00:00,  5.36it/s]\n",
            "100%|██████████| 200/200 [00:35<00:00,  5.69it/s]\n",
            "100%|██████████| 25/25 [00:04<00:00,  5.38it/s]\n"
          ]
        },
        {
          "metadata": {
            "tags": null
          },
          "name": "stdout",
          "output_type": "stream",
          "text": [
            "Loss: 0.6931520104408264\n",
            "Accuracy: 0.5000450015068054\n",
            "SSIM: 0.574303150177002\n",
            "PSNR: 13.409326076507568\n",
            "bpp: 0.0005400180816650391\n",
            "Epoch 28/100\n"
          ]
        },
        {
          "metadata": {
            "tags": null
          },
          "name": "stderr",
          "output_type": "stream",
          "text": [
            "100%|██████████| 200/200 [00:37<00:00,  5.38it/s]\n",
            "100%|██████████| 200/200 [00:35<00:00,  5.67it/s]\n",
            "100%|██████████| 25/25 [00:04<00:00,  5.39it/s]\n"
          ]
        },
        {
          "metadata": {
            "tags": null
          },
          "name": "stdout",
          "output_type": "stream",
          "text": [
            "Loss: 0.6931564807891846\n",
            "Accuracy: 0.4998408555984497\n",
            "SSIM: 0.2876514792442322\n",
            "PSNR: 10.518031120300293\n",
            "bpp: -0.0019097328186035156\n",
            "Epoch 29/100\n"
          ]
        },
        {
          "metadata": {
            "tags": null
          },
          "name": "stderr",
          "output_type": "stream",
          "text": [
            "100%|██████████| 200/200 [00:37<00:00,  5.37it/s]\n",
            "100%|██████████| 200/200 [00:35<00:00,  5.67it/s]\n",
            "100%|██████████| 25/25 [00:04<00:00,  5.37it/s]\n"
          ]
        },
        {
          "metadata": {
            "tags": null
          },
          "name": "stdout",
          "output_type": "stream",
          "text": [
            "Loss: 0.6931650042533875\n",
            "Accuracy: 0.5000362992286682\n",
            "SSIM: 0.29830241203308105\n",
            "PSNR: 10.93532919883728\n",
            "bpp: 0.0004355907440185547\n",
            "Epoch 30/100\n"
          ]
        },
        {
          "metadata": {
            "tags": null
          },
          "name": "stderr",
          "output_type": "stream",
          "text": [
            "100%|██████████| 200/200 [00:37<00:00,  5.34it/s]\n",
            "100%|██████████| 200/200 [00:35<00:00,  5.67it/s]\n",
            "100%|██████████| 25/25 [00:04<00:00,  5.38it/s]\n"
          ]
        },
        {
          "metadata": {
            "tags": null
          },
          "name": "stdout",
          "output_type": "stream",
          "text": [
            "Loss: 0.6931552290916443\n",
            "Accuracy: 0.5000154376029968\n",
            "SSIM: 0.48166847229003906\n",
            "PSNR: 11.567226648330688\n",
            "bpp: 0.00018525123596191406\n",
            "Epoch 31/100\n"
          ]
        },
        {
          "metadata": {
            "tags": null
          },
          "name": "stderr",
          "output_type": "stream",
          "text": [
            "100%|██████████| 200/200 [00:37<00:00,  5.33it/s]\n",
            "100%|██████████| 200/200 [00:35<00:00,  5.66it/s]\n",
            "100%|██████████| 25/25 [00:04<00:00,  5.24it/s]\n"
          ]
        },
        {
          "metadata": {
            "tags": null
          },
          "name": "stdout",
          "output_type": "stream",
          "text": [
            "Loss: 0.7510741353034973\n",
            "Accuracy: 0.5000797510147095\n",
            "SSIM: 0.29513099789619446\n",
            "PSNR: 11.404224634170532\n",
            "bpp: 0.0009570121765136719\n",
            "Epoch 32/100\n"
          ]
        },
        {
          "metadata": {
            "tags": null
          },
          "name": "stderr",
          "output_type": "stream",
          "text": [
            "100%|██████████| 200/200 [00:37<00:00,  5.31it/s]\n",
            "100%|██████████| 200/200 [00:35<00:00,  5.62it/s]\n",
            "100%|██████████| 25/25 [00:04<00:00,  5.36it/s]\n"
          ]
        },
        {
          "metadata": {
            "tags": null
          },
          "name": "stdout",
          "output_type": "stream",
          "text": [
            "Loss: 0.6933627724647522\n",
            "Accuracy: 0.500285804271698\n",
            "SSIM: 0.39147162437438965\n",
            "PSNR: 10.981587171554565\n",
            "bpp: 0.0034296512603759766\n",
            "Epoch 33/100\n"
          ]
        },
        {
          "metadata": {
            "tags": null
          },
          "name": "stderr",
          "output_type": "stream",
          "text": [
            "100%|██████████| 200/200 [00:37<00:00,  5.33it/s]\n",
            "100%|██████████| 200/200 [00:35<00:00,  5.69it/s]\n",
            "100%|██████████| 25/25 [00:04<00:00,  5.33it/s]\n"
          ]
        },
        {
          "metadata": {
            "tags": null
          },
          "name": "stdout",
          "output_type": "stream",
          "text": [
            "Loss: 0.6932775378227234\n",
            "Accuracy: 0.49970003962516785\n",
            "SSIM: 0.28612256050109863\n",
            "PSNR: 10.533591508865356\n",
            "bpp: -0.00359952449798584\n",
            "Epoch 34/100\n"
          ]
        },
        {
          "metadata": {
            "tags": null
          },
          "name": "stderr",
          "output_type": "stream",
          "text": [
            "100%|██████████| 200/200 [00:37<00:00,  5.34it/s]\n",
            "100%|██████████| 200/200 [00:35<00:00,  5.67it/s]\n",
            "100%|██████████| 25/25 [00:04<00:00,  5.37it/s]\n"
          ]
        },
        {
          "metadata": {
            "tags": null
          },
          "name": "stdout",
          "output_type": "stream",
          "text": [
            "Loss: 0.6931908130645752\n",
            "Accuracy: 0.5006137490272522\n",
            "SSIM: 0.3284549415111542\n",
            "PSNR: 10.461857318878174\n",
            "bpp: 0.007364988327026367\n",
            "Epoch 35/100\n"
          ]
        },
        {
          "metadata": {
            "tags": null
          },
          "name": "stderr",
          "output_type": "stream",
          "text": [
            "100%|██████████| 200/200 [00:37<00:00,  5.33it/s]\n",
            "100%|██████████| 200/200 [00:35<00:00,  5.66it/s]\n",
            "100%|██████████| 25/25 [00:04<00:00,  5.34it/s]\n"
          ]
        },
        {
          "metadata": {
            "tags": null
          },
          "name": "stdout",
          "output_type": "stream",
          "text": [
            "Loss: 0.6931774020195007\n",
            "Accuracy: 0.49978458881378174\n",
            "SSIM: 0.47586581110954285\n",
            "PSNR: 12.579928636550903\n",
            "bpp: -0.0025849342346191406\n",
            "Epoch 36/100\n"
          ]
        },
        {
          "metadata": {
            "tags": null
          },
          "name": "stderr",
          "output_type": "stream",
          "text": [
            "100%|██████████| 200/200 [00:37<00:00,  5.33it/s]\n",
            "100%|██████████| 200/200 [00:35<00:00,  5.69it/s]\n",
            "100%|██████████| 25/25 [00:04<00:00,  5.31it/s]\n"
          ]
        },
        {
          "metadata": {
            "tags": null
          },
          "name": "stdout",
          "output_type": "stream",
          "text": [
            "Loss: 0.693192183971405\n",
            "Accuracy: 0.500417947769165\n",
            "SSIM: 0.38912779092788696\n",
            "PSNR: 11.497673988342285\n",
            "bpp: 0.005015373229980469\n",
            "Epoch 37/100\n"
          ]
        },
        {
          "metadata": {
            "tags": null
          },
          "name": "stderr",
          "output_type": "stream",
          "text": [
            "100%|██████████| 200/200 [00:37<00:00,  5.35it/s]\n",
            "100%|██████████| 200/200 [00:35<00:00,  5.67it/s]\n",
            "100%|██████████| 25/25 [00:04<00:00,  5.28it/s]\n"
          ]
        },
        {
          "metadata": {
            "tags": null
          },
          "name": "stdout",
          "output_type": "stream",
          "text": [
            "Loss: 0.6931676864624023\n",
            "Accuracy: 0.49989616870880127\n",
            "SSIM: 0.5564777255058289\n",
            "PSNR: 13.335161209106445\n",
            "bpp: -0.0012459754943847656\n",
            "Epoch 38/100\n"
          ]
        },
        {
          "metadata": {
            "tags": null
          },
          "name": "stderr",
          "output_type": "stream",
          "text": [
            "100%|██████████| 200/200 [00:37<00:00,  5.32it/s]\n",
            "100%|██████████| 200/200 [00:35<00:00,  5.66it/s]\n",
            "100%|██████████| 25/25 [00:04<00:00,  5.36it/s]\n"
          ]
        },
        {
          "metadata": {
            "tags": null
          },
          "name": "stdout",
          "output_type": "stream",
          "text": [
            "Loss: 0.6932061910629272\n",
            "Accuracy: 0.49987784028053284\n",
            "SSIM: 0.28119924664497375\n",
            "PSNR: 10.869777202606201\n",
            "bpp: -0.001465916633605957\n",
            "Epoch 39/100\n"
          ]
        },
        {
          "metadata": {
            "tags": null
          },
          "name": "stderr",
          "output_type": "stream",
          "text": [
            "100%|██████████| 200/200 [00:37<00:00,  5.32it/s]\n",
            "100%|██████████| 200/200 [00:35<00:00,  5.66it/s]\n",
            "100%|██████████| 25/25 [00:04<00:00,  5.20it/s]\n"
          ]
        },
        {
          "metadata": {
            "tags": null
          },
          "name": "stdout",
          "output_type": "stream",
          "text": [
            "Loss: 0.6931931376457214\n",
            "Accuracy: 0.5001713633537292\n",
            "SSIM: 0.40145424008369446\n",
            "PSNR: 11.798028945922852\n",
            "bpp: 0.0020563602447509766\n",
            "Epoch 40/100\n"
          ]
        },
        {
          "metadata": {
            "tags": null
          },
          "name": "stderr",
          "output_type": "stream",
          "text": [
            "100%|██████████| 200/200 [00:37<00:00,  5.30it/s]\n",
            "100%|██████████| 200/200 [00:35<00:00,  5.66it/s]\n",
            "100%|██████████| 25/25 [00:04<00:00,  5.39it/s]\n"
          ]
        },
        {
          "metadata": {
            "tags": null
          },
          "name": "stdout",
          "output_type": "stream",
          "text": [
            "Loss: 0.6931598782539368\n",
            "Accuracy: 0.5002398490905762\n",
            "SSIM: 0.35713574290275574\n",
            "PSNR: 9.753307104110718\n",
            "bpp: 0.0028781890869140625\n",
            "Epoch 41/100\n"
          ]
        },
        {
          "metadata": {
            "tags": null
          },
          "name": "stderr",
          "output_type": "stream",
          "text": [
            "100%|██████████| 200/200 [00:37<00:00,  5.33it/s]\n",
            "100%|██████████| 200/200 [00:35<00:00,  5.65it/s]\n",
            "100%|██████████| 25/25 [00:04<00:00,  5.24it/s]\n"
          ]
        },
        {
          "metadata": {
            "tags": null
          },
          "name": "stdout",
          "output_type": "stream",
          "text": [
            "Loss: 0.6932770013809204\n",
            "Accuracy: 0.5002530217170715\n",
            "SSIM: 0.3395582139492035\n",
            "PSNR: 10.13463020324707\n",
            "bpp: 0.0030362606048583984\n",
            "Epoch 42/100\n"
          ]
        },
        {
          "metadata": {
            "tags": null
          },
          "name": "stderr",
          "output_type": "stream",
          "text": [
            "100%|██████████| 200/200 [00:37<00:00,  5.33it/s]\n",
            "100%|██████████| 200/200 [00:35<00:00,  5.67it/s]\n",
            "100%|██████████| 25/25 [00:04<00:00,  5.30it/s]\n"
          ]
        },
        {
          "metadata": {
            "tags": null
          },
          "name": "stdout",
          "output_type": "stream",
          "text": [
            "Loss: 0.6931859254837036\n",
            "Accuracy: 0.49969297647476196\n",
            "SSIM: 0.35229480266571045\n",
            "PSNR: 10.061037540435791\n",
            "bpp: -0.0036842823028564453\n",
            "Epoch 43/100\n"
          ]
        },
        {
          "metadata": {
            "tags": null
          },
          "name": "stderr",
          "output_type": "stream",
          "text": [
            "100%|██████████| 200/200 [00:37<00:00,  5.33it/s]\n",
            "100%|██████████| 200/200 [00:35<00:00,  5.66it/s]\n",
            "100%|██████████| 25/25 [00:04<00:00,  5.12it/s]\n"
          ]
        },
        {
          "metadata": {
            "tags": null
          },
          "name": "stdout",
          "output_type": "stream",
          "text": [
            "Loss: 0.6932571530342102\n",
            "Accuracy: 0.5002064108848572\n",
            "SSIM: 0.4156818985939026\n",
            "PSNR: 11.828917264938354\n",
            "bpp: 0.002476930618286133\n",
            "Epoch 44/100\n"
          ]
        },
        {
          "metadata": {
            "tags": null
          },
          "name": "stderr",
          "output_type": "stream",
          "text": [
            "100%|██████████| 200/200 [00:37<00:00,  5.33it/s]\n",
            "100%|██████████| 200/200 [00:35<00:00,  5.65it/s]\n",
            "100%|██████████| 25/25 [00:04<00:00,  5.26it/s]\n"
          ]
        },
        {
          "metadata": {
            "tags": null
          },
          "name": "stdout",
          "output_type": "stream",
          "text": [
            "Loss: 0.6932159066200256\n",
            "Accuracy: 0.5001533627510071\n",
            "SSIM: 0.42483389377593994\n",
            "PSNR: 12.307192087173462\n",
            "bpp: 0.001840353012084961\n",
            "Epoch 45/100\n"
          ]
        },
        {
          "metadata": {
            "tags": null
          },
          "name": "stderr",
          "output_type": "stream",
          "text": [
            "100%|██████████| 200/200 [00:37<00:00,  5.29it/s]\n",
            "100%|██████████| 200/200 [00:35<00:00,  5.65it/s]\n",
            "100%|██████████| 25/25 [00:04<00:00,  5.18it/s]\n"
          ]
        },
        {
          "metadata": {
            "tags": null
          },
          "name": "stdout",
          "output_type": "stream",
          "text": [
            "Loss: 0.6932145357131958\n",
            "Accuracy: 0.5003215074539185\n",
            "SSIM: 0.30470743775367737\n",
            "PSNR: 9.144129753112793\n",
            "bpp: 0.0038580894470214844\n",
            "Epoch 46/100\n"
          ]
        },
        {
          "metadata": {
            "tags": null
          },
          "name": "stderr",
          "output_type": "stream",
          "text": [
            "100%|██████████| 200/200 [00:37<00:00,  5.31it/s]\n",
            "100%|██████████| 200/200 [00:35<00:00,  5.63it/s]\n",
            "100%|██████████| 25/25 [00:04<00:00,  5.35it/s]\n"
          ]
        },
        {
          "metadata": {
            "tags": null
          },
          "name": "stdout",
          "output_type": "stream",
          "text": [
            "Loss: 0.6931813955307007\n",
            "Accuracy: 0.499949187040329\n",
            "SSIM: 0.2527744770050049\n",
            "PSNR: 10.15586256980896\n",
            "bpp: -0.0006097555160522461\n",
            "Epoch 47/100\n"
          ]
        },
        {
          "metadata": {
            "tags": null
          },
          "name": "stderr",
          "output_type": "stream",
          "text": [
            "100%|██████████| 200/200 [00:37<00:00,  5.29it/s]\n",
            "100%|██████████| 200/200 [00:35<00:00,  5.64it/s]\n",
            "100%|██████████| 25/25 [00:04<00:00,  5.21it/s]\n"
          ]
        },
        {
          "metadata": {
            "tags": null
          },
          "name": "stdout",
          "output_type": "stream",
          "text": [
            "Loss: 0.6931988596916199\n",
            "Accuracy: 0.5001986622810364\n",
            "SSIM: 0.34491628408432007\n",
            "PSNR: 9.969366788864136\n",
            "bpp: 0.0023839473724365234\n",
            "Epoch 48/100\n"
          ]
        },
        {
          "metadata": {
            "tags": null
          },
          "name": "stderr",
          "output_type": "stream",
          "text": [
            "100%|██████████| 200/200 [00:37<00:00,  5.30it/s]\n",
            "100%|██████████| 200/200 [00:35<00:00,  5.65it/s]\n",
            "100%|██████████| 25/25 [00:04<00:00,  5.30it/s]\n"
          ]
        },
        {
          "metadata": {
            "tags": null
          },
          "name": "stdout",
          "output_type": "stream",
          "text": [
            "Loss: 0.6932798027992249\n",
            "Accuracy: 0.5006188750267029\n",
            "SSIM: 0.28116756677627563\n",
            "PSNR: 10.058698654174805\n",
            "bpp: 0.00742650032043457\n",
            "Epoch 49/100\n"
          ]
        },
        {
          "metadata": {
            "tags": null
          },
          "name": "stderr",
          "output_type": "stream",
          "text": [
            "100%|██████████| 200/200 [00:37<00:00,  5.30it/s]\n",
            "100%|██████████| 200/200 [00:35<00:00,  5.62it/s]\n",
            "100%|██████████| 25/25 [00:04<00:00,  5.29it/s]\n"
          ]
        },
        {
          "metadata": {
            "tags": null
          },
          "name": "stdout",
          "output_type": "stream",
          "text": [
            "Loss: 0.6931820511817932\n",
            "Accuracy: 0.49999162554740906\n",
            "SSIM: 0.36461129784584045\n",
            "PSNR: 10.340278148651123\n",
            "bpp: -0.0001004934310913086\n",
            "Epoch 50/100\n"
          ]
        },
        {
          "metadata": {
            "tags": null
          },
          "name": "stderr",
          "output_type": "stream",
          "text": [
            "100%|██████████| 200/200 [00:37<00:00,  5.32it/s]\n",
            "100%|██████████| 200/200 [00:35<00:00,  5.62it/s]\n",
            "100%|██████████| 25/25 [00:04<00:00,  5.31it/s]\n"
          ]
        },
        {
          "metadata": {
            "tags": null
          },
          "name": "stdout",
          "output_type": "stream",
          "text": [
            "Loss: 0.6931995749473572\n",
            "Accuracy: 0.4999784529209137\n",
            "SSIM: 0.43242308497428894\n",
            "PSNR: 11.402205228805542\n",
            "bpp: -0.00025856494903564453\n",
            "Epoch 51/100\n"
          ]
        },
        {
          "metadata": {
            "tags": null
          },
          "name": "stderr",
          "output_type": "stream",
          "text": [
            "100%|██████████| 200/200 [00:37<00:00,  5.31it/s]\n",
            "100%|██████████| 200/200 [00:35<00:00,  5.64it/s]\n",
            "100%|██████████| 25/25 [00:04<00:00,  5.29it/s]\n"
          ]
        },
        {
          "metadata": {
            "tags": null
          },
          "name": "stdout",
          "output_type": "stream",
          "text": [
            "Loss: 0.6932174563407898\n",
            "Accuracy: 0.4998733401298523\n",
            "SSIM: 0.23011504113674164\n",
            "PSNR: 10.363065004348755\n",
            "bpp: -0.001519918441772461\n",
            "Epoch 52/100\n"
          ]
        },
        {
          "metadata": {
            "tags": null
          },
          "name": "stderr",
          "output_type": "stream",
          "text": [
            "100%|██████████| 200/200 [00:37<00:00,  5.30it/s]\n",
            "100%|██████████| 200/200 [00:35<00:00,  5.67it/s]\n",
            "100%|██████████| 25/25 [00:04<00:00,  5.31it/s]\n"
          ]
        },
        {
          "metadata": {
            "tags": null
          },
          "name": "stdout",
          "output_type": "stream",
          "text": [
            "Loss: 0.6931870579719543\n",
            "Accuracy: 0.4996781647205353\n",
            "SSIM: 0.44452226161956787\n",
            "PSNR: 11.16593599319458\n",
            "bpp: -0.00386202335357666\n",
            "Epoch 53/100\n"
          ]
        },
        {
          "metadata": {
            "tags": null
          },
          "name": "stderr",
          "output_type": "stream",
          "text": [
            "100%|██████████| 200/200 [00:37<00:00,  5.30it/s]\n",
            "100%|██████████| 200/200 [00:35<00:00,  5.65it/s]\n",
            "100%|██████████| 25/25 [00:04<00:00,  5.31it/s]\n"
          ]
        },
        {
          "metadata": {
            "tags": null
          },
          "name": "stdout",
          "output_type": "stream",
          "text": [
            "Loss: 0.6931629180908203\n",
            "Accuracy: 0.5000916123390198\n",
            "SSIM: 0.31914588809013367\n",
            "PSNR: 10.536388158798218\n",
            "bpp: 0.0010993480682373047\n",
            "Epoch 54/100\n"
          ]
        },
        {
          "metadata": {
            "tags": null
          },
          "name": "stderr",
          "output_type": "stream",
          "text": [
            "100%|██████████| 200/200 [00:37<00:00,  5.30it/s]\n",
            "100%|██████████| 200/200 [00:35<00:00,  5.61it/s]\n",
            "100%|██████████| 25/25 [00:04<00:00,  5.33it/s]\n"
          ]
        },
        {
          "metadata": {
            "tags": null
          },
          "name": "stdout",
          "output_type": "stream",
          "text": [
            "Loss: 0.6931751370429993\n",
            "Accuracy: 0.5002315044403076\n",
            "SSIM: 0.41631177067756653\n",
            "PSNR: 11.153302192687988\n",
            "bpp: 0.0027780532836914062\n",
            "Epoch 55/100\n"
          ]
        },
        {
          "metadata": {
            "tags": null
          },
          "name": "stderr",
          "output_type": "stream",
          "text": [
            "100%|██████████| 200/200 [00:37<00:00,  5.31it/s]\n",
            "100%|██████████| 200/200 [00:35<00:00,  5.61it/s]\n",
            "100%|██████████| 25/25 [00:04<00:00,  5.25it/s]\n"
          ]
        },
        {
          "metadata": {
            "tags": null
          },
          "name": "stdout",
          "output_type": "stream",
          "text": [
            "Loss: 0.6932050585746765\n",
            "Accuracy: 0.4997788071632385\n",
            "SSIM: 0.5520285964012146\n",
            "PSNR: 12.766382694244385\n",
            "bpp: -0.0026543140411376953\n",
            "Epoch 56/100\n"
          ]
        },
        {
          "metadata": {
            "tags": null
          },
          "name": "stderr",
          "output_type": "stream",
          "text": [
            "100%|██████████| 200/200 [00:37<00:00,  5.30it/s]\n",
            "100%|██████████| 200/200 [00:35<00:00,  5.64it/s]\n",
            "100%|██████████| 25/25 [00:04<00:00,  5.20it/s]\n"
          ]
        },
        {
          "metadata": {
            "tags": null
          },
          "name": "stdout",
          "output_type": "stream",
          "text": [
            "Loss: 0.6931768655776978\n",
            "Accuracy: 0.49976208806037903\n",
            "SSIM: 0.2899872958660126\n",
            "PSNR: 11.995296478271484\n",
            "bpp: -0.00285494327545166\n",
            "Epoch 57/100\n"
          ]
        },
        {
          "metadata": {
            "tags": null
          },
          "name": "stderr",
          "output_type": "stream",
          "text": [
            "100%|██████████| 200/200 [00:37<00:00,  5.27it/s]\n",
            "100%|██████████| 200/200 [00:35<00:00,  5.62it/s]\n",
            "100%|██████████| 25/25 [00:04<00:00,  5.29it/s]\n"
          ]
        },
        {
          "metadata": {
            "tags": null
          },
          "name": "stdout",
          "output_type": "stream",
          "text": [
            "Loss: 0.6931719183921814\n",
            "Accuracy: 0.5002549290657043\n",
            "SSIM: 0.3772287368774414\n",
            "PSNR: 11.387465000152588\n",
            "bpp: 0.0030591487884521484\n",
            "Epoch 58/100\n"
          ]
        },
        {
          "metadata": {
            "tags": null
          },
          "name": "stderr",
          "output_type": "stream",
          "text": [
            "100%|██████████| 200/200 [00:37<00:00,  5.29it/s]\n",
            "100%|██████████| 200/200 [00:35<00:00,  5.60it/s]\n",
            "100%|██████████| 25/25 [00:04<00:00,  5.26it/s]\n"
          ]
        },
        {
          "metadata": {
            "tags": null
          },
          "name": "stdout",
          "output_type": "stream",
          "text": [
            "Loss: 0.6931682229042053\n",
            "Accuracy: 0.49975115060806274\n",
            "SSIM: 0.44068053364753723\n",
            "PSNR: 11.58989429473877\n",
            "bpp: -0.0029861927032470703\n",
            "Epoch 59/100\n"
          ]
        },
        {
          "metadata": {
            "tags": null
          },
          "name": "stderr",
          "output_type": "stream",
          "text": [
            "100%|██████████| 200/200 [00:37<00:00,  5.32it/s]\n",
            "100%|██████████| 200/200 [00:35<00:00,  5.61it/s]\n",
            "100%|██████████| 25/25 [00:04<00:00,  5.27it/s]\n"
          ]
        },
        {
          "metadata": {
            "tags": null
          },
          "name": "stdout",
          "output_type": "stream",
          "text": [
            "Loss: 0.6931652426719666\n",
            "Accuracy: 0.49976658821105957\n",
            "SSIM: 0.38248488306999207\n",
            "PSNR: 10.538169145584106\n",
            "bpp: -0.0028009414672851562\n",
            "Epoch 60/100\n"
          ]
        },
        {
          "metadata": {
            "tags": null
          },
          "name": "stderr",
          "output_type": "stream",
          "text": [
            "100%|██████████| 200/200 [00:37<00:00,  5.29it/s]\n",
            "100%|██████████| 200/200 [00:35<00:00,  5.62it/s]\n",
            "100%|██████████| 25/25 [00:04<00:00,  5.21it/s]\n"
          ]
        },
        {
          "metadata": {
            "tags": null
          },
          "name": "stdout",
          "output_type": "stream",
          "text": [
            "Loss: 0.6931725740432739\n",
            "Accuracy: 0.4998309016227722\n",
            "SSIM: 0.41731390357017517\n",
            "PSNR: 11.222790479660034\n",
            "bpp: -0.0020291805267333984\n",
            "Epoch 61/100\n"
          ]
        },
        {
          "metadata": {
            "tags": null
          },
          "name": "stderr",
          "output_type": "stream",
          "text": [
            "100%|██████████| 200/200 [00:37<00:00,  5.30it/s]\n",
            "100%|██████████| 200/200 [00:35<00:00,  5.63it/s]\n",
            "100%|██████████| 25/25 [00:04<00:00,  5.25it/s]\n"
          ]
        },
        {
          "metadata": {
            "tags": null
          },
          "name": "stdout",
          "output_type": "stream",
          "text": [
            "Loss: 0.6931521892547607\n",
            "Accuracy: 0.5001208782196045\n",
            "SSIM: 0.3400537669658661\n",
            "PSNR: 10.631933212280273\n",
            "bpp: 0.0014505386352539062\n",
            "Epoch 62/100\n"
          ]
        },
        {
          "metadata": {
            "tags": null
          },
          "name": "stderr",
          "output_type": "stream",
          "text": [
            "100%|██████████| 200/200 [00:37<00:00,  5.27it/s]\n",
            "100%|██████████| 200/200 [00:35<00:00,  5.62it/s]\n",
            "100%|██████████| 25/25 [00:04<00:00,  5.21it/s]\n"
          ]
        },
        {
          "metadata": {
            "tags": null
          },
          "name": "stdout",
          "output_type": "stream",
          "text": [
            "Loss: 0.6931519508361816\n",
            "Accuracy: 0.5004790425300598\n",
            "SSIM: 0.47194427251815796\n",
            "PSNR: 12.640296220779419\n",
            "bpp: 0.0057485103607177734\n",
            "Epoch 63/100\n"
          ]
        },
        {
          "metadata": {
            "tags": null
          },
          "name": "stderr",
          "output_type": "stream",
          "text": [
            "100%|██████████| 200/200 [00:37<00:00,  5.29it/s]\n",
            "100%|██████████| 200/200 [00:35<00:00,  5.64it/s]\n",
            "100%|██████████| 25/25 [00:04<00:00,  5.29it/s]\n"
          ]
        },
        {
          "metadata": {
            "tags": null
          },
          "name": "stdout",
          "output_type": "stream",
          "text": [
            "Loss: 0.6931543946266174\n",
            "Accuracy: 0.49987202882766724\n",
            "SSIM: 0.4001206159591675\n",
            "PSNR: 12.423362731933594\n",
            "bpp: -0.001535654067993164\n",
            "Epoch 64/100\n"
          ]
        },
        {
          "metadata": {
            "tags": null
          },
          "name": "stderr",
          "output_type": "stream",
          "text": [
            "100%|██████████| 200/200 [00:37<00:00,  5.30it/s]\n",
            "100%|██████████| 200/200 [00:35<00:00,  5.64it/s]\n",
            "100%|██████████| 25/25 [00:04<00:00,  5.23it/s]\n"
          ]
        },
        {
          "metadata": {
            "tags": null
          },
          "name": "stdout",
          "output_type": "stream",
          "text": [
            "Loss: 0.6931484937667847\n",
            "Accuracy: 0.5004851222038269\n",
            "SSIM: 0.35578957200050354\n",
            "PSNR: 11.305310726165771\n",
            "bpp: 0.0058214664459228516\n",
            "Epoch 65/100\n"
          ]
        },
        {
          "metadata": {
            "tags": null
          },
          "name": "stderr",
          "output_type": "stream",
          "text": [
            "100%|██████████| 200/200 [00:37<00:00,  5.30it/s]\n",
            "100%|██████████| 200/200 [00:35<00:00,  5.62it/s]\n",
            "100%|██████████| 25/25 [00:04<00:00,  5.29it/s]\n"
          ]
        },
        {
          "metadata": {
            "tags": null
          },
          "name": "stdout",
          "output_type": "stream",
          "text": [
            "Loss: 0.6931596994400024\n",
            "Accuracy: 0.5000961422920227\n",
            "SSIM: 0.25443512201309204\n",
            "PSNR: 11.429423093795776\n",
            "bpp: 0.001153707504272461\n",
            "Epoch 66/100\n"
          ]
        },
        {
          "metadata": {
            "tags": null
          },
          "name": "stderr",
          "output_type": "stream",
          "text": [
            "100%|██████████| 200/200 [00:37<00:00,  5.29it/s]\n",
            "100%|██████████| 200/200 [00:35<00:00,  5.62it/s]\n",
            "100%|██████████| 25/25 [00:04<00:00,  5.37it/s]\n"
          ]
        },
        {
          "metadata": {
            "tags": null
          },
          "name": "stdout",
          "output_type": "stream",
          "text": [
            "Loss: 0.6931535601615906\n",
            "Accuracy: 0.4999408423900604\n",
            "SSIM: 0.48702147603034973\n",
            "PSNR: 11.997370719909668\n",
            "bpp: -0.0007098913192749023\n",
            "Epoch 67/100\n"
          ]
        },
        {
          "metadata": {
            "tags": null
          },
          "name": "stderr",
          "output_type": "stream",
          "text": [
            "100%|██████████| 200/200 [00:37<00:00,  5.26it/s]\n",
            "100%|██████████| 200/200 [00:35<00:00,  5.65it/s]\n",
            "100%|██████████| 25/25 [00:04<00:00,  5.23it/s]\n"
          ]
        },
        {
          "metadata": {
            "tags": null
          },
          "name": "stdout",
          "output_type": "stream",
          "text": [
            "Loss: 0.6931511163711548\n",
            "Accuracy: 0.5001408457756042\n",
            "SSIM: 0.2925240695476532\n",
            "PSNR: 10.350968837738037\n",
            "bpp: 0.0016901493072509766\n",
            "Epoch 68/100\n"
          ]
        },
        {
          "metadata": {
            "tags": null
          },
          "name": "stderr",
          "output_type": "stream",
          "text": [
            "100%|██████████| 200/200 [00:37<00:00,  5.29it/s]\n",
            "100%|██████████| 200/200 [00:35<00:00,  5.63it/s]\n",
            "100%|██████████| 25/25 [00:04<00:00,  5.20it/s]\n"
          ]
        },
        {
          "metadata": {
            "tags": null
          },
          "name": "stdout",
          "output_type": "stream",
          "text": [
            "Loss: 0.6931531429290771\n",
            "Accuracy: 0.4997135400772095\n",
            "SSIM: 0.4168345630168915\n",
            "PSNR: 10.342333316802979\n",
            "bpp: -0.003437519073486328\n",
            "Epoch 69/100\n"
          ]
        },
        {
          "metadata": {
            "tags": null
          },
          "name": "stderr",
          "output_type": "stream",
          "text": [
            "100%|██████████| 200/200 [00:37<00:00,  5.28it/s]\n",
            "100%|██████████| 200/200 [00:35<00:00,  5.62it/s]\n",
            "100%|██████████| 25/25 [00:04<00:00,  5.36it/s]\n"
          ]
        },
        {
          "metadata": {
            "tags": null
          },
          "name": "stdout",
          "output_type": "stream",
          "text": [
            "Loss: 0.6931535601615906\n",
            "Accuracy: 0.5003748536109924\n",
            "SSIM: 0.46265169978141785\n",
            "PSNR: 14.833413362503052\n",
            "bpp: 0.00449824333190918\n",
            "Epoch 70/100\n"
          ]
        },
        {
          "metadata": {
            "tags": null
          },
          "name": "stderr",
          "output_type": "stream",
          "text": [
            "100%|██████████| 200/200 [00:37<00:00,  5.28it/s]\n",
            "100%|██████████| 200/200 [00:35<00:00,  5.58it/s]\n",
            "100%|██████████| 25/25 [00:04<00:00,  5.23it/s]\n"
          ]
        },
        {
          "metadata": {
            "tags": null
          },
          "name": "stdout",
          "output_type": "stream",
          "text": [
            "Loss: 0.6931637525558472\n",
            "Accuracy: 0.5000103116035461\n",
            "SSIM: 0.37425410747528076\n",
            "PSNR: 10.247058868408203\n",
            "bpp: 0.00012373924255371094\n",
            "Epoch 71/100\n"
          ]
        },
        {
          "metadata": {
            "tags": null
          },
          "name": "stderr",
          "output_type": "stream",
          "text": [
            "100%|██████████| 200/200 [00:37<00:00,  5.26it/s]\n",
            "100%|██████████| 200/200 [00:35<00:00,  5.62it/s]\n",
            "100%|██████████| 25/25 [00:04<00:00,  5.25it/s]\n"
          ]
        },
        {
          "metadata": {
            "tags": null
          },
          "name": "stdout",
          "output_type": "stream",
          "text": [
            "Loss: 0.6931509375572205\n",
            "Accuracy: 0.4998479187488556\n",
            "SSIM: 0.1877046376466751\n",
            "PSNR: 10.218948125839233\n",
            "bpp: -0.0018249750137329102\n",
            "Epoch 72/100\n"
          ]
        },
        {
          "metadata": {
            "tags": null
          },
          "name": "stderr",
          "output_type": "stream",
          "text": [
            "100%|██████████| 200/200 [00:37<00:00,  5.27it/s]\n",
            "100%|██████████| 200/200 [00:35<00:00,  5.64it/s]\n",
            "100%|██████████| 25/25 [00:04<00:00,  5.27it/s]\n"
          ]
        },
        {
          "metadata": {
            "tags": null
          },
          "name": "stdout",
          "output_type": "stream",
          "text": [
            "Loss: 0.693146288394928\n",
            "Accuracy: 0.5006822347640991\n",
            "SSIM: 0.2830701172351837\n",
            "PSNR: 10.175023078918457\n",
            "bpp: 0.008186817169189453\n",
            "Epoch 73/100\n"
          ]
        },
        {
          "output_type": "stream",
          "name": "stderr",
          "text": [
            "100%|██████████| 200/200 [00:37<00:00,  5.28it/s]\n",
            "100%|██████████| 200/200 [00:35<00:00,  5.61it/s]\n",
            "100%|██████████| 25/25 [00:04<00:00,  5.25it/s]\n"
          ]
        },
        {
          "output_type": "stream",
          "name": "stdout",
          "text": [
            "Loss: 0.6931681036949158\n",
            "Accuracy: 0.4996778666973114\n",
            "SSIM: 0.3440202474594116\n",
            "PSNR: 10.312780141830444\n",
            "bpp: -0.0038655996322631836\n",
            "Epoch 74/100\n"
          ]
        },
        {
          "output_type": "stream",
          "name": "stderr",
          "text": [
            "100%|██████████| 200/200 [00:37<00:00,  5.27it/s]\n",
            "100%|██████████| 200/200 [00:35<00:00,  5.64it/s]\n",
            "100%|██████████| 25/25 [00:04<00:00,  5.06it/s]\n"
          ]
        },
        {
          "output_type": "stream",
          "name": "stdout",
          "text": [
            "Loss: 0.6931515336036682\n",
            "Accuracy: 0.5001093149185181\n",
            "SSIM: 0.2863905429840088\n",
            "PSNR: 9.952402114868164\n",
            "bpp: 0.0013117790222167969\n",
            "Epoch 75/100\n"
          ]
        },
        {
          "output_type": "stream",
          "name": "stderr",
          "text": [
            "100%|██████████| 200/200 [00:37<00:00,  5.28it/s]\n",
            "100%|██████████| 200/200 [00:35<00:00,  5.63it/s]\n",
            "100%|██████████| 25/25 [00:04<00:00,  5.16it/s]\n"
          ]
        },
        {
          "output_type": "stream",
          "name": "stdout",
          "text": [
            "Loss: 0.6931492686271667\n",
            "Accuracy: 0.5000887513160706\n",
            "SSIM: 0.2961786985397339\n",
            "PSNR: 11.263784170150757\n",
            "bpp: 0.0010650157928466797\n",
            "Epoch 76/100\n"
          ]
        },
        {
          "output_type": "stream",
          "name": "stderr",
          "text": [
            "100%|██████████| 200/200 [00:38<00:00,  5.25it/s]\n",
            "100%|██████████| 200/200 [00:35<00:00,  5.62it/s]\n",
            "100%|██████████| 25/25 [00:04<00:00,  5.05it/s]\n"
          ]
        },
        {
          "output_type": "stream",
          "name": "stdout",
          "text": [
            "Loss: 0.6931502223014832\n",
            "Accuracy: 0.4999913275241852\n",
            "SSIM: 0.27897360920906067\n",
            "PSNR: 9.802424311637878\n",
            "bpp: -0.00010406970977783203\n",
            "Epoch 77/100\n"
          ]
        },
        {
          "output_type": "stream",
          "name": "stderr",
          "text": [
            "100%|██████████| 200/200 [00:37<00:00,  5.26it/s]\n",
            "100%|██████████| 200/200 [00:35<00:00,  5.59it/s]\n",
            "100%|██████████| 25/25 [00:04<00:00,  5.19it/s]\n"
          ]
        },
        {
          "output_type": "stream",
          "name": "stdout",
          "text": [
            "Loss: 0.6931564211845398\n",
            "Accuracy: 0.4998617470264435\n",
            "SSIM: 0.20061220228672028\n",
            "PSNR: 10.887247323989868\n",
            "bpp: -0.0016590356826782227\n",
            "Epoch 78/100\n"
          ]
        },
        {
          "output_type": "stream",
          "name": "stderr",
          "text": [
            "100%|██████████| 200/200 [00:37<00:00,  5.27it/s]\n",
            "100%|██████████| 200/200 [00:35<00:00,  5.59it/s]\n",
            "100%|██████████| 25/25 [00:04<00:00,  5.09it/s]\n"
          ]
        },
        {
          "output_type": "stream",
          "name": "stdout",
          "text": [
            "Loss: 0.693153440952301\n",
            "Accuracy: 0.5000977516174316\n",
            "SSIM: 0.3754478096961975\n",
            "PSNR: 10.824389457702637\n",
            "bpp: 0.0011730194091796875\n",
            "Epoch 79/100\n"
          ]
        },
        {
          "output_type": "stream",
          "name": "stderr",
          "text": [
            "100%|██████████| 200/200 [00:38<00:00,  5.25it/s]\n",
            "100%|██████████| 200/200 [00:35<00:00,  5.61it/s]\n",
            "100%|██████████| 25/25 [00:04<00:00,  5.21it/s]\n"
          ]
        },
        {
          "output_type": "stream",
          "name": "stdout",
          "text": [
            "Loss: 0.6931511759757996\n",
            "Accuracy: 0.5000874400138855\n",
            "SSIM: 0.3900904953479767\n",
            "PSNR: 11.53048038482666\n",
            "bpp: 0.0010492801666259766\n",
            "Epoch 80/100\n"
          ]
        },
        {
          "output_type": "stream",
          "name": "stderr",
          "text": [
            "100%|██████████| 200/200 [00:38<00:00,  5.25it/s]\n",
            "100%|██████████| 200/200 [00:35<00:00,  5.60it/s]\n",
            "100%|██████████| 25/25 [00:04<00:00,  5.21it/s]\n"
          ]
        },
        {
          "output_type": "stream",
          "name": "stdout",
          "text": [
            "Loss: 0.6931543350219727\n",
            "Accuracy: 0.49986207485198975\n",
            "SSIM: 0.3467927873134613\n",
            "PSNR: 11.033128499984741\n",
            "bpp: -0.0016551017761230469\n",
            "Epoch 81/100\n"
          ]
        },
        {
          "output_type": "stream",
          "name": "stderr",
          "text": [
            "100%|██████████| 200/200 [00:37<00:00,  5.28it/s]\n",
            "100%|██████████| 200/200 [00:35<00:00,  5.59it/s]\n",
            "100%|██████████| 25/25 [00:04<00:00,  5.26it/s]\n"
          ]
        },
        {
          "output_type": "stream",
          "name": "stdout",
          "text": [
            "Loss: 0.6931505799293518\n",
            "Accuracy: 0.49970388412475586\n",
            "SSIM: 0.38278481364250183\n",
            "PSNR: 11.248019933700562\n",
            "bpp: -0.0035533905029296875\n",
            "Epoch 82/100\n"
          ]
        },
        {
          "output_type": "stream",
          "name": "stderr",
          "text": [
            "100%|██████████| 200/200 [00:37<00:00,  5.27it/s]\n",
            "100%|██████████| 200/200 [00:35<00:00,  5.59it/s]\n",
            "100%|██████████| 25/25 [00:04<00:00,  5.18it/s]\n"
          ]
        },
        {
          "output_type": "stream",
          "name": "stdout",
          "text": [
            "Loss: 0.6931667327880859\n",
            "Accuracy: 0.5000115633010864\n",
            "SSIM: 0.26233938336372375\n",
            "PSNR: 10.804740190505981\n",
            "bpp: 0.00013875961303710938\n",
            "Epoch 83/100\n"
          ]
        },
        {
          "output_type": "stream",
          "name": "stderr",
          "text": [
            "100%|██████████| 200/200 [00:38<00:00,  5.26it/s]\n",
            "100%|██████████| 200/200 [00:35<00:00,  5.58it/s]\n",
            "100%|██████████| 25/25 [00:04<00:00,  5.29it/s]\n"
          ]
        },
        {
          "output_type": "stream",
          "name": "stdout",
          "text": [
            "Loss: 0.6931594014167786\n",
            "Accuracy: 0.4999569058418274\n",
            "SSIM: 0.2039196938276291\n",
            "PSNR: 9.342726469039917\n",
            "bpp: -0.0005171298980712891\n",
            "Epoch 84/100\n"
          ]
        },
        {
          "output_type": "stream",
          "name": "stderr",
          "text": [
            "100%|██████████| 200/200 [00:37<00:00,  5.27it/s]\n",
            "100%|██████████| 200/200 [00:35<00:00,  5.59it/s]\n",
            "100%|██████████| 25/25 [00:04<00:00,  5.18it/s]\n"
          ]
        },
        {
          "output_type": "stream",
          "name": "stdout",
          "text": [
            "Loss: 0.6931548714637756\n",
            "Accuracy: 0.5001298785209656\n",
            "SSIM: 0.40546905994415283\n",
            "PSNR: 10.21988034248352\n",
            "bpp: 0.001558542251586914\n",
            "Epoch 85/100\n"
          ]
        },
        {
          "output_type": "stream",
          "name": "stderr",
          "text": [
            "100%|██████████| 200/200 [00:38<00:00,  5.24it/s]\n",
            "100%|██████████| 200/200 [00:35<00:00,  5.58it/s]\n",
            "100%|██████████| 25/25 [00:04<00:00,  5.16it/s]\n"
          ]
        },
        {
          "output_type": "stream",
          "name": "stdout",
          "text": [
            "Loss: 0.6931594014167786\n",
            "Accuracy: 0.4998858571052551\n",
            "SSIM: 0.5586234927177429\n",
            "PSNR: 13.582236766815186\n",
            "bpp: -0.0013697147369384766\n",
            "Epoch 86/100\n"
          ]
        },
        {
          "output_type": "stream",
          "name": "stderr",
          "text": [
            "100%|██████████| 200/200 [00:38<00:00,  5.23it/s]\n",
            "100%|██████████| 200/200 [00:35<00:00,  5.59it/s]\n",
            "100%|██████████| 25/25 [00:04<00:00,  5.25it/s]\n"
          ]
        },
        {
          "output_type": "stream",
          "name": "stdout",
          "text": [
            "Loss: 0.6931684613227844\n",
            "Accuracy: 0.4998202919960022\n",
            "SSIM: 0.2805902361869812\n",
            "PSNR: 9.365135431289673\n",
            "bpp: -0.002156496047973633\n",
            "Epoch 87/100\n"
          ]
        },
        {
          "output_type": "stream",
          "name": "stderr",
          "text": [
            "100%|██████████| 200/200 [00:38<00:00,  5.26it/s]\n",
            "100%|██████████| 200/200 [00:35<00:00,  5.59it/s]\n",
            "100%|██████████| 25/25 [00:04<00:00,  5.22it/s]\n"
          ]
        },
        {
          "output_type": "stream",
          "name": "stdout",
          "text": [
            "Loss: 0.6931629180908203\n",
            "Accuracy: 0.4999311864376068\n",
            "SSIM: 0.43503060936927795\n",
            "PSNR: 12.784953117370605\n",
            "bpp: -0.0008257627487182617\n",
            "Epoch 88/100\n"
          ]
        },
        {
          "output_type": "stream",
          "name": "stderr",
          "text": [
            "100%|██████████| 200/200 [00:38<00:00,  5.24it/s]\n",
            "100%|██████████| 200/200 [00:35<00:00,  5.59it/s]\n",
            "100%|██████████| 25/25 [00:04<00:00,  5.20it/s]\n"
          ]
        },
        {
          "output_type": "stream",
          "name": "stdout",
          "text": [
            "Loss: 0.7525166869163513\n",
            "Accuracy: 0.49927565455436707\n",
            "SSIM: 0.2618720233440399\n",
            "PSNR: 10.08562445640564\n",
            "bpp: -0.008692145347595215\n",
            "Epoch 89/100\n"
          ]
        },
        {
          "output_type": "stream",
          "name": "stderr",
          "text": [
            "100%|██████████| 200/200 [00:38<00:00,  5.26it/s]\n",
            "100%|██████████| 200/200 [00:35<00:00,  5.59it/s]\n",
            "100%|██████████| 25/25 [00:04<00:00,  5.18it/s]\n"
          ]
        },
        {
          "output_type": "stream",
          "name": "stdout",
          "text": [
            "Loss: 0.6932393908500671\n",
            "Accuracy: 0.5000475645065308\n",
            "SSIM: 0.2907819449901581\n",
            "PSNR: 9.592912197113037\n",
            "bpp: 0.0005707740783691406\n",
            "Epoch 90/100\n"
          ]
        },
        {
          "output_type": "stream",
          "name": "stderr",
          "text": [
            "100%|██████████| 200/200 [00:38<00:00,  5.25it/s]\n",
            "100%|██████████| 200/200 [00:35<00:00,  5.59it/s]\n",
            "100%|██████████| 25/25 [00:04<00:00,  5.13it/s]\n"
          ]
        },
        {
          "output_type": "stream",
          "name": "stdout",
          "text": [
            "Loss: 0.6931899189949036\n",
            "Accuracy: 0.5005115270614624\n",
            "SSIM: 0.31859949231147766\n",
            "PSNR: 11.376888751983643\n",
            "bpp: 0.006138324737548828\n",
            "Epoch 91/100\n"
          ]
        },
        {
          "output_type": "stream",
          "name": "stderr",
          "text": [
            "100%|██████████| 200/200 [00:38<00:00,  5.24it/s]\n",
            "100%|██████████| 200/200 [00:35<00:00,  5.59it/s]\n",
            "100%|██████████| 25/25 [00:04<00:00,  5.12it/s]\n"
          ]
        },
        {
          "output_type": "stream",
          "name": "stdout",
          "text": [
            "Loss: 0.6931957006454468\n",
            "Accuracy: 0.4998205900192261\n",
            "SSIM: 0.2118655890226364\n",
            "PSNR: 9.74030315876007\n",
            "bpp: -0.0021529197692871094\n",
            "Epoch 92/100\n"
          ]
        },
        {
          "output_type": "stream",
          "name": "stderr",
          "text": [
            "100%|██████████| 200/200 [00:38<00:00,  5.24it/s]\n",
            "100%|██████████| 200/200 [00:36<00:00,  5.55it/s]\n",
            "100%|██████████| 25/25 [00:04<00:00,  5.16it/s]\n"
          ]
        },
        {
          "output_type": "stream",
          "name": "stdout",
          "text": [
            "Loss: 0.6932438611984253\n",
            "Accuracy: 0.5001514554023743\n",
            "SSIM: 0.38641706109046936\n",
            "PSNR: 11.83868408203125\n",
            "bpp: 0.001817464828491211\n",
            "Epoch 93/100\n"
          ]
        },
        {
          "output_type": "stream",
          "name": "stderr",
          "text": [
            "100%|██████████| 200/200 [00:38<00:00,  5.22it/s]\n",
            "100%|██████████| 200/200 [00:36<00:00,  5.55it/s]\n",
            "100%|██████████| 25/25 [00:04<00:00,  5.23it/s]\n"
          ]
        },
        {
          "output_type": "stream",
          "name": "stdout",
          "text": [
            "Loss: 0.6931797862052917\n",
            "Accuracy: 0.4998466372489929\n",
            "SSIM: 0.36908644437789917\n",
            "PSNR: 12.023401260375977\n",
            "bpp: -0.001840353012084961\n",
            "Epoch 94/100\n"
          ]
        },
        {
          "output_type": "stream",
          "name": "stderr",
          "text": [
            "100%|██████████| 200/200 [00:38<00:00,  5.24it/s]\n",
            "100%|██████████| 200/200 [00:35<00:00,  5.59it/s]\n",
            "100%|██████████| 25/25 [00:04<00:00,  5.09it/s]\n"
          ]
        },
        {
          "output_type": "stream",
          "name": "stdout",
          "text": [
            "Loss: 0.6932042241096497\n",
            "Accuracy: 0.5000559687614441\n",
            "SSIM: 0.5414451360702515\n",
            "PSNR: 12.52079963684082\n",
            "bpp: 0.0006716251373291016\n",
            "Epoch 95/100\n"
          ]
        },
        {
          "output_type": "stream",
          "name": "stderr",
          "text": [
            "100%|██████████| 200/200 [00:38<00:00,  5.24it/s]\n",
            "100%|██████████| 200/200 [00:35<00:00,  5.58it/s]\n",
            "100%|██████████| 25/25 [00:04<00:00,  5.18it/s]\n"
          ]
        },
        {
          "output_type": "stream",
          "name": "stdout",
          "text": [
            "Loss: 0.6931663751602173\n",
            "Accuracy: 0.5001041889190674\n",
            "SSIM: 0.519837498664856\n",
            "PSNR: 11.572203636169434\n",
            "bpp: 0.0012502670288085938\n",
            "Epoch 96/100\n"
          ]
        },
        {
          "output_type": "stream",
          "name": "stderr",
          "text": [
            "100%|██████████| 200/200 [00:38<00:00,  5.21it/s]\n",
            "100%|██████████| 200/200 [00:36<00:00,  5.54it/s]\n",
            "100%|██████████| 25/25 [00:04<00:00,  5.25it/s]\n"
          ]
        },
        {
          "output_type": "stream",
          "name": "stdout",
          "text": [
            "Loss: 0.6933670043945312\n",
            "Accuracy: 0.5000929236412048\n",
            "SSIM: 0.3157981336116791\n",
            "PSNR: 9.916038513183594\n",
            "bpp: 0.0011150836944580078\n",
            "Epoch 97/100\n"
          ]
        },
        {
          "output_type": "stream",
          "name": "stderr",
          "text": [
            "100%|██████████| 200/200 [00:38<00:00,  5.23it/s]\n",
            "100%|██████████| 200/200 [00:35<00:00,  5.60it/s]\n",
            "100%|██████████| 25/25 [00:04<00:00,  5.16it/s]\n"
          ]
        },
        {
          "output_type": "stream",
          "name": "stdout",
          "text": [
            "Loss: 0.6931609511375427\n",
            "Accuracy: 0.49993279576301575\n",
            "SSIM: 0.38353607058525085\n",
            "PSNR: 10.594438314437866\n",
            "bpp: -0.0008064508438110352\n",
            "Epoch 98/100\n"
          ]
        },
        {
          "output_type": "stream",
          "name": "stderr",
          "text": [
            "100%|██████████| 200/200 [00:38<00:00,  5.22it/s]\n",
            "100%|██████████| 200/200 [00:35<00:00,  5.59it/s]\n",
            "100%|██████████| 25/25 [00:04<00:00,  5.18it/s]\n"
          ]
        },
        {
          "output_type": "stream",
          "name": "stdout",
          "text": [
            "Loss: 0.6931827068328857\n",
            "Accuracy: 0.5004288554191589\n",
            "SSIM: 0.34548020362854004\n",
            "PSNR: 10.399279594421387\n",
            "bpp: 0.0051462650299072266\n",
            "Epoch 99/100\n"
          ]
        },
        {
          "output_type": "stream",
          "name": "stderr",
          "text": [
            "100%|██████████| 200/200 [00:38<00:00,  5.23it/s]\n",
            "100%|██████████| 200/200 [00:35<00:00,  5.58it/s]\n",
            "100%|██████████| 25/25 [00:04<00:00,  5.15it/s]\n"
          ]
        },
        {
          "output_type": "stream",
          "name": "stdout",
          "text": [
            "Loss: 0.6932684183120728\n",
            "Accuracy: 0.5001790523529053\n",
            "SSIM: 0.40793976187705994\n",
            "PSNR: 11.098002195358276\n",
            "bpp: 0.0021486282348632812\n",
            "Epoch 100/100\n"
          ]
        },
        {
          "output_type": "stream",
          "name": "stderr",
          "text": [
            "100%|██████████| 200/200 [00:38<00:00,  5.23it/s]\n",
            "100%|██████████| 200/200 [00:36<00:00,  5.54it/s]\n",
            "100%|██████████| 25/25 [00:04<00:00,  5.22it/s]\n"
          ]
        },
        {
          "output_type": "stream",
          "name": "stdout",
          "text": [
            "Loss: 0.6931648850440979\n",
            "Accuracy: 0.5003568530082703\n",
            "SSIM: 0.34553876519203186\n",
            "PSNR: 10.298099517822266\n",
            "bpp: 0.004282236099243164\n"
          ]
        }
      ],
      "source": [
        "# Fit on the given data\n",
        "steganography.fit(train, validation, epochs=100)\n"
      ]
    },
    {
      "cell_type": "code",
      "execution_count": 19,
      "metadata": {
        "colab": {
          "base_uri": "https://localhost:8080/"
        },
        "id": "5azDVZwk77s9",
        "outputId": "cc82e53b-6bd9-4a04-b8a2-3aa637d0c68f"
      },
      "outputs": [
        {
          "output_type": "stream",
          "name": "stdout",
          "text": [
            "mkdir: cannot create directory ‘models’: File exists\n"
          ]
        },
        {
          "output_type": "stream",
          "name": "stderr",
          "text": [
            "/usr/local/lib/python3.7/dist-packages/torch/serialization.py:250: UserWarning: Couldn't retrieve source code for container of type Encoder. It won't be checked for correctness upon loading.\n",
            "  \"type \" + obj.__name__ + \". It won't be checked \"\n",
            "/usr/local/lib/python3.7/dist-packages/torch/serialization.py:250: UserWarning: Couldn't retrieve source code for container of type Decoder. It won't be checked for correctness upon loading.\n",
            "  \"type \" + obj.__name__ + \". It won't be checked \"\n",
            "/usr/local/lib/python3.7/dist-packages/torch/serialization.py:250: UserWarning: Couldn't retrieve source code for container of type Critic. It won't be checked for correctness upon loading.\n",
            "  \"type \" + obj.__name__ + \". It won't be checked \"\n"
          ]
        }
      ],
      "source": [
        "!mkdir models\n",
        "steganography.save('models/basic_100.steg')"
      ]
    }
  ],
  "metadata": {
    "accelerator": "GPU",
    "colab": {
      "collapsed_sections": [],
      "machine_shape": "hm",
      "name": "steg_50_AU.ipynb",
      "provenance": []
    },
    "kernelspec": {
      "display_name": "Python 3",
      "name": "python3"
    },
    "language_info": {
      "name": "python"
    }
  },
  "nbformat": 4,
  "nbformat_minor": 0
}